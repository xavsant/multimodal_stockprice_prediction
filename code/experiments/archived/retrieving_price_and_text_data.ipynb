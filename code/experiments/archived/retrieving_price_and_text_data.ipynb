{
 "cells": [
  {
   "cell_type": "markdown",
   "metadata": {},
   "source": [
    "##### Stock Price Data using yfinance"
   ]
  },
  {
   "cell_type": "code",
   "execution_count": 2,
   "metadata": {},
   "outputs": [],
   "source": [
    "# Imports\n",
    "import yfinance as yf\n",
    "import datetime as dt"
   ]
  },
  {
   "cell_type": "code",
   "execution_count": null,
   "metadata": {},
   "outputs": [
    {
     "name": "stderr",
     "output_type": "stream",
     "text": [
      "[*********************100%***********************]  2 of 2 completed\n"
     ]
    },
    {
     "data": {
      "text/html": [
       "<div>\n",
       "<style scoped>\n",
       "    .dataframe tbody tr th:only-of-type {\n",
       "        vertical-align: middle;\n",
       "    }\n",
       "\n",
       "    .dataframe tbody tr th {\n",
       "        vertical-align: top;\n",
       "    }\n",
       "\n",
       "    .dataframe thead tr th {\n",
       "        text-align: left;\n",
       "    }\n",
       "\n",
       "    .dataframe thead tr:last-of-type th {\n",
       "        text-align: right;\n",
       "    }\n",
       "</style>\n",
       "<table border=\"1\" class=\"dataframe\">\n",
       "  <thead>\n",
       "    <tr>\n",
       "      <th>Price</th>\n",
       "      <th colspan=\"2\" halign=\"left\">Adj Close</th>\n",
       "      <th colspan=\"2\" halign=\"left\">Close</th>\n",
       "      <th colspan=\"2\" halign=\"left\">High</th>\n",
       "      <th colspan=\"2\" halign=\"left\">Low</th>\n",
       "      <th colspan=\"2\" halign=\"left\">Open</th>\n",
       "      <th colspan=\"2\" halign=\"left\">Volume</th>\n",
       "    </tr>\n",
       "    <tr>\n",
       "      <th>Ticker</th>\n",
       "      <th>AAPL</th>\n",
       "      <th>TSLA</th>\n",
       "      <th>AAPL</th>\n",
       "      <th>TSLA</th>\n",
       "      <th>AAPL</th>\n",
       "      <th>TSLA</th>\n",
       "      <th>AAPL</th>\n",
       "      <th>TSLA</th>\n",
       "      <th>AAPL</th>\n",
       "      <th>TSLA</th>\n",
       "      <th>AAPL</th>\n",
       "      <th>TSLA</th>\n",
       "    </tr>\n",
       "    <tr>\n",
       "      <th>Date</th>\n",
       "      <th></th>\n",
       "      <th></th>\n",
       "      <th></th>\n",
       "      <th></th>\n",
       "      <th></th>\n",
       "      <th></th>\n",
       "      <th></th>\n",
       "      <th></th>\n",
       "      <th></th>\n",
       "      <th></th>\n",
       "      <th></th>\n",
       "      <th></th>\n",
       "    </tr>\n",
       "  </thead>\n",
       "  <tbody>\n",
       "    <tr>\n",
       "      <th>2024-11-19</th>\n",
       "      <td>228.029282</td>\n",
       "      <td>346.000000</td>\n",
       "      <td>228.279999</td>\n",
       "      <td>346.000000</td>\n",
       "      <td>230.160004</td>\n",
       "      <td>347.380005</td>\n",
       "      <td>226.660004</td>\n",
       "      <td>332.750000</td>\n",
       "      <td>226.979996</td>\n",
       "      <td>335.760010</td>\n",
       "      <td>36211800</td>\n",
       "      <td>88852500</td>\n",
       "    </tr>\n",
       "    <tr>\n",
       "      <th>2024-11-20</th>\n",
       "      <td>228.748489</td>\n",
       "      <td>342.029999</td>\n",
       "      <td>229.000000</td>\n",
       "      <td>342.029999</td>\n",
       "      <td>229.929993</td>\n",
       "      <td>346.600006</td>\n",
       "      <td>225.889999</td>\n",
       "      <td>334.299988</td>\n",
       "      <td>228.059998</td>\n",
       "      <td>345.000000</td>\n",
       "      <td>35169600</td>\n",
       "      <td>66340700</td>\n",
       "    </tr>\n",
       "    <tr>\n",
       "      <th>2024-11-21</th>\n",
       "      <td>228.269028</td>\n",
       "      <td>339.640015</td>\n",
       "      <td>228.520004</td>\n",
       "      <td>339.640015</td>\n",
       "      <td>230.160004</td>\n",
       "      <td>347.989990</td>\n",
       "      <td>225.710007</td>\n",
       "      <td>335.279999</td>\n",
       "      <td>228.880005</td>\n",
       "      <td>343.809998</td>\n",
       "      <td>42108300</td>\n",
       "      <td>58011700</td>\n",
       "    </tr>\n",
       "    <tr>\n",
       "      <th>2024-11-22</th>\n",
       "      <td>229.617538</td>\n",
       "      <td>352.559998</td>\n",
       "      <td>229.869995</td>\n",
       "      <td>352.559998</td>\n",
       "      <td>230.720001</td>\n",
       "      <td>361.529999</td>\n",
       "      <td>228.059998</td>\n",
       "      <td>337.700012</td>\n",
       "      <td>228.059998</td>\n",
       "      <td>341.089996</td>\n",
       "      <td>38168300</td>\n",
       "      <td>89140700</td>\n",
       "    </tr>\n",
       "    <tr>\n",
       "      <th>2024-11-25</th>\n",
       "      <td>232.614243</td>\n",
       "      <td>338.589996</td>\n",
       "      <td>232.869995</td>\n",
       "      <td>338.589996</td>\n",
       "      <td>233.250000</td>\n",
       "      <td>361.929993</td>\n",
       "      <td>229.740005</td>\n",
       "      <td>338.200012</td>\n",
       "      <td>231.460007</td>\n",
       "      <td>360.140015</td>\n",
       "      <td>90152800</td>\n",
       "      <td>95890900</td>\n",
       "    </tr>\n",
       "  </tbody>\n",
       "</table>\n",
       "</div>"
      ],
      "text/plain": [
       "Price        Adj Close                   Close                    High  \\\n",
       "Ticker            AAPL        TSLA        AAPL        TSLA        AAPL   \n",
       "Date                                                                     \n",
       "2024-11-19  228.029282  346.000000  228.279999  346.000000  230.160004   \n",
       "2024-11-20  228.748489  342.029999  229.000000  342.029999  229.929993   \n",
       "2024-11-21  228.269028  339.640015  228.520004  339.640015  230.160004   \n",
       "2024-11-22  229.617538  352.559998  229.869995  352.559998  230.720001   \n",
       "2024-11-25  232.614243  338.589996  232.869995  338.589996  233.250000   \n",
       "\n",
       "Price                          Low                    Open              \\\n",
       "Ticker            TSLA        AAPL        TSLA        AAPL        TSLA   \n",
       "Date                                                                     \n",
       "2024-11-19  347.380005  226.660004  332.750000  226.979996  335.760010   \n",
       "2024-11-20  346.600006  225.889999  334.299988  228.059998  345.000000   \n",
       "2024-11-21  347.989990  225.710007  335.279999  228.880005  343.809998   \n",
       "2024-11-22  361.529999  228.059998  337.700012  228.059998  341.089996   \n",
       "2024-11-25  361.929993  229.740005  338.200012  231.460007  360.140015   \n",
       "\n",
       "Price         Volume            \n",
       "Ticker          AAPL      TSLA  \n",
       "Date                            \n",
       "2024-11-19  36211800  88852500  \n",
       "2024-11-20  35169600  66340700  \n",
       "2024-11-21  42108300  58011700  \n",
       "2024-11-22  38168300  89140700  \n",
       "2024-11-25  90152800  95890900  "
      ]
     },
     "execution_count": 4,
     "metadata": {},
     "output_type": "execute_result"
    }
   ],
   "source": [
    "stocks = ['AAPL', 'TSLA']\n",
    "start_date = dt.datetime.now() - dt.timedelta(days=90)\n",
    "end_date = dt.date(2024, 12, 31)\n",
    "\n",
    "df = yf.download(stocks, start_date, end_date)\n",
    "df.head()"
   ]
  },
  {
   "cell_type": "markdown",
   "metadata": {},
   "source": [
    "##### News Data using NY Times Archive API\n",
    "More information on the API [here](https://developer.nytimes.com/docs/articlesearch-product/1/overview)."
   ]
  },
  {
   "cell_type": "code",
   "execution_count": 2,
   "metadata": {},
   "outputs": [],
   "source": [
    "# Imports\n",
    "import requests\n",
    "from os import getenv\n",
    "from dotenv import load_dotenv"
   ]
  },
  {
   "cell_type": "code",
   "execution_count": 3,
   "metadata": {},
   "outputs": [],
   "source": [
    "# Parameters\n",
    "load_dotenv()\n",
    "API_KEY = getenv(\"NYT_API_KEY\")\n",
    "begin_date = \"20250130\"\n",
    "end_date = \"20250210\"\n",
    "fq = 'DeepSeek AND section_name:(\"Business\" OR \"Technology\" OR \"Markets\")'\n",
    "\n",
    "url = f\"https://api.nytimes.com/svc/search/v2/articlesearch.json?fq={fq}&begin_date={begin_date}&end_date={end_date}&api-key={API_KEY}\"\n",
    "response = requests.get(url)"
   ]
  },
  {
   "cell_type": "code",
   "execution_count": 4,
   "metadata": {},
   "outputs": [
    {
     "name": "stdout",
     "output_type": "stream",
     "text": [
      "Number of articles: 10\n",
      "\n",
      "- Microsoft and Nvidia: The Tech Giants Taking a Quieter Approach to Trump\n",
      "  URL: https://www.nytimes.com/2025/02/08/technology/microsoft-nvidia-trump.html\n",
      "\n",
      "- How Helpful Is Operator, OpenAI’s New A.I. Agent?\n",
      "  URL: https://www.nytimes.com/2025/02/01/technology/openai-operator-agent.html\n",
      "\n",
      "- Alphabet Revenue Disappoints Investors on Weak Cloud Sales\n",
      "  URL: https://www.nytimes.com/2025/02/04/technology/alphabet-google-earnings.html\n",
      "\n",
      "- What DeepSeek? Big Tech Keeps Its A.I. Building Boom Alive.\n",
      "  URL: https://www.nytimes.com/2025/02/08/technology/deepseek-data-centers-ai.html\n",
      "\n",
      "- SoftBank Said to Be in Talks to Invest as Much as $25 Billion in OpenAI\n",
      "  URL: https://www.nytimes.com/2025/01/30/technology/softbank-openai-ai-investment.html\n",
      "\n"
     ]
    }
   ],
   "source": [
    "# Check response status\n",
    "if response.status_code == 200:\n",
    "    data = response.json()\n",
    "    articles = data.get(\"response\", {}).get(\"docs\", [])\n",
    "\n",
    "    print(f\"Number of articles: {len(articles)}\\n\")\n",
    "    \n",
    "    # Print the first 5 articles\n",
    "    for article in articles[:5]: \n",
    "        print(f\"- {article.get('headline', {}).get('main', 'No title')}\")\n",
    "        print(f\"  URL: {article.get('web_url', 'No URL')}\\n\")\n",
    "\n",
    "else:\n",
    "    print(f\"Error: {response.status_code}, {response.text}\")"
   ]
  },
  {
   "cell_type": "markdown",
   "metadata": {},
   "source": [
    "##### Data used in Reviewed Papers (non-exhaustive)"
   ]
  },
  {
   "cell_type": "markdown",
   "metadata": {},
   "source": [
    "[Stock market prediction analysis by incorporating social and news opinion and sentiment](https://ink.library.smu.edu.sg/cgi/viewcontent.cgi?article=6485&context=sis_research)<br>\n",
    "Stock Price Data: Uses DJIA data from Yahoo Finance from 1/1/2007 to 31/12/2016.<br>\n",
    "**News** Data: Uses articles from NY Time Archive (via API), from 1/1/2007 to 31/12/2016. "
   ]
  },
  {
   "cell_type": "markdown",
   "metadata": {},
   "source": [
    "[Stock Movement Prediction with Multimodal Stable Fusion via Gated Cross-Attention Mechanism](https://arxiv.org/abs/2406.06594)<br>\n",
    "3 of the 4 datasets from this paper can be found [here](https://github.com/deeptrade-public/slot).<br>\n",
    "These datasets comprise of stock price data and **twitter** data from 2014 to 2020, each dataset contains data on 38-87 stocks."
   ]
  },
  {
   "cell_type": "code",
   "execution_count": null,
   "metadata": {},
   "outputs": [],
   "source": []
  }
 ],
 "metadata": {
  "kernelspec": {
   "display_name": ".venv",
   "language": "python",
   "name": "python3"
  },
  "language_info": {
   "codemirror_mode": {
    "name": "ipython",
    "version": 3
   },
   "file_extension": ".py",
   "mimetype": "text/x-python",
   "name": "python",
   "nbconvert_exporter": "python",
   "pygments_lexer": "ipython3",
   "version": "3.12.4"
  }
 },
 "nbformat": 4,
 "nbformat_minor": 2
}
