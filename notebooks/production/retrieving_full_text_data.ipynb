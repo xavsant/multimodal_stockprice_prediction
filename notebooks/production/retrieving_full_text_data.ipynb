{
 "cells": [
  {
   "cell_type": "markdown",
   "metadata": {},
   "source": [
    "### Imports"
   ]
  },
  {
   "cell_type": "code",
   "execution_count": 2,
   "metadata": {},
   "outputs": [],
   "source": [
    "# NYTimes News Data\n",
    "from bs4 import BeautifulSoup\n",
    "import requests\n",
    "\n",
    "# Utility\n",
    "from pathlib import Path\n",
    "from os import path\n",
    "import json\n",
    "import time\n",
    "import random"
   ]
  },
  {
   "cell_type": "markdown",
   "metadata": {},
   "source": [
    "### Functions"
   ]
  },
  {
   "cell_type": "code",
   "execution_count": 3,
   "metadata": {},
   "outputs": [],
   "source": [
    "def get_filepaths(directory_path: str):\n",
    "    # Get all .json files (including subdirectories) that do not start with 'fulltext'\n",
    "    json_filepaths = [str(file) for file in Path(directory_path).rglob(\"*.json\") if not file.name.startswith(\"fulltext\")]\n",
    "\n",
    "    return json_filepaths"
   ]
  },
  {
   "cell_type": "code",
   "execution_count": 4,
   "metadata": {},
   "outputs": [],
   "source": [
    "def filter_scraped_files(directory_path: str):\n",
    "    # Get all .json files without 'fulltext' prefix\n",
    "    json_filepaths = [str(file) for file in Path(directory_path).rglob(\"*.json\") if not file.name.startswith(\"fulltext\")]\n",
    "    \n",
    "    # Create a set of filenames of fulltext files\n",
    "    fulltext_files = {str(file).replace(\"fulltext_\", \"\") for file in Path(directory_path).rglob(\"fulltext_*.json\")}\n",
    "    \n",
    "    # Filter out files that have a corresponding fulltext version\n",
    "    remaining_files = [file for file in json_filepaths if file not in fulltext_files]\n",
    "    \n",
    "    return remaining_files"
   ]
  },
  {
   "cell_type": "code",
   "execution_count": 5,
   "metadata": {},
   "outputs": [],
   "source": [
    "def to_json(filepath: str, export_file: list[dict], verbose: bool):\n",
    "    # Modify filepath for export\n",
    "    directory, filename = path.split(filepath)\n",
    "    export_filename = f\"fulltext_{filename}\"\n",
    "    export_filepath = path.join(directory, export_filename)\n",
    "\n",
    "    # Export as .json\n",
    "    with open(export_filepath, 'w') as json_file:\n",
    "        json.dump(export_file, json_file, indent=4)\n",
    "\n",
    "    if verbose:\n",
    "        print(f\"Processed '{export_filepath}'\")"
   ]
  },
  {
   "cell_type": "code",
   "execution_count": 6,
   "metadata": {},
   "outputs": [],
   "source": [
    "def fall_back_scrape_full_text(url: str):\n",
    "    # Fall-back\n",
    "    # Load HTML content\n",
    "    response_fallback = requests.get(url)\n",
    "\n",
    "    # Create a BeautifulSoup object\n",
    "    soup_fallback = BeautifulSoup(response_fallback.text, 'html.parser')\n",
    "\n",
    "    # Extract text from HTML\n",
    "    article_container = soup_fallback.find('article')\n",
    "\n",
    "    # Extract text from found element\n",
    "    if article_container:\n",
    "        full_text = \"\\n\".join([p.get_text(strip=True) for p in article_container.find_all('p')])  # Extract paragraphs\n",
    "    else:\n",
    "        full_text = \"Article content not found\"\n",
    "\n",
    "    return full_text"
   ]
  },
  {
   "cell_type": "code",
   "execution_count": null,
   "metadata": {},
   "outputs": [],
   "source": [
    "def scrape_nyt_url(json_filepaths: list[str]):\n",
    "    for file in json_filepaths:\n",
    "        # Open .json\n",
    "        with open(file, \"r\") as f:\n",
    "            response = json.load(f)  # Load JSON data into a dictionary\n",
    "\n",
    "        # ---\n",
    "\n",
    "        # Get all web urls\n",
    "        web_url_list = [article['web_url'] for article in response['response']['docs']]\n",
    "\n",
    "        # List to store article data for export\n",
    "        list_of_dict = []\n",
    "\n",
    "        # ---\n",
    "        \n",
    "        # Iterate through web urls\n",
    "        for url in web_url_list:\n",
    "            # Define cookies\n",
    "            cookies = {\n",
    "                'NYT-S': '0^CBoSMgjF7da9BhC97ta9BhoSMS1qd3Ea0m1PjbGpq1jtSSAHIJLLjoMBKgIeVTjk7Na9BkIAGkCwi7Y_MpnrnqVRK7WxxFDMWv-erTIO-gLCzzB1Wtjk2YafkXvM-_QxC8oolznB0k_Pd8j67k1SosAJEfO6BoEM',\n",
    "                'nyt-a': 'fill in'\n",
    "            }\n",
    "\n",
    "            headers = {\n",
    "                \"User-Agent\": \"Mozilla/5.0 (Windows NT 10.0; Win64; x64) AppleWebKit/537.36 (KHTML, like Gecko) Chrome/110.0.0.0 Safari/537.36\"\n",
    "            }\n",
    "\n",
    "            # Use session with cookies\n",
    "            session = requests.Session()\n",
    "            response = session.get(url, headers=headers, cookies=cookies)\n",
    "\n",
    "            # Parse the content\n",
    "            soup = BeautifulSoup(response.text, 'html.parser')\n",
    "\n",
    "            # Extract title (either <h1> or <title>)\n",
    "            title = soup.find('h1')\n",
    "            if not title:\n",
    "                title = soup.find('title')\n",
    "\n",
    "            # Extract full article text (either from <section> or <article>)\n",
    "            article_container = soup.find('section', {'name': 'articleBody'} or soup.find('article'))\n",
    "            if article_container:\n",
    "                full_text = \"\\n\".join([p.get_text(strip=True) for p in article_container.find_all('p')])  # Extract paragraphs\n",
    "            else:\n",
    "                # Fall-back\n",
    "                full_text = fall_back_scrape_full_text(url)\n",
    "\n",
    "            # Prepare result as a dictionary\n",
    "            result = {\n",
    "                'url': url,\n",
    "                'title': title.get_text(strip=True) if title else 'Title not found',\n",
    "                'fulltext': full_text\n",
    "            }\n",
    "\n",
    "            list_of_dict.append(result)\n",
    "\n",
    "            # Introduce a random delay between 1 and 3 seconds\n",
    "            time.sleep(random.uniform(1, 3))\n",
    "\n",
    "        to_json(filepath=file, export_file=list_of_dict, verbose=1)"
   ]
  },
  {
   "cell_type": "markdown",
   "metadata": {},
   "source": [
    "### Execution"
   ]
  },
  {
   "cell_type": "code",
   "execution_count": 8,
   "metadata": {},
   "outputs": [
    {
     "name": "stdout",
     "output_type": "stream",
     "text": [
      "84\n"
     ]
    },
    {
     "data": {
      "text/plain": [
       "['../../data/raw/2017/organizations_Apple_Inc_mth05_pg1.json',\n",
       " '../../data/raw/2017/organizations_Apple_Inc_mth12_pg0.json',\n",
       " '../../data/raw/2017/organizations_Apple_Inc_mth12_pg1.json']"
      ]
     },
     "execution_count": 8,
     "metadata": {},
     "output_type": "execute_result"
    }
   ],
   "source": [
    "# Get filepaths\n",
    "# json_filepaths = get_filepaths(directory_path = \"../../data/raw/\")\n",
    "# print(len(json_filepaths))\n",
    "# json_filepaths[0:3]\n",
    "\n",
    "# Get remaining filepaths\n",
    "json_filepaths = filter_scraped_files(directory_path = \"../../data/raw/\")\n",
    "print(len(json_filepaths))\n",
    "json_filepaths[0:3]\n"
   ]
  },
  {
   "cell_type": "code",
   "execution_count": 9,
   "metadata": {},
   "outputs": [
    {
     "name": "stdout",
     "output_type": "stream",
     "text": [
      "Processed '../../data/raw/2017/fulltext_organizations_Apple_Inc_mth05_pg1.json'\n",
      "Processed '../../data/raw/2017/fulltext_organizations_Apple_Inc_mth12_pg0.json'\n",
      "Processed '../../data/raw/2017/fulltext_organizations_Apple_Inc_mth12_pg1.json'\n",
      "Processed '../../data/raw/2017/fulltext_organizations_Apple_Inc_mth01_pg2.json'\n",
      "Processed '../../data/raw/2017/fulltext_organizations_Apple_Inc_mth04_pg0.json'\n",
      "Processed '../../data/raw/2017/fulltext_organizations_Apple_Inc_mth05_pg0.json'\n",
      "Processed '../../data/raw/2017/fulltext_organizations_Apple_Inc_mth09_pg0.json'\n",
      "Processed '../../data/raw/2017/fulltext_organizations_Apple_Inc_mth08_pg0.json'\n",
      "Processed '../../data/raw/2017/fulltext_organizations_Apple_Inc_mth03_pg0.json'\n",
      "Processed '../../data/raw/2017/fulltext_organizations_Apple_Inc_mth02_pg0.json'\n",
      "Processed '../../data/raw/2017/fulltext_organizations_Apple_Inc_mth11_pg2.json'\n",
      "Processed '../../data/raw/2017/fulltext_organizations_Apple_Inc_mth10_pg2.json'\n",
      "Processed '../../data/raw/2017/fulltext_organizations_Apple_Inc_mth03_pg1.json'\n",
      "Processed '../../data/raw/2017/fulltext_organizations_Apple_Inc_mth02_pg1.json'\n",
      "Processed '../../data/raw/2017/fulltext_organizations_Apple_Inc_mth09_pg1.json'\n",
      "Processed '../../data/raw/2017/fulltext_organizations_Apple_Inc_mth08_pg1.json'\n",
      "Processed '../../data/raw/2017/fulltext_organizations_Apple_Inc_mth07_pg0.json'\n",
      "Processed '../../data/raw/2017/fulltext_organizations_Apple_Inc_mth06_pg0.json'\n",
      "Processed '../../data/raw/2017/fulltext_organizations_Apple_Inc_mth10_pg1.json'\n",
      "Processed '../../data/raw/2017/fulltext_organizations_Apple_Inc_mth11_pg1.json'\n",
      "Processed '../../data/raw/2017/fulltext_organizations_Apple_Inc_mth10_pg0.json'\n",
      "Processed '../../data/raw/2017/fulltext_organizations_Apple_Inc_mth11_pg0.json'\n",
      "Processed '../../data/raw/2017/fulltext_organizations_Apple_Inc_mth07_pg1.json'\n",
      "Processed '../../data/raw/2017/fulltext_organizations_Apple_Inc_mth06_pg1.json'\n",
      "Processed '../../data/raw/2017/fulltext_organizations_Apple_Inc_mth01_pg1.json'\n",
      "Processed '../../data/raw/2017/fulltext_organizations_Apple_Inc_mth01_pg0.json'\n",
      "Processed '../../data/raw/2017/fulltext_organizations_Apple_Inc_mth05_pg2.json'\n",
      "Processed '../../data/raw/2019/fulltext_organizations_Apple_Inc_mth04_pg1.json'\n",
      "Processed '../../data/raw/2019/fulltext_organizations_Apple_Inc_mth05_pg1.json'\n",
      "Processed '../../data/raw/2019/fulltext_organizations_Apple_Inc_mth01_pg3.json'\n",
      "Processed '../../data/raw/2019/fulltext_organizations_Apple_Inc_mth12_pg0.json'\n",
      "Processed '../../data/raw/2019/fulltext_organizations_Apple_Inc_mth12_pg1.json'\n",
      "Processed '../../data/raw/2019/fulltext_organizations_Apple_Inc_mth01_pg2.json'\n",
      "Processed '../../data/raw/2019/fulltext_organizations_Apple_Inc_mth04_pg0.json'\n",
      "Processed '../../data/raw/2019/fulltext_organizations_Apple_Inc_mth05_pg0.json'\n",
      "Processed '../../data/raw/2019/fulltext_organizations_Apple_Inc_mth06_pg2.json'\n",
      "Processed '../../data/raw/2019/fulltext_organizations_Apple_Inc_mth09_pg0.json'\n",
      "Processed '../../data/raw/2019/fulltext_organizations_Apple_Inc_mth08_pg0.json'\n",
      "Processed '../../data/raw/2019/fulltext_organizations_Apple_Inc_mth03_pg0.json'\n",
      "Processed '../../data/raw/2019/fulltext_organizations_Apple_Inc_mth02_pg0.json'\n",
      "Processed '../../data/raw/2019/fulltext_organizations_Apple_Inc_mth11_pg2.json'\n",
      "Processed '../../data/raw/2019/fulltext_organizations_Apple_Inc_mth03_pg1.json'\n",
      "Processed '../../data/raw/2019/fulltext_organizations_Apple_Inc_mth02_pg1.json'\n",
      "Processed '../../data/raw/2019/fulltext_organizations_Apple_Inc_mth09_pg1.json'\n",
      "Processed '../../data/raw/2019/fulltext_organizations_Apple_Inc_mth08_pg1.json'\n",
      "Processed '../../data/raw/2019/fulltext_organizations_Apple_Inc_mth09_pg2.json'\n",
      "Processed '../../data/raw/2019/fulltext_organizations_Apple_Inc_mth07_pg0.json'\n",
      "Processed '../../data/raw/2019/fulltext_organizations_Apple_Inc_mth06_pg0.json'\n",
      "Processed '../../data/raw/2019/fulltext_organizations_Apple_Inc_mth10_pg1.json'\n",
      "Processed '../../data/raw/2019/fulltext_organizations_Apple_Inc_mth11_pg1.json'\n",
      "Processed '../../data/raw/2019/fulltext_organizations_Apple_Inc_mth10_pg0.json'\n",
      "Processed '../../data/raw/2019/fulltext_organizations_Apple_Inc_mth11_pg0.json'\n",
      "Processed '../../data/raw/2019/fulltext_organizations_Apple_Inc_mth07_pg1.json'\n",
      "Processed '../../data/raw/2019/fulltext_organizations_Apple_Inc_mth06_pg1.json'\n",
      "Processed '../../data/raw/2019/fulltext_organizations_Apple_Inc_mth01_pg1.json'\n",
      "Processed '../../data/raw/2019/fulltext_organizations_Apple_Inc_mth01_pg0.json'\n",
      "Processed '../../data/raw/2019/fulltext_organizations_Apple_Inc_mth04_pg2.json'\n",
      "Processed '../../data/raw/2021/fulltext_organizations_Apple_Inc_mth04_pg1.json'\n",
      "Processed '../../data/raw/2021/fulltext_organizations_Apple_Inc_mth05_pg1.json'\n",
      "Processed '../../data/raw/2021/fulltext_organizations_Apple_Inc_mth12_pg0.json'\n",
      "Processed '../../data/raw/2021/fulltext_organizations_Apple_Inc_mth04_pg0.json'\n",
      "Processed '../../data/raw/2021/fulltext_organizations_Apple_Inc_mth05_pg0.json'\n",
      "Processed '../../data/raw/2021/fulltext_organizations_Apple_Inc_mth06_pg2.json'\n",
      "Processed '../../data/raw/2021/fulltext_organizations_Apple_Inc_mth09_pg0.json'\n",
      "Processed '../../data/raw/2021/fulltext_organizations_Apple_Inc_mth08_pg0.json'\n",
      "Processed '../../data/raw/2021/fulltext_organizations_Apple_Inc_mth03_pg0.json'\n",
      "Processed '../../data/raw/2021/fulltext_organizations_Apple_Inc_mth02_pg0.json'\n",
      "Processed '../../data/raw/2021/fulltext_organizations_Apple_Inc_mth09_pg1.json'\n",
      "Processed '../../data/raw/2016/fulltext_organizations_Apple_Inc_mth11_pg1.json'\n",
      "Processed '../../data/raw/2016/fulltext_organizations_Apple_Inc_mth02_pg2.json'\n",
      "Processed '../../data/raw/2016/fulltext_organizations_Apple_Inc_mth03_pg2.json'\n",
      "Processed '../../data/raw/2016/fulltext_organizations_Apple_Inc_mth02_pg3.json'\n",
      "Processed '../../data/raw/2016/fulltext_organizations_Apple_Inc_mth03_pg3.json'\n",
      "Processed '../../data/raw/2016/fulltext_organizations_Apple_Inc_mth10_pg0.json'\n",
      "Processed '../../data/raw/2016/fulltext_organizations_Apple_Inc_mth11_pg0.json'\n",
      "Processed '../../data/raw/2016/fulltext_organizations_Apple_Inc_mth07_pg1.json'\n",
      "Processed '../../data/raw/2016/fulltext_organizations_Apple_Inc_mth06_pg1.json'\n",
      "Processed '../../data/raw/2016/fulltext_organizations_Apple_Inc_mth09_pg3.json'\n",
      "Processed '../../data/raw/2016/fulltext_organizations_Apple_Inc_mth02_pg4.json'\n",
      "Processed '../../data/raw/2016/fulltext_organizations_Apple_Inc_mth04_pg3.json'\n",
      "Processed '../../data/raw/2016/fulltext_organizations_Apple_Inc_mth01_pg1.json'\n",
      "Processed '../../data/raw/2016/fulltext_organizations_Apple_Inc_mth01_pg0.json'\n",
      "Processed '../../data/raw/2016/fulltext_organizations_Apple_Inc_mth05_pg2.json'\n",
      "Processed '../../data/raw/2016/fulltext_organizations_Apple_Inc_mth04_pg2.json'\n"
     ]
    }
   ],
   "source": [
    "scrape_nyt_url(json_filepaths)"
   ]
  },
  {
   "cell_type": "code",
   "execution_count": null,
   "metadata": {},
   "outputs": [],
   "source": []
  }
 ],
 "metadata": {
  "kernelspec": {
   "display_name": "MLApps",
   "language": "python",
   "name": "python3"
  },
  "language_info": {
   "codemirror_mode": {
    "name": "ipython",
    "version": 3
   },
   "file_extension": ".py",
   "mimetype": "text/x-python",
   "name": "python",
   "nbconvert_exporter": "python",
   "pygments_lexer": "ipython3",
   "version": "3.12.9"
  }
 },
 "nbformat": 4,
 "nbformat_minor": 2
}
