{
 "cells": [
  {
   "cell_type": "markdown",
   "metadata": {},
   "source": [
    "# Prepare Stock Price Data"
   ]
  },
  {
   "cell_type": "code",
   "execution_count": 4,
   "metadata": {},
   "outputs": [],
   "source": [
    "import numpy as np\n",
    "import tensorflow as tf\n",
    "from transformers import AutoTokenizer, AutoModel\n",
    "from sklearn.preprocessing import StandardScaler\n",
    "from tensorflow.keras import layers, models\n"
   ]
  },
  {
   "cell_type": "code",
   "execution_count": 5,
   "metadata": {},
   "outputs": [],
   "source": [
    "# Example stock price data for 5 days, 10 years of data (mocked)\n",
    "stock_prices = np.random.rand(10, 5) * 100  # 10 years, 5 days each week\n",
    "textual_data = [\"Apple stock trends\", \"Stock forecast for Apple\", \"Financial results of Apple\", \n",
    "                \"Apple market predictions\", \"Growth potential of Apple\"] * 2  # Simple textual data\n",
    "\n",
    "# Normalize stock price data\n",
    "scaler = StandardScaler()\n",
    "stock_prices = scaler.fit_transform(stock_prices)\n",
    "\n",
    "# LSTM input needs to be reshaped\n",
    "stock_prices = np.expand_dims(stock_prices, axis=-1)  # Shape (10, 5, 1)\n"
   ]
  },
  {
   "cell_type": "code",
   "execution_count": 6,
   "metadata": {},
   "outputs": [
    {
     "name": "stderr",
     "output_type": "stream",
     "text": [
      "c:\\Users\\Tammy\\anaconda3\\Lib\\site-packages\\keras\\src\\layers\\rnn\\rnn.py:200: UserWarning: Do not pass an `input_shape`/`input_dim` argument to a layer. When using Sequential models, prefer using an `Input(shape)` object as the first layer in the model instead.\n",
      "  super().__init__(**kwargs)\n"
     ]
    }
   ],
   "source": [
    "def create_lstm_encoder(input_shape):\n",
    "    model = models.Sequential()\n",
    "    model.add(layers.LSTM(64, return_sequences=False, input_shape=input_shape))\n",
    "    model.add(layers.Dense(32, activation='relu'))\n",
    "    return model\n",
    "\n",
    "# LSTM encoder for stock prices\n",
    "lstm_encoder = create_lstm_encoder((5, 1))  # 5 days of stock prices\n",
    "\n",
    "# Pass stock prices through LSTM encoder to get embeddings\n",
    "stock_price_embeddings = lstm_encoder(stock_prices)\n"
   ]
  },
  {
   "cell_type": "code",
   "execution_count": 7,
   "metadata": {},
   "outputs": [
    {
     "data": {
      "application/vnd.jupyter.widget-view+json": {
       "model_id": "af07a05c8bfe4bd39ebd1da4545563ef",
       "version_major": 2,
       "version_minor": 0
      },
      "text/plain": [
       "tokenizer_config.json:   0%|          | 0.00/48.0 [00:00<?, ?B/s]"
      ]
     },
     "metadata": {},
     "output_type": "display_data"
    },
    {
     "name": "stderr",
     "output_type": "stream",
     "text": [
      "c:\\Users\\Tammy\\anaconda3\\Lib\\site-packages\\huggingface_hub\\file_download.py:142: UserWarning: `huggingface_hub` cache-system uses symlinks by default to efficiently store duplicated files but your machine does not support them in C:\\Users\\Tammy\\.cache\\huggingface\\hub\\models--bert-base-uncased. Caching files will still work but in a degraded version that might require more space on your disk. This warning can be disabled by setting the `HF_HUB_DISABLE_SYMLINKS_WARNING` environment variable. For more details, see https://huggingface.co/docs/huggingface_hub/how-to-cache#limitations.\n",
      "To support symlinks on Windows, you either need to activate Developer Mode or to run Python as an administrator. In order to activate developer mode, see this article: https://docs.microsoft.com/en-us/windows/apps/get-started/enable-your-device-for-development\n",
      "  warnings.warn(message)\n"
     ]
    },
    {
     "data": {
      "application/vnd.jupyter.widget-view+json": {
       "model_id": "c3df0e90fb9f4d42b14c94bbc39e1362",
       "version_major": 2,
       "version_minor": 0
      },
      "text/plain": [
       "config.json:   0%|          | 0.00/570 [00:00<?, ?B/s]"
      ]
     },
     "metadata": {},
     "output_type": "display_data"
    },
    {
     "data": {
      "application/vnd.jupyter.widget-view+json": {
       "model_id": "96e892952a874cfe860e3dedfb811766",
       "version_major": 2,
       "version_minor": 0
      },
      "text/plain": [
       "vocab.txt:   0%|          | 0.00/232k [00:00<?, ?B/s]"
      ]
     },
     "metadata": {},
     "output_type": "display_data"
    },
    {
     "data": {
      "application/vnd.jupyter.widget-view+json": {
       "model_id": "364ff7546ed54437a29a719337f54aa8",
       "version_major": 2,
       "version_minor": 0
      },
      "text/plain": [
       "tokenizer.json:   0%|          | 0.00/466k [00:00<?, ?B/s]"
      ]
     },
     "metadata": {},
     "output_type": "display_data"
    },
    {
     "data": {
      "application/vnd.jupyter.widget-view+json": {
       "model_id": "77423e8f7e98481abfae432e9db35537",
       "version_major": 2,
       "version_minor": 0
      },
      "text/plain": [
       "model.safetensors:   0%|          | 0.00/440M [00:00<?, ?B/s]"
      ]
     },
     "metadata": {},
     "output_type": "display_data"
    }
   ],
   "source": [
    "# Load tokenizer and model\n",
    "tokenizer = AutoTokenizer.from_pretrained(\"bert-base-uncased\")\n",
    "text_model = AutoModel.from_pretrained(\"bert-base-uncased\")\n",
    "\n",
    "# Tokenize textual data\n",
    "inputs = tokenizer(textual_data, padding=True, truncation=True, return_tensors=\"pt\", max_length=32)\n",
    "\n",
    "# Get embeddings from the model\n",
    "textual_embeddings = text_model(**inputs).last_hidden_state.mean(dim=1)  # Average across token embeddings\n"
   ]
  },
  {
   "cell_type": "code",
   "execution_count": 8,
   "metadata": {},
   "outputs": [
    {
     "ename": "RuntimeError",
     "evalue": "Can't call numpy() on Tensor that requires grad. Use tensor.detach().numpy() instead.",
     "output_type": "error",
     "traceback": [
      "\u001b[1;31m---------------------------------------------------------------------------\u001b[0m",
      "\u001b[1;31mRuntimeError\u001b[0m                              Traceback (most recent call last)",
      "Cell \u001b[1;32mIn[8], line 2\u001b[0m\n\u001b[0;32m      1\u001b[0m \u001b[38;5;66;03m# Ensure that both embeddings have the same dimension before concatenation\u001b[39;00m\n\u001b[1;32m----> 2\u001b[0m combined_embeddings \u001b[38;5;241m=\u001b[39m tf\u001b[38;5;241m.\u001b[39mconcat([stock_price_embeddings, textual_embeddings\u001b[38;5;241m.\u001b[39mnumpy()], axis\u001b[38;5;241m=\u001b[39m\u001b[38;5;241m-\u001b[39m\u001b[38;5;241m1\u001b[39m)\n",
      "\u001b[1;31mRuntimeError\u001b[0m: Can't call numpy() on Tensor that requires grad. Use tensor.detach().numpy() instead."
     ]
    }
   ],
   "source": [
    "# Ensure that both embeddings have the same dimension before concatenation\n",
    "combined_embeddings = tf.concat([stock_price_embeddings, textual_embeddings.numpy()], axis=-1)\n"
   ]
  },
  {
   "cell_type": "code",
   "execution_count": 9,
   "metadata": {},
   "outputs": [],
   "source": [
    "# Detach the PyTorch tensor from the computation graph before converting to numpy\n",
    "textual_embeddings_numpy = textual_embeddings.detach().numpy()\n",
    "\n",
    "# Ensure both embeddings have the same dimension before concatenation\n",
    "combined_embeddings = tf.concat([stock_price_embeddings, textual_embeddings_numpy], axis=-1)\n"
   ]
  },
  {
   "cell_type": "code",
   "execution_count": 10,
   "metadata": {},
   "outputs": [
    {
     "name": "stdout",
     "output_type": "stream",
     "text": [
      "Epoch 1/10\n"
     ]
    },
    {
     "name": "stderr",
     "output_type": "stream",
     "text": [
      "c:\\Users\\Tammy\\anaconda3\\Lib\\site-packages\\keras\\src\\layers\\core\\dense.py:87: UserWarning: Do not pass an `input_shape`/`input_dim` argument to a layer. When using Sequential models, prefer using an `Input(shape)` object as the first layer in the model instead.\n",
      "  super().__init__(activity_regularizer=activity_regularizer, **kwargs)\n"
     ]
    },
    {
     "name": "stdout",
     "output_type": "stream",
     "text": [
      "\u001b[1m1/1\u001b[0m \u001b[32m━━━━━━━━━━━━━━━━━━━━\u001b[0m\u001b[37m\u001b[0m \u001b[1m1s\u001b[0m 692ms/step - loss: 0.1789\n",
      "Epoch 2/10\n",
      "\u001b[1m1/1\u001b[0m \u001b[32m━━━━━━━━━━━━━━━━━━━━\u001b[0m\u001b[37m\u001b[0m \u001b[1m0s\u001b[0m 47ms/step - loss: 0.2686\n",
      "Epoch 3/10\n",
      "\u001b[1m1/1\u001b[0m \u001b[32m━━━━━━━━━━━━━━━━━━━━\u001b[0m\u001b[37m\u001b[0m \u001b[1m0s\u001b[0m 47ms/step - loss: 0.1185\n",
      "Epoch 4/10\n",
      "\u001b[1m1/1\u001b[0m \u001b[32m━━━━━━━━━━━━━━━━━━━━\u001b[0m\u001b[37m\u001b[0m \u001b[1m0s\u001b[0m 44ms/step - loss: 0.0650\n",
      "Epoch 5/10\n",
      "\u001b[1m1/1\u001b[0m \u001b[32m━━━━━━━━━━━━━━━━━━━━\u001b[0m\u001b[37m\u001b[0m \u001b[1m0s\u001b[0m 47ms/step - loss: 0.1082\n",
      "Epoch 6/10\n",
      "\u001b[1m1/1\u001b[0m \u001b[32m━━━━━━━━━━━━━━━━━━━━\u001b[0m\u001b[37m\u001b[0m \u001b[1m0s\u001b[0m 49ms/step - loss: 0.0957\n",
      "Epoch 7/10\n",
      "\u001b[1m1/1\u001b[0m \u001b[32m━━━━━━━━━━━━━━━━━━━━\u001b[0m\u001b[37m\u001b[0m \u001b[1m0s\u001b[0m 46ms/step - loss: 0.0604\n",
      "Epoch 8/10\n",
      "\u001b[1m1/1\u001b[0m \u001b[32m━━━━━━━━━━━━━━━━━━━━\u001b[0m\u001b[37m\u001b[0m \u001b[1m0s\u001b[0m 46ms/step - loss: 0.0601\n",
      "Epoch 9/10\n",
      "\u001b[1m1/1\u001b[0m \u001b[32m━━━━━━━━━━━━━━━━━━━━\u001b[0m\u001b[37m\u001b[0m \u001b[1m0s\u001b[0m 48ms/step - loss: 0.0854\n",
      "Epoch 10/10\n",
      "\u001b[1m1/1\u001b[0m \u001b[32m━━━━━━━━━━━━━━━━━━━━\u001b[0m\u001b[37m\u001b[0m \u001b[1m0s\u001b[0m 45ms/step - loss: 0.0917\n"
     ]
    },
    {
     "data": {
      "text/plain": [
       "<keras.src.callbacks.history.History at 0x143181aa4e0>"
      ]
     },
     "execution_count": 10,
     "metadata": {},
     "output_type": "execute_result"
    }
   ],
   "source": [
    "def create_prediction_model(embedding_size):\n",
    "    model = models.Sequential()\n",
    "    model.add(layers.Dense(64, activation='relu', input_shape=(embedding_size,)))\n",
    "    model.add(layers.Dense(1))  # Predict next day's stock price\n",
    "    return model\n",
    "\n",
    "# Size of combined embedding\n",
    "embedding_size = combined_embeddings.shape[1]\n",
    "\n",
    "# Create prediction model\n",
    "prediction_model = create_prediction_model(embedding_size)\n",
    "\n",
    "# Compile model\n",
    "prediction_model.compile(optimizer='adam', loss='mse')\n",
    "\n",
    "# Train the model (for demonstration, we use random data for training)\n",
    "prediction_model.fit(combined_embeddings, np.random.rand(10), epochs=10)\n"
   ]
  },
  {
   "cell_type": "code",
   "execution_count": 11,
   "metadata": {},
   "outputs": [
    {
     "name": "stdout",
     "output_type": "stream",
     "text": [
      "\u001b[1m1/1\u001b[0m \u001b[32m━━━━━━━━━━━━━━━━━━━━\u001b[0m\u001b[37m\u001b[0m \u001b[1m0s\u001b[0m 52ms/step\n",
      "[[0.35100737]\n",
      " [0.74489474]\n",
      " [0.81454253]\n",
      " [1.2383987 ]\n",
      " [0.6836066 ]\n",
      " [0.3511337 ]\n",
      " [0.74680614]\n",
      " [0.8170768 ]\n",
      " [1.2428701 ]\n",
      " [0.67568296]]\n"
     ]
    }
   ],
   "source": [
    "# Prediction for next day using combined embeddings\n",
    "predicted_price = prediction_model.predict(combined_embeddings)\n",
    "print(predicted_price)\n"
   ]
  },
  {
   "cell_type": "code",
   "execution_count": 12,
   "metadata": {},
   "outputs": [
    {
     "name": "stdout",
     "output_type": "stream",
     "text": [
      "[153.5100737, 157.4489474, 158.1454253, 162.383987, 156.836066, 153.511337, 157.4680614, 158.170768, 162.428701, 156.7568296]\n"
     ]
    }
   ],
   "source": [
    "# Given mean and standard deviation\n",
    "mean = 150\n",
    "std_dev = 10\n",
    "\n",
    "# Normalized predictions (output from the model)\n",
    "normalized_predictions = [\n",
    "    0.35100737, 0.74489474, 0.81454253, 1.2383987, \n",
    "    0.6836066, 0.3511337, 0.74680614, 0.8170768, \n",
    "    1.2428701, 0.67568296\n",
    "]\n",
    "\n",
    "# Denormalizing the predictions\n",
    "denormalized_predictions = [value * std_dev + mean for value in normalized_predictions]\n",
    "\n",
    "print(denormalized_predictions)\n"
   ]
  },
  {
   "cell_type": "markdown",
   "metadata": {},
   "source": [
    "## Preparing Stock Price Data"
   ]
  },
  {
   "cell_type": "code",
   "execution_count": 83,
   "metadata": {},
   "outputs": [
    {
     "name": "stdout",
     "output_type": "stream",
     "text": [
      "[[0.02013732]\n",
      " [0.0209124 ]\n",
      " [0.13632675]\n",
      " [0.45700961]\n",
      " [0.46630452]\n",
      " [0.2525155 ]\n",
      " [0.32765255]\n",
      " [0.29512068]\n",
      " [0.06429132]\n",
      " [0.        ]\n",
      " [0.21146247]\n",
      " [0.27575512]\n",
      " [0.49651316]\n",
      " [0.54144091]\n",
      " [0.55073383]\n",
      " [0.243995  ]\n",
      " [0.72192099]\n",
      " [1.        ]\n",
      " [0.86522141]]\n",
      "Shape of X: (3, 5, 1)\n",
      "Shape of y: (3,)\n"
     ]
    }
   ],
   "source": [
    "import pandas as pd\n",
    "import numpy as np\n",
    "from sklearn.preprocessing import MinMaxScaler\n",
    "\n",
    "# Load the dataset\n",
    "df = pd.read_csv(r'C:\\Users\\Tammy\\Documents\\GitHub\\multimodal_stockprice_prediction\\data\\clean\\baseline_transformed_dataset_LSTM.csv')\n",
    "\n",
    "# Convert 'Date' column to datetime format if it's not already in datetime format\n",
    "df['Date'] = pd.to_datetime(df['Date'], errors='coerce')  # This will convert invalid dates to NaT\n",
    "\n",
    "# Set the 'Date' column as the index\n",
    "df.set_index('Date', inplace=True)\n",
    "\n",
    "# Slice the DataFrame to the desired date range (check if these dates are in the DataFrame)\n",
    "df = df.loc['2015-01-05':'2015-01-30']\n",
    "\n",
    "# Normalize the prices using MinMaxScaler to scale between 0 and 1\n",
    "scaler = MinMaxScaler(feature_range=(0, 1))\n",
    "scaled_prices = scaler.fit_transform(df[['AAPL(t)']])\n",
    "\n",
    "print(scaled_prices)\n",
    "# Define lookback window (e.g., 5 days)\n",
    "lookback_window = 5\n",
    "\n",
    "# Prepare data for LSTM (X = input, y = target)\n",
    "X = []\n",
    "y = []\n",
    "\n",
    "# Non-overlapping window creation (step size = lookback_window)\n",
    "for i in range(0, len(scaled_prices) - lookback_window, lookback_window):\n",
    "    X.append(scaled_prices[i:i+lookback_window, 0])  # Use 5 days of prices\n",
    "    if i + lookback_window < len(scaled_prices):\n",
    "        y.append(scaled_prices[i + lookback_window, 0])  # Next day's price as target\n",
    "\n",
    "# Convert to numpy arrays for LSTM model\n",
    "X = np.array(X)\n",
    "y = np.array(y)\n",
    "\n",
    "# Reshape X to fit LSTM input shape: (samples, timesteps, features)\n",
    "X = X.reshape(X.shape[0], X.shape[1], 1)  # LSTM expects 3D input\n",
    "\n",
    "# Check the shape of X and y\n",
    "print(f\"Shape of X: {X.shape}\")  # Should be (num_samples, 5, 1)\n",
    "print(f\"Shape of y: {y.shape}\")  # Should be (num_samples,)\n",
    "\n",
    "# Now X is ready for LSTM input, and y contains the corresponding targets (next day's price)\n"
   ]
  },
  {
   "cell_type": "code",
   "execution_count": 45,
   "metadata": {},
   "outputs": [],
   "source": [
    "#import necessary libraries\n",
    "import numpy as np\n",
    "import tensorflow as tf\n",
    "from tensorflow.keras.models import Sequential\n",
    "from tensorflow.keras.layers import LSTM, Dense, Dropout\n"
   ]
  },
  {
   "cell_type": "code",
   "execution_count": 97,
   "metadata": {},
   "outputs": [],
   "source": [
    "def build_autoregressive_encoder(input_shape, embedding_dim):\n",
    "    model = Sequential()\n",
    "    \n",
    "    # LSTM Layer\n",
    "    model.add(LSTM(units=50, return_sequences=False, input_shape=input_shape))\n",
    "    \n",
    "    # Optional: Dropout layer for regularization\n",
    "    model.add(Dropout(0.2))\n",
    "    \n",
    "    # Fully connected layer to project to embedding space\n",
    "    model.add(Dense(units=embedding_dim))  # Output dimension = embedding dimension\n",
    "    \n",
    "    return model\n"
   ]
  },
  {
   "cell_type": "code",
   "execution_count": 98,
   "metadata": {},
   "outputs": [
    {
     "name": "stderr",
     "output_type": "stream",
     "text": [
      "c:\\Users\\Tammy\\anaconda3\\Lib\\site-packages\\keras\\src\\layers\\rnn\\rnn.py:200: UserWarning: Do not pass an `input_shape`/`input_dim` argument to a layer. When using Sequential models, prefer using an `Input(shape)` object as the first layer in the model instead.\n",
      "  super().__init__(**kwargs)\n"
     ]
    },
    {
     "name": "stdout",
     "output_type": "stream",
     "text": [
      "WARNING:tensorflow:6 out of the last 6 calls to <function TensorFlowTrainer.make_predict_function.<locals>.one_step_on_data_distributed at 0x000001434DF54C20> triggered tf.function retracing. Tracing is expensive and the excessive number of tracings could be due to (1) creating @tf.function repeatedly in a loop, (2) passing tensors with different shapes, (3) passing Python objects instead of tensors. For (1), please define your @tf.function outside of the loop. For (2), @tf.function has reduce_retracing=True option that can avoid unnecessary retracing. For (3), please refer to https://www.tensorflow.org/guide/function#controlling_retracing and https://www.tensorflow.org/api_docs/python/tf/function for  more details.\n",
      "\u001b[1m1/1\u001b[0m \u001b[32m━━━━━━━━━━━━━━━━━━━━\u001b[0m\u001b[37m\u001b[0m \u001b[1m0s\u001b[0m 215ms/step\n",
      "Shape of stock price embeddings: (3, 10)\n"
     ]
    }
   ],
   "source": [
    "# Define lookback window (e.g., 5 days)\n",
    "lookback_window = 5\n",
    "embedding_dim = 10  # Dimension of the stock price embeddings\n",
    "\n",
    "# X should be your sequence data prepared previously (5-day lookback)\n",
    "X = np.array(X)\n",
    "\n",
    "# Define the LSTM Encoder model\n",
    "encoder_model = build_autoregressive_encoder(input_shape=(X.shape[1], X.shape[2]), embedding_dim=embedding_dim)\n",
    "\n",
    "# Compile the model\n",
    "encoder_model.compile(optimizer='adam', loss='mean_squared_error')\n",
    "\n",
    "# Get the stock price embeddings\n",
    "stock_price_embeddings = encoder_model.predict(X)\n",
    "\n",
    "# Print the shape of the embeddings\n",
    "print(f\"Shape of stock price embeddings: {stock_price_embeddings.shape}\")"
   ]
  },
  {
   "cell_type": "markdown",
   "metadata": {},
   "source": [
    "## Text Data Preparation"
   ]
  },
  {
   "cell_type": "code",
   "execution_count": null,
   "metadata": {},
   "outputs": [],
   "source": [
    "def create_text_template(df, start_idx, lookback_window):\n",
    "    end_idx = start_idx + lookback_window\n",
    "    price_window = df.iloc[start_idx:end_idx]\n",
    "    \n",
    "    # Calculate statistical details\n",
    "    min_price = price_window['AAPL(t)'].min()\n",
    "    max_price = price_window['AAPL(t)'].max()\n",
    "    avg_price = price_window['AAPL(t)'].mean()\n",
    "    rate_of_change = (price_window['AAPL(t)'].iloc[-1] - price_window['AAPL(t)'].iloc[0]) / price_window['AAPL(t)'].iloc[0] * 100\n",
    "    \n",
    "    # Construct the textual template according to the paper\n",
    "    # Here we include frequency, timestamps, min, max, moving average, and rate of change\n",
    "    template = f\"Context: This is a daily stock from {price_window.index[0].strftime('%Y-%m-%d')} to {price_window.index[-1].strftime('%Y-%m-%d')}.\\n\"\n",
    "    template += f\"Trend Analysis: The input data features a minimum price of {min_price:.2f}, a maximum price of {max_price:.2f}, \"\n",
    "    template += f\"and a moving average of {avg_price:.2f}, with a change rate of {rate_of_change:.2f}%.\\n\"\n",
    "    #add in news sentiment portion\n",
    "    return template\n",
    "\n",
    "\n"
   ]
  },
  {
   "cell_type": "code",
   "execution_count": null,
   "metadata": {},
   "outputs": [
    {
     "name": "stdout",
     "output_type": "stream",
     "text": [
      "Context: This is a daily stock from 2015-01-20 to 2015-01-26.\n",
      "Trend Analysis: The input data features a minimum price of 24.18, a maximum price of 25.16, and a moving average of 24.77, with a change rate of 4.03%.\n",
      "\n"
     ]
    }
   ],
   "source": [
    "# Generate textual templates for each lookback window\n",
    "text_templates = []\n",
    "\n",
    "for i in range(0, len(df) - lookback_window, lookback_window):\n",
    "    text_template = create_text_template(df, i, lookback_window)\n",
    "    text_templates.append(text_template)\n",
    "\n",
    "# Example: Print the first textual template\n",
    "print(text_templates[2])\n",
    "#Add in headlines from the past n days."
   ]
  },
  {
   "cell_type": "code",
   "execution_count": 6,
   "metadata": {},
   "outputs": [],
   "source": [
    "#set up gemini to process textual templates\n",
    "from google import genai\n",
    "from dotenv import load_dotenv\n",
    "import os\n",
    "load_dotenv()\n",
    "# Load environment variables from the .env file\n",
    "API_KEY = os.getenv(\"API_KEY\")\n",
    "client = genai.Client(api_key='API_KEY')#insert api key"
   ]
  },
  {
   "cell_type": "code",
   "execution_count": null,
   "metadata": {},
   "outputs": [
    {
     "name": "stdout",
     "output_type": "stream",
     "text": [
      "embeddings=[ContentEmbedding(values=[0.021432204, 0.0034491306, -0.047928806, -0.0014327348, 0.076519735, 0.07855707, 0.018735254, 0.016345846, -0.033751275, -0.049704242, 0.0546686, 0.07639537, 0.02208628, -0.02318319, 0.07894865, -0.04472769, 0.04658384, 0.08251568, -0.110299416, -0.041863784, -0.00088288425, -0.037681717, 0.0056819455, 0.006976226, -0.011825026, -2.5338162e-05, -0.013472994, -0.006838009, 0.0064677116, -0.0439194, 0.004083298, 0.019617915, -0.0035753953, -0.04783024, 0.03045482, 0.050396923, -0.037493587, 0.015442244, -0.022750393, -0.05335065, -0.029024454, 0.011744301, -0.06472459, 0.07409858, -0.016773641, 0.0059609697, -0.014900113, -0.010763331, -0.028637035, 0.030925492, -0.010203131, 0.0013299796, -0.018675653, 0.03266812, -0.0333182, -0.04669849, -0.04119147, -0.04096307, 0.09186705, -0.0012584182, -0.018410187, -0.021066485, 0.020277837, 0.003114554, -0.011072706, -0.069106475, -0.046542104, -0.03470667, -0.06826677, -0.0021638414, -0.012863896, 0.014582863, -0.056510717, -0.006588303, 0.04193186, -0.018592482, 0.010977607, 0.040239595, 0.026982224, 0.045354053, -0.026126772, -0.025042646, 0.054858018, -0.021119267, 0.025146049, -0.00012301492, -0.0011849651, -0.026160102, 0.023457052, -0.04167322, 0.050373163, 0.07036295, -0.023165142, -0.01675112, 0.07939594, -0.028739562, -0.07076781, -0.07597547, 0.08336726, 0.088949636, -0.010416573, -0.010306487, 0.006664487, 0.0029309199, 0.051194567, 0.048918165, -0.001828398, -0.021342454, -0.05581758, 0.048581816, -1.9169265e-06, -0.04601825, -0.02875734, 0.033195257, -0.015763422, -0.022809394, 0.015246635, 0.044889018, -0.06589962, -0.016959926, 0.05030346, 0.022185702, 0.016322277, 0.015147073, 0.0152958715, 0.0043655857, 0.043783586, -0.028244138, -0.0059416695, -0.036335967, -0.025570635, -0.066514485, 0.0036017313, -0.006445769, 0.012491149, 0.028636208, 0.024460917, 0.05722867, -0.010952349, 0.020754792, 0.012070109, -0.0530065, -0.058946, 0.036978494, -0.036154393, -0.081958786, -0.0063984976, -0.010413495, -0.059714824, -0.043444894, -0.061144132, -0.04886015, 0.010851101, -0.018504739, 0.00093669846, 0.03597174, 0.009051031, -0.013056594, 0.051142115, 0.0060436702, -0.01754586, -0.025002582, -0.038219083, 0.009794718, -0.025355352, 0.06108906, -0.046088997, -0.051536042, -0.026046535, -0.017461043, -0.015799934, 0.0145108085, -0.05342753, -0.052423835, -0.00042479392, 0.03660602, -0.0353192, -0.0036458308, -0.059523646, 0.076173484, 0.07216843, 0.00363048, 0.044321563, -0.009381817, 0.0033033653, 0.061461583, -0.03706171, -0.030894306, -0.021059448, 0.007141875, -0.021143107, 0.033813365, 0.016897917, -0.026294034, -0.026898898, 0.030962054, 0.054469068, -0.081099465, 0.012889364, -0.06547145, -0.022898033, -0.05752906, 0.02589725, -0.056304928, -0.019708842, -0.015334546, 0.00448972, -0.022377558, -0.020824414, 0.00460567, 0.034326136, 0.030791853, 0.009692417, -0.046010565, 0.015318513, -0.015355903, 0.04878122, 0.006999561, 0.12194833, 0.0028436678, 0.024170278, -0.011676311, 0.028508147, 0.017302498, -0.044607807, 0.0019617218, 0.019314509, -0.004527471, 0.008001705, -0.049014308, 0.021131534, 0.0032044856, 0.0105893435, 0.025627729, 0.027712101, 0.017221475, 0.0033247408, -0.01278361, 0.010044414, -0.03263261, -0.009292189, 0.03426908, 0.023625795, -0.028099779, 0.012910594, -0.012763766, 0.0094345445, 0.031519856, -0.024006637, -0.022679323, -0.013705365, 0.015158177, 0.007294685, 0.003399895, -0.0051477696, 0.0049755494, 0.02754899, 0.00684407, -0.033489745, 0.018967425, -0.00035821047, 0.0152344955, 0.020520689, 0.0025078976, -0.03258223, -0.09316909, -0.038596172, -0.031646226, -0.054029908, -0.028757473, 0.10042861, 0.0028332777, -0.029811518, -0.004845502, -0.05548289, 0.017483879, 0.0032935096, 0.062133193, -0.050972085, -0.06367784, -0.039326135, 0.006111875, -0.011622204, -0.071491435, 0.014048794, -0.019941948, 0.014827262, 0.037092637, -0.00685527, -0.004922029, 0.04373619, 0.0029866076, 0.019290857, -0.035150547, 0.0033040792, 0.045341305, 0.026523355, 0.02927594, -0.0023520186, 0.005696796, -0.022721559, 0.008701157, -0.039305534, 0.047914606, -0.0130053, 0.01669343, 0.034150165, -0.046162605, -0.02925002, 0.04322694, 0.076351024, 0.034483053, -0.010420605, -0.0064818976, -0.043311562, -0.026948439, -0.09392995, -0.035069562, -0.013012272, -0.007738696, 0.07059043, 0.0032372826, -0.022684202, -0.052953724, 0.056819618, -0.004860428, 0.022006687, 0.030346751, 0.018513989, -0.008173441, 0.036746062, -0.03492115, 0.0039364, -0.07231623, -0.017827442, 0.037595715, -0.054781493, 0.035671536, 0.06325986, 0.011701689, 0.05138387, 0.018413268, 0.02148816, 0.00074960943, -0.06816075, -0.054746725, -0.03019768, 0.018659348, 0.0073837982, -0.019871831, 0.030595426, 0.023240726, 0.019845229, -0.05350081, -0.016249247, 0.017571678, 0.027471516, -0.023189347, 0.017744776, 0.0039367806, -0.046801873, -0.02005173, -0.019735368, 0.031530127, 0.007395389, 0.008071747, -0.02056674, 0.025452562, -0.011306053, 0.040331487, -0.019637072, -0.0016814935, 0.002488835, -0.03695882, 0.06087415, -0.07685995, -0.047194533, -0.02929666, -0.0018338859, -0.039117206, -0.034144647, 0.033419646, -0.037401572, 0.033009555, -0.036494873, 0.027421668, -0.066003785, 0.017394017, -0.029154252, 0.031825308, -0.0021300283, 0.033624906, 0.03962791, 0.023393974, 0.024238015, 0.048517067, -0.008808936, -0.033971515, 0.027900785, 8.321432e-05, -0.023967559, -0.017646352, 0.039795812, -0.03758883, 0.048635364, 0.023871398, 0.07179046, 0.024860587, -0.06599531, 0.020085145, 0.037976142, -0.018171024, -0.055252325, 0.046466444, -0.03241911, -0.0020302536, -0.068681076, -0.040744644, -0.0011282292, 0.05458942, -0.0122511415, 0.019705636, 0.03767371, -0.0044852667, -0.03354198, -0.021379367, -0.009926222, 0.009058219, 0.004244412, 0.041362137, 0.00031715716, -0.021247193, 0.004181935, 0.0012963802, -0.011458458, 0.04675964, -0.025280649, -0.023321973, -0.03555052, 0.010556305, -0.026006322, 0.08840334, 0.0049062655, -0.014591752, -0.02519507, 0.000448128, 0.0055408417, -0.011176939, 1.0000413e-05, -0.025330396, 0.0032670707, 0.02538613, -0.009131904, -0.10915506, -0.10509225, 0.012812246, 0.026511177, 0.009391012, 0.0013171743, 0.029932788, 0.006866277, -0.00595611, 0.021696536, 0.01866479, -0.03796583, -0.030635992, -0.05331336, 0.04693433, -0.038037818, -0.009866786, 0.039450277, 0.016859708, 0.019405548, 0.003901628, -0.06495501, -0.010538764, 0.03870431, -0.038202494, 0.027584651, -0.0020941193, -0.028216451, 0.009905042, -0.027523464, 0.016903391, 0.06711479, 0.043700606, -0.032199685, 0.014938634, 0.020166935, -0.0075357067, -0.0010614666, 0.00818854, 0.011313711, -0.04262063, 0.023636365, 0.002328548, 0.03384958, 0.0033961206, -0.024650853, 0.012457113, 0.053401064, -0.026908778, 0.0058602397, -0.0505697, -0.012010122, -0.027909556, -0.047224388, 0.027085537, 0.056771927, 0.007899847, 0.007512068, -0.041386355, -0.0035520892, 0.0026564344, -0.040784307, -0.022211349, -0.05728025, 0.03737189, 0.0051341383, -0.055969518, -0.011293043, -0.024877606, 0.010328881, -0.013317723, -0.019794742, 0.021687903, -0.023221213, -0.07427382, 0.025433052, -0.060881034, 0.030138023, 0.061449766, 0.001549755, -0.008930706, 0.013814575, 0.096149564, 0.020608626, 0.02493419, 0.06047792, 0.031401716, -0.010830914, 0.0302028, 0.016343748, 0.019609721, -0.014143929, -0.005486229, -0.009968164, -0.015679695, 0.019294182, 0.022642214, -0.048320185, -0.014247985, -0.026661035, 0.006689534, -0.014892804, -0.049529772, 0.043909255, -0.0072106314, -0.035853397, -0.025974916, 0.043282792, 0.0088978065, 0.02166429, 0.03246931, -0.033642992, 0.02149362, -0.031621814, 0.056266174, -0.018145064, 0.00090385525, 0.01788016, -0.012833562, -0.043449797, -0.07131066, 0.03260396, -0.016368214, -0.031710442, -0.008474395, 0.008377223, -0.008268402, 0.025477357, 0.007577578, 0.005697785, -0.008182535, -0.0010702645, -0.02604526, 0.041517157, -0.035833675, 0.02771796, -0.007718997, 0.017414784, 0.02619879, -0.013662442, -0.049553964, 0.031502757, -0.06056679, -0.019178761, 0.007119643, 0.011635442, 0.0137072485, 0.075289235, -0.006126018, 0.032138836, 0.038700555, -0.027369654, -0.0394543, -0.04539484, -0.052807685, -0.04631059, -0.018894479, -0.042368025, 0.06374678, -0.06324484, -0.02634125, -0.06319481, 0.034830816, -0.05726316, -0.017483715, 0.0037793086, -0.006614496, 0.008358964, 0.043562874, 0.009102852, -0.010214722, -0.02729722, 0.0005782653, 0.0075806817, 0.06670795, 0.054690704, -0.021339197, -0.037547633, -0.025458794, 0.091299556, -0.016970836, 0.011405605, 0.008735141, 0.05166906, 0.014037258, 0.053471293, -0.04934144, -0.020181213, 0.021243861, 0.012993209, -0.040847853, -0.10292145, 0.0023352227, 0.0023747769, -0.014622416, 0.028748246, 0.016715534, -0.007786963, 0.04527159, -0.032562744, -0.01780918, -0.073146656, 0.010650641, -0.007463373, 0.017146198, 0.009758903, 0.029586619, -0.008604778, -0.014917144, -0.011231586, 0.006571438, -0.039680347, -0.00013973861, 0.009584835, 0.04257244, 0.0015205549, -0.016533319, 0.005989746, -0.022336371, 0.014370729, 0.054431193, -0.027056899, -0.059832517, 0.002577923, -0.035707403, -0.006988251, -0.020922577, 0.008415981, -0.0709464, 0.030162282, -0.015248193, 0.006683411, 0.042103045, 0.05692382, -0.0045357677, 0.020815812, 0.014774019, -0.053269062, 0.0072434163, -0.015588975, 0.016475601, -0.009507382, 0.05761919, -0.0018189696, -0.0074275853, -0.008890222, 0.011462542, 0.05654062, 0.0177995, -0.008744106, -0.0109132165, 0.034150705, -0.012896642, 0.020145416, 0.013272599, -0.04572204, -0.002714316, -0.050404593, 0.029656408, 0.10072905, -0.015722148, 0.03456719, 0.020610575, -0.0015435175, 0.13044252, 0.006776825, 0.041210286, -0.003541634, -0.0028808154, 0.03837957, 0.075696, 0.049463533, 0.056285206, -0.038224664, -0.054992504, -0.06257441, 0.0032101267, 0.04008962, 0.0020607244, -0.040657762, 0.045529623, -0.0472045, -0.006026962, -0.02710361, -0.017023526, -0.027542181, -0.02960365, 0.023114253, -0.004829786, -0.043635488, 0.0052389083, 0.0046747024, 0.04021679, -0.05264241, -0.09496801, -0.00093970145, -0.025176024, -0.056190528, -0.0075025796, 0.0037335078, -0.037079174, -0.005832007, 0.0018684049, 0.035593487, -0.0020446598, 0.0021288497, -0.048263863, -0.05932718, -0.011354293, 0.017837837, -0.0015123028, -0.011137871, -0.048132848, 0.032802057, -0.0025648577], statistics=None)] metadata=None\n",
      "embeddings=[ContentEmbedding(values=[0.02719135, 0.004488662, -0.05953615, 0.018646562, 0.07529903, 0.06823601, 0.022233207, 0.015253517, -0.022568988, -0.057301305, 0.060310062, 0.074550964, 0.014032356, -0.038362622, 0.08736476, -0.05314939, 0.054117236, 0.09021643, -0.11028875, -0.055139698, -6.604679e-05, -0.0352306, 0.008229833, 0.0076554054, -0.01931137, -0.0044981935, -0.0054880665, -0.0006276558, 0.012314486, -0.04236457, 0.0054918877, 0.018257698, -0.0062011676, -0.030147888, 0.01405223, 0.03555051, -0.038722347, 0.030053068, -0.026483037, -0.054474413, -0.020204924, 0.017092954, -0.060041342, 0.055984963, -0.02398393, 0.026498467, -0.0075161736, -0.018688204, -0.03222279, 0.044506386, -0.011214867, 0.021982716, 0.0015447771, 0.042427458, -0.020260897, -0.036331072, -0.034723856, -0.043122694, 0.08965393, -0.009848253, -0.006554553, -0.025620649, 0.019623252, -0.0045986045, -0.033056844, -0.066207394, -0.028182136, -0.034238014, -0.07713005, 0.0027677806, -0.0063169533, 0.015037679, -0.061862037, -0.019648632, 0.04079077, -0.018344605, -0.0031097853, 0.04011199, 0.011970534, 0.027049063, -0.020469578, -0.024878088, 0.048906926, -0.00080766145, 0.015658516, 0.0068754926, -0.010752165, -0.021107974, 0.024218936, -0.0411605, 0.035338283, 0.08094845, -0.018970612, -0.0028844655, 0.100136206, -0.014530978, -0.08000153, -0.063684985, 0.0908858, 0.076586135, -0.01761344, -0.015237694, 0.0033755424, -0.00069085084, 0.044415656, 0.034628488, 0.008161379, -0.031514645, -0.059482373, 0.040528584, 0.004447773, -0.037978627, -0.03134881, 0.025342973, -0.020835146, -0.011022923, 0.011526094, 0.05221692, -0.07471031, -0.023346836, 0.05108394, 0.024897562, 0.0058091185, 0.0005515572, 0.03228247, 0.014092309, 0.043928552, -0.038455606, 9.951027e-05, -0.028668461, -0.029059727, -0.08516543, 0.004680393, -0.0072903866, 0.019066265, 0.025607366, 0.019610424, 0.046359908, -0.015501575, 0.024627225, 0.008578704, -0.059626434, -0.0516759, 0.03608441, -0.0336046, -0.07805286, -0.009645246, -0.016371362, -0.07026537, -0.03379045, -0.060155954, -0.037958838, 0.009256453, -0.016987605, 0.00050051615, 0.026660737, 0.01500512, -0.014578325, 0.065489374, 0.014449051, -0.0086031165, -0.02015688, -0.022387184, 0.012055295, -0.0142879635, 0.07328206, -0.054990683, -0.048864376, -0.03312968, -0.020592773, -0.00050753553, -0.0030659707, -0.052637417, -0.064584136, -0.00051722804, 0.03202071, -0.021890558, 0.0132243605, -0.050077848, 0.06699379, 0.07095572, -0.007081088, 0.03250407, -0.023122568, -0.0001318298, 0.04686272, -0.0452328, -0.015601678, -0.027382264, 0.008870556, -0.018850975, 0.042143505, -0.003623439, -0.036748536, -0.03213503, 0.04166909, 0.044854388, -0.0729582, 0.014123882, -0.07841424, -0.00999102, -0.052517094, 0.02737398, -0.06184765, -0.0018095534, -0.026000857, 0.0011229456, -0.037120186, -0.040116183, 0.015308876, 0.028846482, 0.036481485, 0.009563733, -0.042084683, 0.014306597, -0.0076935333, 0.044258095, -0.0062213163, 0.1031075, -0.007933603, 0.014461793, 0.00054496614, 0.030834107, 0.034537014, -0.043230712, 0.007692444, 0.036660854, 0.0013630328, 0.016943786, -0.0385151, 0.019167405, 0.00017981352, 0.011414513, 0.02147806, -0.00043799749, 0.035473302, 0.0005700918, -0.01994395, -0.005259078, -0.041328043, -0.013083496, 0.01803312, 0.024596192, -0.012868775, 0.0053406563, -0.009855343, 0.029611468, 0.033920106, -0.037108816, -0.046779502, -0.028049363, 0.007222594, -0.0039363205, -0.008675841, -0.006851562, -0.0067977156, 0.036057785, -0.0032954968, -0.028824618, 0.016183686, -0.009520985, 0.0034178093, 0.02006236, 0.012246618, -0.035233732, -0.0671373, -0.05398529, -0.028310848, -0.053514704, -0.0287606, 0.09696756, -0.017076299, -0.032957118, -0.007963029, -0.07180405, 0.022506166, 0.008594629, 0.054360855, -0.061259497, -0.077146575, -0.026095627, 0.012046383, 0.011041609, -0.059906475, 0.013525168, -0.022387324, 0.013594878, 0.026809502, -0.004307579, -0.0036088517, 0.03998718, 0.0067602443, 0.025684886, -0.04032525, 0.004040999, 0.042867202, 0.027030682, 0.039987583, -0.0061713294, 0.004937887, -0.015932756, 0.006841712, -0.03611751, 0.036267444, 0.0061105313, 0.033831723, 0.027301528, -0.043683164, -0.040173553, 0.040042203, 0.06877465, 0.03249647, -0.006661934, -0.009227922, -0.04744596, -0.025095327, -0.08545817, -0.03972526, -0.026745096, 0.0042416486, 0.08237146, 0.0032186494, -0.0162309, -0.05989657, 0.044411883, -0.002175815, 0.021893643, 0.04382259, 0.021268792, 0.0018107179, 0.043773413, -0.02616632, 0.003182624, -0.07833206, -0.014548439, 0.041128226, -0.059353095, 0.027343377, 0.059478354, 0.029681204, 0.044901956, 0.01111579, 0.017274719, -0.0016491219, -0.05651459, -0.04940699, -0.040068038, 0.028296728, 0.016903644, -0.019282043, 0.023916518, 0.037439927, 0.0280634, -0.060077555, -0.01744068, 0.020980384, 0.03406964, -0.010126584, 0.01650477, -0.0012975666, -0.05577255, -0.012032738, -0.025237812, 0.037266932, 0.011059845, 0.0012725992, -0.0064370343, 0.018825008, -0.0049663736, 0.03473383, -0.0157076, -0.007553766, 0.0037747654, -0.041730218, 0.044842277, -0.07899349, -0.0708676, -0.024785856, -0.0010868412, -0.035779588, -0.028110046, 0.033747844, -0.03593159, 0.03769104, -0.04075403, 0.013305095, -0.068746425, 0.016618013, -0.025479369, 0.037187923, -0.0018262394, 0.028608656, 0.036001585, 0.021031886, 0.022284819, 0.034660514, -0.005429315, -0.029865323, 0.026254077, -0.0044159708, -0.029021865, -0.005227873, 0.037562586, -0.026900198, 0.051345322, 0.027767207, 0.063830346, 0.015487061, -0.062093325, 0.017840594, 0.03277793, -0.010774461, -0.044499464, 0.0531097, -0.04935776, -0.0024712826, -0.06827638, -0.028553039, -0.0060971924, 0.04110297, -0.011683055, 0.015513588, 0.03540162, -0.0038625181, -0.038166057, -0.023284765, -0.013693962, 0.008100934, 0.008972962, 0.028525276, 0.007535299, -0.02325681, -0.001753836, -0.015890354, -0.0021125984, 0.038802028, -0.036417272, -0.020806283, -0.027694138, 0.02374079, -0.023282835, 0.08503755, 0.009329147, -0.02828011, -0.02670377, 0.0008110071, 0.008082053, -0.019779388, 0.0051379083, -0.042462625, 0.010267346, 0.018612321, -0.016001906, -0.10048278, -0.108809024, 0.0030967947, 0.024018213, 0.00926083, -0.010063565, 0.025483139, 0.011291561, -0.009730541, 0.036226146, 0.024828851, -0.03382167, -0.036598567, -0.05423933, 0.056395642, -0.029120523, -0.0034583905, 0.049844243, 0.017528927, 0.015455716, -0.0029731002, -0.06676628, 0.002588456, 0.044065233, -0.03536737, 0.026181882, -0.004777666, -0.030947877, 0.0136401085, -0.024886392, 0.019079914, 0.06755873, 0.041719384, -0.021713542, 0.016096838, 0.0025726464, -0.011369834, -0.017315349, 0.008278186, 0.018904207, -0.047679044, 0.0145107, -0.007014503, 0.039563794, -0.0034478656, -0.040265165, 0.0049602976, 0.05366373, -0.0345573, 0.0009550242, -0.032368466, -0.011487946, -0.023102717, -0.031216132, 0.017975723, 0.052762337, 0.027812483, 0.009507895, -0.031053232, 0.0077540786, 0.0034273926, -0.042585887, -0.031206375, -0.053932883, 0.042935707, 0.0012555283, -0.055347417, -0.019748671, -0.021004135, 0.014405718, -0.012050336, -0.018215625, 0.013235894, -0.015920887, -0.07365361, 0.020043815, -0.05662331, 0.032165837, 0.06775225, -0.018510915, -0.00790634, 0.0015763713, 0.0847817, 0.03822252, 0.008319632, 0.05337118, 0.035987467, 0.012919469, 0.025391776, 0.015425853, 0.011511056, -0.019997843, -0.005397998, -0.016527407, -0.022429215, 0.012883108, 0.033357523, -0.046412542, -0.021146137, -0.020660525, 0.0027221094, -0.010754123, -0.059720393, 0.04930483, 0.00027162748, -0.03518501, -0.034139965, 0.040089693, 0.0042220685, 0.011346235, 0.03392091, -0.009138828, 0.007946592, -0.036479257, 0.052827578, -0.024018245, -0.008387851, 0.02495504, -0.007547812, -0.044520054, -0.0520808, 0.0438549, -0.027807537, -0.04770079, -0.0052853194, 0.02191718, -0.009648305, 0.027408596, 0.005455257, 0.02801937, -0.018985491, -0.0036272362, -0.022507874, 0.044047695, -0.04731784, 0.027668277, 0.0031920064, 0.028922455, 0.019734923, -0.0219677, -0.060472086, 0.031431206, -0.05171646, -0.010772676, 0.0028738033, 0.017727638, 0.018741427, 0.06723757, -0.00687666, 0.047797766, 0.038092412, -0.037290692, -0.051087346, -0.046221036, -0.05632967, -0.0316699, -0.014568617, -0.05407379, 0.061590187, -0.061117165, -0.028318087, -0.06833076, 0.043740377, -0.051118378, -0.008762336, 0.009463418, -0.0074224584, 0.017436165, 0.04105265, 0.024197098, -0.010651157, -0.024059247, -0.010534059, 0.007155869, 0.07833017, 0.063989036, -4.9816368e-05, -0.038950965, -0.015915839, 0.10821529, -0.0149968555, 0.0016453072, 0.00924815, 0.037345685, 0.014484038, 0.0646794, -0.0516344, -0.024241775, 0.009581867, 0.0076635852, -0.039250948, -0.09604871, 0.005677305, -0.0048427335, -0.003082445, 0.023183102, 0.009911127, -0.006717225, 0.046522602, -0.03410129, -0.022942087, -0.06295653, 0.010028262, -0.003858926, 0.006466707, 0.016552081, 0.026744233, -0.038227957, -0.016764024, -0.013809584, -0.0034726325, -0.04429739, -0.008597485, 0.0019581132, 0.054214727, 0.0018226497, -0.017265327, 0.0133808125, -0.02175132, 0.0056522293, 0.044277266, -0.03434714, -0.056135725, -0.0052083004, -0.028936002, 0.0018011305, -0.013345506, 0.014088655, -0.06364033, 0.020648327, 0.004414706, 0.011111143, 0.045402016, 0.067730285, -0.018884951, 0.013913554, 0.021721534, -0.05981504, -0.0006954767, -0.01887507, 0.014427172, -0.0075106323, 0.05477189, -0.0044163605, 0.004645793, -0.0123734865, 0.012180994, 0.08182508, 0.017248964, -0.016377868, -0.005374062, 0.020807778, -0.010042133, 0.02753565, 0.01507628, -0.03656461, 0.0033058084, -0.048103772, 0.030240647, 0.07923314, -0.006775329, 0.038422137, 0.02044555, -0.009437366, 0.09913132, 0.016709609, 0.036552537, 0.000730663, -0.015298277, 0.037906107, 0.06845629, 0.050927978, 0.060393363, -0.040344886, -0.052463, -0.067898296, 0.008516271, 0.039209787, 0.007831257, -0.028597869, 0.03765585, -0.033259444, -0.024260899, -0.030587934, -0.012551804, -0.028186617, -0.01998309, 0.023136694, -0.00031756118, -0.05062105, -0.005264314, 0.007183158, 0.049525775, -0.0454764, -0.083432235, 0.010150663, -0.023243986, -0.06628781, 0.01012115, 0.015361794, -0.038228277, -0.0008783762, -0.0040753414, 0.04690323, 0.004766329, 0.0006200204, -0.03217353, -0.068060786, -0.013155851, 0.024725929, -0.0015993741, -0.02508001, -0.054657176, 0.024007507, -0.013672359], statistics=None)] metadata=None\n",
      "embeddings=[ContentEmbedding(values=[0.037824575, -0.0070114955, -0.056424502, 0.018904978, 0.06784828, 0.06668446, 0.020133486, 0.02247984, -0.023221655, -0.043343086, 0.06256372, 0.09332073, 0.0069002053, -0.030029036, 0.06849844, -0.04345374, 0.061748616, 0.063879766, -0.10165612, -0.054520473, 0.0012881857, -0.03660924, 0.01123625, 0.015405767, -0.0029860334, -0.012692474, 0.0051040165, -0.008813886, 0.004269544, -0.03866722, 0.0073688906, 0.016583994, -0.013735944, -0.041028753, 0.013324521, 0.040723953, -0.036509585, 0.032355245, -0.020333964, -0.043368112, -0.027068695, 0.020745402, -0.08465766, 0.05992136, -0.023679024, 0.02259281, -0.0008922379, -0.025937395, -0.02652027, 0.05277476, -0.013091657, 0.011948346, -0.014551196, 0.043629076, -0.027836826, -0.044336017, -0.03437392, -0.04092045, 0.090731904, -0.018367255, -0.0015017266, -0.024840515, 0.045871783, -0.001402837, -0.028779445, -0.07436805, -0.015426794, -0.02444774, -0.06736026, 0.0027651284, -0.005616964, 0.02699921, -0.07119991, 0.009172225, 0.04934496, -0.03092427, -0.007937369, 0.043595888, 0.030600704, 0.033493537, -0.030858655, -0.020915726, 0.034296323, -0.037679736, 0.0220733, 0.008588089, 0.014741601, -0.028516237, 0.02631433, -0.03214493, 0.030407261, 0.06304938, -0.018938666, -0.0014931357, 0.074055314, -0.031114358, -0.07460801, -0.08889254, 0.07336443, 0.0876701, -0.009441762, -0.023717659, -0.005363871, -0.01148178, 0.04379803, 0.02277914, 0.019327579, -0.01786082, -0.05615522, 0.056399617, -0.0020377198, -0.051827244, -0.032026455, 0.01754207, -0.022639, -0.023270931, -0.004499087, 0.054469083, -0.089244984, -0.037159733, 0.040345274, 0.040993772, 0.0040093274, 0.005213355, 0.01740305, 0.014384056, 0.034032673, -0.025042962, -0.0019982331, -0.041191354, -0.02232736, -0.08357392, 0.004964554, -0.0040580845, 0.032397367, 0.027769886, 0.02032903, 0.044673804, -0.0123822205, 0.021297358, 0.006051197, -0.060357165, -0.069860555, 0.035101466, -0.023157023, -0.05771069, -0.001978876, -0.006657795, -0.067008905, -0.02757714, -0.0454865, -0.05460837, 0.004936941, -0.0130190095, 0.005746609, 0.022909962, 0.010548154, -0.034492325, 0.076939896, 0.023868572, -0.015993677, -0.020633804, -0.028958099, 0.0018047254, -0.023876395, 0.07701168, -0.059541687, -0.042418685, -0.020111816, -0.020112079, -0.011378843, -0.0015660434, -0.046706207, -0.071681485, -0.0091641955, 0.024302572, -0.033041134, 0.0017956967, -0.04055015, 0.053913996, 0.08868448, -0.0043490515, 0.02595975, -0.016731303, 0.008014414, 0.03188971, -0.04648928, -0.020330995, -0.01722064, 0.010984267, -0.016154453, 0.025706502, 0.015103312, -0.018434256, -0.010215127, 0.024532195, 0.04749757, -0.06598156, 0.025861725, -0.099562734, -0.021966016, -0.04772678, 0.020832533, -0.0591214, 0.006713045, -0.037937418, -0.0040936265, -0.028371513, -0.03444867, 0.012319023, 0.021319948, 0.04251524, 0.025311004, -0.06332373, 0.0036492667, -0.013694147, 0.05066949, -0.0059049013, 0.10388878, -0.0017908973, 0.014172771, -0.013645908, 0.023650296, 0.03169679, -0.046392273, 0.007745335, 0.018694066, 0.0064663067, -0.0036414184, -0.042740636, 0.024538554, 0.006741822, 0.012410755, -0.0024838876, 0.009676714, 0.024033112, 0.005174183, -0.015186294, 0.002705771, -0.033968695, -0.011250466, 0.021918047, 0.014193302, -0.010180524, 0.0033154867, -0.01718223, 0.0030208975, 0.036660824, -0.009029418, -0.014183734, -0.0150137, 0.009357322, -0.02122044, -0.0015924299, -0.009966547, -0.017343946, 0.027897762, -0.00963483, -0.024542818, 0.02810571, -0.006313851, 0.0058962335, 0.033509143, 0.0013545728, -0.033368077, -0.070501916, -0.05059992, -0.033075884, -0.052184638, -0.018940806, 0.10568556, -0.0057272143, -0.03740127, -0.015853109, -0.06710575, 0.04179907, -0.0028790582, 0.04005653, -0.04344873, -0.08053845, -0.02130473, 0.012114602, 0.007452533, -0.054545708, 0.024536697, -0.024042016, 0.010638752, 0.026749901, 0.003196922, 0.004234523, 0.05585805, 0.015151168, 0.014981705, -0.022775298, -0.0012717589, 0.051564954, 0.018699085, 0.027922742, -0.0031672884, 7.244216e-05, -0.031318408, 0.008356981, -0.046085656, 0.040703543, -0.00071756914, 0.0240143, 0.029296162, -0.04326951, -0.037678484, 0.029005269, 0.06488805, 0.016819026, -0.0061951815, -0.004289416, -0.039465796, -0.03060961, -0.07910237, -0.055162977, -0.025026467, 0.0056703906, 0.06801147, 0.0023535248, -0.019694164, -0.046999183, 0.052707054, -0.00783775, 0.020855324, 0.050703954, 0.01724971, -0.014725783, 0.04242346, -0.0291822, 0.027781669, -0.078217044, -0.009587422, 0.030554824, -0.058866937, 0.022655703, 0.06443168, 0.026767954, 0.056672677, 0.009438722, 0.026844567, -0.014588056, -0.0595627, -0.05491316, -0.020648608, 0.01754985, -0.0027427834, -0.0269139, 0.03549066, 0.04210863, 0.033533882, -0.038709365, -0.007673595, 0.025698792, 0.035812262, -0.00497037, 0.017610505, 0.010165683, -0.04044988, -0.024242407, -0.029035356, 0.028391887, 0.017246995, 0.005741932, -0.0008302659, 0.0266767, -0.010512406, 0.032391082, -0.01157618, -0.029821718, -0.0035543544, -0.05068236, 0.05648857, -0.08279471, -0.06994938, -0.018876174, 0.0045111687, -0.036475245, -0.025556263, 0.04255979, -0.04758971, 0.048815798, -0.037940003, 0.025215082, -0.069403596, 0.022846583, -0.027347906, 0.034278397, 0.000290533, 0.030405542, 0.030854838, 0.025172256, 0.033720724, 0.042773355, -0.010492688, -0.028863192, 0.030354131, 0.002234416, -0.03868027, -0.02644699, 0.034937155, -0.03933517, 0.038425907, 0.017009107, 0.07783807, 0.010605734, -0.07373733, 0.010322022, 0.041709818, -0.0022578354, -0.058981363, 0.04185693, -0.046116017, 0.0002234014, -0.06875736, -0.014303174, -0.002696138, 0.035437327, -0.003382881, 0.02649536, 0.04426745, -0.0037115207, -0.029564625, -0.022909638, -0.0019013538, 0.014126831, 0.0011715316, 0.03322183, 0.0053385296, -0.027802903, 0.00021982861, -0.008805349, -0.0033372624, 0.048504163, -0.029291956, -0.01852583, -0.034875542, 0.005930441, -0.01590521, 0.08787114, -0.006833556, -0.030993626, -0.046785634, -0.0017237468, 0.008439962, -0.01658375, -0.00406365, -0.03993223, 0.0027515637, 0.017862014, -0.010465215, -0.093510225, -0.10677436, 0.004490395, 0.02603574, 0.024171215, -0.003436691, 0.030107494, -0.00513611, -0.0023303507, 0.024201097, 0.026751323, -0.026346406, -0.025128704, -0.051721763, 0.066884585, -0.012612567, 0.0063677146, 0.044805095, 0.032559507, 0.007945362, -0.014085397, -0.070287175, 0.0009918472, 0.051245764, -0.029226037, 0.0363866, 0.0044872197, -0.010685618, 0.0014334932, -0.0049974318, 0.017993055, 0.0658355, 0.033612058, -0.038207065, 0.024902374, 0.026986321, 0.0021486373, -0.004143465, 0.01681314, -0.0004702011, -0.050991286, 0.029228825, 0.005743724, 0.039671525, 0.0018864236, -0.02394342, 0.014319725, 0.057567142, -0.03103858, -0.011054364, -0.02824131, -0.023277646, -0.030740803, -0.055794097, 0.022400683, 0.045530856, 0.031828135, 0.006932612, -0.045601558, 0.0047339816, 0.018099388, -0.037004203, -0.022072302, -0.04680642, 0.022833403, 0.0045433827, -0.05283775, -0.016306931, -0.014873324, 0.035615556, -0.007954438, -0.025636293, 0.0060427706, -0.013517564, -0.061262053, 0.008893246, -0.056959793, 0.025031788, 0.06143765, -0.010296012, -0.008274302, 0.021350011, 0.08345235, 0.035742782, 0.019975146, 0.06695416, 0.023511231, 0.024649723, 0.026171362, 0.028447602, 0.020978047, 0.0062090857, -0.0038132407, -0.010645238, -0.021738786, 0.020975886, 0.013332741, -0.0455737, -0.055283673, -0.015832562, 0.0053088297, -0.031998582, -0.054579742, 0.042990927, -0.0058857948, -0.035004713, -0.02680031, 0.03304745, -0.009717524, 0.009524949, 0.025519978, -0.016779218, 0.018115474, -0.03884288, 0.07078244, -0.034199156, -0.004743487, 0.0334853, -0.023132073, -0.051667392, -0.0590444, 0.048859812, -0.027998444, -0.033210706, -0.014523108, 0.015119671, -0.0120696975, 0.021403255, -0.004744987, 0.029291866, -0.014448353, -0.0068425667, -0.016816922, 0.03016288, -0.033566196, 0.026004119, -0.008103632, 0.0064703245, 0.036852177, -0.021873774, -0.056943044, 0.025392776, -0.04428675, -0.017775621, 0.012024938, 0.008366684, 0.007801798, 0.0780004, -0.011418298, 0.04051952, 0.03424564, -0.024759956, -0.046582304, -0.029868213, -0.06704946, -0.037890155, -0.00997696, -0.059842855, 0.05140875, -0.052605424, -0.035101876, -0.0817476, 0.047266603, -0.046277285, -0.010353462, 0.010819515, -0.0043517738, 0.022066614, 0.047213845, -0.00037505274, -0.016260149, -0.029906916, 0.0056345426, -0.0040797396, 0.063371226, 0.05463381, 0.00010827059, -0.047906097, -0.020525895, 0.08497273, -0.018543605, 0.0067728963, 0.010936876, 0.056493744, 0.00883311, 0.065142065, -0.05091482, -0.015174049, 0.01717901, 0.0070003406, -0.043619107, -0.10588932, 0.0112145925, -0.009718602, -0.019089606, 0.02118799, 0.018410996, 0.0034270862, 0.03012081, -0.0442976, -0.0216221, -0.073358215, 0.0111723645, -0.0016923777, 0.006980872, 0.014103192, 0.03772208, -0.036440868, -0.0155950645, 0.0012072681, 0.012616017, -0.051129937, -0.006520267, 0.0039430493, 0.04084804, 0.0040213657, -0.015830187, 0.0108596105, -0.013270512, 0.01739405, 0.044811677, -0.052940115, -0.051466107, 0.0068640052, -0.02308901, -0.014984722, -0.023066927, 0.012008422, -0.076002486, 0.032179605, 0.00015352339, 0.0029758392, 0.033740237, 0.055397306, -0.026926273, 0.017291876, 0.017139332, -0.058005016, 0.007605562, -0.0030330908, 0.02324516, -0.020552373, 0.030551925, -0.019168682, 0.008115337, -0.0028154664, 0.0043225856, 0.0727968, 0.001306111, -0.012488109, -0.011618372, 0.024173554, -0.014582171, 0.023287142, 0.030382881, -0.04244087, -0.01342206, -0.0418098, 0.026452897, 0.08044963, -0.0065813204, 0.03747455, 0.03205962, -0.012239086, 0.111531496, 0.0076197796, 0.027579164, 0.0061098854, -0.008979113, 0.046059962, 0.06366527, 0.048753284, 0.05530547, -0.035570264, -0.05077021, -0.06682419, 0.016444331, 0.053913783, -0.0008899004, -0.018897744, 0.016617524, -0.0399115, -0.017467223, -0.037592042, -0.015431715, -0.030727431, -0.022776846, 0.011780663, -0.0024790901, -0.04857905, -0.01418824, 0.013556943, 0.043178506, -0.030965129, -0.08900018, 0.017573338, -0.015122677, -0.06979607, -0.0079547735, -0.0015981403, -0.051031582, 0.0032278856, 0.005058499, 0.042104334, 0.010275351, 0.007911485, -0.024506304, -0.051242545, -0.005196856, 0.013735799, -0.008703264, -0.019843312, -0.04108827, 0.012479001, -0.009982583], statistics=None)] metadata=None\n",
      "Text Embeddings Shape: (3, 768)\n",
      "First Text Embedding: [ 2.14322040e-02  3.44913060e-03 -4.79288060e-02 -1.43273480e-03\n",
      "  7.65197350e-02  7.85570700e-02  1.87352540e-02  1.63458460e-02\n",
      " -3.37512750e-02 -4.97042420e-02  5.46686000e-02  7.63953700e-02\n",
      "  2.20862800e-02 -2.31831900e-02  7.89486500e-02 -4.47276900e-02\n",
      "  4.65838400e-02  8.25156800e-02 -1.10299416e-01 -4.18637840e-02\n",
      " -8.82884250e-04 -3.76817170e-02  5.68194550e-03  6.97622600e-03\n",
      " -1.18250260e-02 -2.53381620e-05 -1.34729940e-02 -6.83800900e-03\n",
      "  6.46771160e-03 -4.39194000e-02  4.08329800e-03  1.96179150e-02\n",
      " -3.57539530e-03 -4.78302400e-02  3.04548200e-02  5.03969230e-02\n",
      " -3.74935870e-02  1.54422440e-02 -2.27503930e-02 -5.33506500e-02\n",
      " -2.90244540e-02  1.17443010e-02 -6.47245900e-02  7.40985800e-02\n",
      " -1.67736410e-02  5.96096970e-03 -1.49001130e-02 -1.07633310e-02\n",
      " -2.86370350e-02  3.09254920e-02 -1.02031310e-02  1.32997960e-03\n",
      " -1.86756530e-02  3.26681200e-02 -3.33182000e-02 -4.66984900e-02\n",
      " -4.11914700e-02 -4.09630700e-02  9.18670500e-02 -1.25841820e-03\n",
      " -1.84101870e-02 -2.10664850e-02  2.02778370e-02  3.11455400e-03\n",
      " -1.10727060e-02 -6.91064750e-02 -4.65421040e-02 -3.47066700e-02\n",
      " -6.82667700e-02 -2.16384140e-03 -1.28638960e-02  1.45828630e-02\n",
      " -5.65107170e-02 -6.58830300e-03  4.19318600e-02 -1.85924820e-02\n",
      "  1.09776070e-02  4.02395950e-02  2.69822240e-02  4.53540530e-02\n",
      " -2.61267720e-02 -2.50426460e-02  5.48580180e-02 -2.11192670e-02\n",
      "  2.51460490e-02 -1.23014920e-04 -1.18496510e-03 -2.61601020e-02\n",
      "  2.34570520e-02 -4.16732200e-02  5.03731630e-02  7.03629500e-02\n",
      " -2.31651420e-02 -1.67511200e-02  7.93959400e-02 -2.87395620e-02\n",
      " -7.07678100e-02 -7.59754700e-02  8.33672600e-02  8.89496360e-02\n",
      " -1.04165730e-02 -1.03064870e-02  6.66448700e-03  2.93091990e-03\n",
      "  5.11945670e-02  4.89181650e-02 -1.82839800e-03 -2.13424540e-02\n",
      " -5.58175800e-02  4.85818160e-02 -1.91692650e-06 -4.60182500e-02\n",
      " -2.87573400e-02  3.31952570e-02 -1.57634220e-02 -2.28093940e-02\n",
      "  1.52466350e-02  4.48890180e-02 -6.58996200e-02 -1.69599260e-02\n",
      "  5.03034600e-02  2.21857020e-02  1.63222770e-02  1.51470730e-02\n",
      "  1.52958715e-02  4.36558570e-03  4.37835860e-02 -2.82441380e-02\n",
      " -5.94166950e-03 -3.63359670e-02 -2.55706350e-02 -6.65144850e-02\n",
      "  3.60173130e-03 -6.44576900e-03  1.24911490e-02  2.86362080e-02\n",
      "  2.44609170e-02  5.72286700e-02 -1.09523490e-02  2.07547920e-02\n",
      "  1.20701090e-02 -5.30065000e-02 -5.89460000e-02  3.69784940e-02\n",
      " -3.61543930e-02 -8.19587860e-02 -6.39849760e-03 -1.04134950e-02\n",
      " -5.97148240e-02 -4.34448940e-02 -6.11441320e-02 -4.88601500e-02\n",
      "  1.08511010e-02 -1.85047390e-02  9.36698460e-04  3.59717400e-02\n",
      "  9.05103100e-03 -1.30565940e-02  5.11421150e-02  6.04367020e-03\n",
      " -1.75458600e-02 -2.50025820e-02 -3.82190830e-02  9.79471800e-03\n",
      " -2.53553520e-02  6.10890600e-02 -4.60889970e-02 -5.15360420e-02\n",
      " -2.60465350e-02 -1.74610430e-02 -1.57999340e-02  1.45108085e-02\n",
      " -5.34275300e-02 -5.24238350e-02 -4.24793920e-04  3.66060200e-02\n",
      " -3.53192000e-02 -3.64583080e-03 -5.95236460e-02  7.61734840e-02\n",
      "  7.21684300e-02  3.63048000e-03  4.43215630e-02 -9.38181700e-03\n",
      "  3.30336530e-03  6.14615830e-02 -3.70617100e-02 -3.08943060e-02\n",
      " -2.10594480e-02  7.14187500e-03 -2.11431070e-02  3.38133650e-02\n",
      "  1.68979170e-02 -2.62940340e-02 -2.68988980e-02  3.09620540e-02\n",
      "  5.44690680e-02 -8.10994650e-02  1.28893640e-02 -6.54714500e-02\n",
      " -2.28980330e-02 -5.75290600e-02  2.58972500e-02 -5.63049280e-02\n",
      " -1.97088420e-02 -1.53345460e-02  4.48972000e-03 -2.23775580e-02\n",
      " -2.08244140e-02  4.60567000e-03  3.43261360e-02  3.07918530e-02\n",
      "  9.69241700e-03 -4.60105650e-02  1.53185130e-02 -1.53559030e-02\n",
      "  4.87812200e-02  6.99956100e-03  1.21948330e-01  2.84366780e-03\n",
      "  2.41702780e-02 -1.16763110e-02  2.85081470e-02  1.73024980e-02\n",
      " -4.46078070e-02  1.96172180e-03  1.93145090e-02 -4.52747100e-03\n",
      "  8.00170500e-03 -4.90143080e-02  2.11315340e-02  3.20448560e-03\n",
      "  1.05893435e-02  2.56277290e-02  2.77121010e-02  1.72214750e-02\n",
      "  3.32474080e-03 -1.27836100e-02  1.00444140e-02 -3.26326100e-02\n",
      " -9.29218900e-03  3.42690800e-02  2.36257950e-02 -2.80997790e-02\n",
      "  1.29105940e-02 -1.27637660e-02  9.43454450e-03  3.15198560e-02\n",
      " -2.40066370e-02 -2.26793230e-02 -1.37053650e-02  1.51581770e-02\n",
      "  7.29468500e-03  3.39989500e-03 -5.14776960e-03  4.97554940e-03\n",
      "  2.75489900e-02  6.84407000e-03 -3.34897450e-02  1.89674250e-02\n",
      " -3.58210470e-04  1.52344955e-02  2.05206890e-02  2.50789760e-03\n",
      " -3.25822300e-02 -9.31690900e-02 -3.85961720e-02 -3.16462260e-02\n",
      " -5.40299080e-02 -2.87574730e-02  1.00428610e-01  2.83327770e-03\n",
      " -2.98115180e-02 -4.84550200e-03 -5.54828900e-02  1.74838790e-02\n",
      "  3.29350960e-03  6.21331930e-02 -5.09720850e-02 -6.36778400e-02\n",
      " -3.93261350e-02  6.11187500e-03 -1.16222040e-02 -7.14914350e-02\n",
      "  1.40487940e-02 -1.99419480e-02  1.48272620e-02  3.70926370e-02\n",
      " -6.85527000e-03 -4.92202900e-03  4.37361900e-02  2.98660760e-03\n",
      "  1.92908570e-02 -3.51505470e-02  3.30407920e-03  4.53413050e-02\n",
      "  2.65233550e-02  2.92759400e-02 -2.35201860e-03  5.69679600e-03\n",
      " -2.27215590e-02  8.70115700e-03 -3.93055340e-02  4.79146060e-02\n",
      " -1.30053000e-02  1.66934300e-02  3.41501650e-02 -4.61626050e-02\n",
      " -2.92500200e-02  4.32269400e-02  7.63510240e-02  3.44830530e-02\n",
      " -1.04206050e-02 -6.48189760e-03 -4.33115620e-02 -2.69484390e-02\n",
      " -9.39299500e-02 -3.50695620e-02 -1.30122720e-02 -7.73869600e-03\n",
      "  7.05904300e-02  3.23728260e-03 -2.26842020e-02 -5.29537240e-02\n",
      "  5.68196180e-02 -4.86042800e-03  2.20066870e-02  3.03467510e-02\n",
      "  1.85139890e-02 -8.17344100e-03  3.67460620e-02 -3.49211500e-02\n",
      "  3.93640000e-03 -7.23162300e-02 -1.78274420e-02  3.75957150e-02\n",
      " -5.47814930e-02  3.56715360e-02  6.32598600e-02  1.17016890e-02\n",
      "  5.13838700e-02  1.84132680e-02  2.14881600e-02  7.49609430e-04\n",
      " -6.81607500e-02 -5.47467250e-02 -3.01976800e-02  1.86593480e-02\n",
      "  7.38379820e-03 -1.98718310e-02  3.05954260e-02  2.32407260e-02\n",
      "  1.98452290e-02 -5.35008100e-02 -1.62492470e-02  1.75716780e-02\n",
      "  2.74715160e-02 -2.31893470e-02  1.77447760e-02  3.93678060e-03\n",
      " -4.68018730e-02 -2.00517300e-02 -1.97353680e-02  3.15301270e-02\n",
      "  7.39538900e-03  8.07174700e-03 -2.05667400e-02  2.54525620e-02\n",
      " -1.13060530e-02  4.03314870e-02 -1.96370720e-02 -1.68149350e-03\n",
      "  2.48883500e-03 -3.69588200e-02  6.08741500e-02 -7.68599500e-02\n",
      " -4.71945330e-02 -2.92966600e-02 -1.83388590e-03 -3.91172060e-02\n",
      " -3.41446470e-02  3.34196460e-02 -3.74015720e-02  3.30095550e-02\n",
      " -3.64948730e-02  2.74216680e-02 -6.60037850e-02  1.73940170e-02\n",
      " -2.91542520e-02  3.18253080e-02 -2.13002830e-03  3.36249060e-02\n",
      "  3.96279100e-02  2.33939740e-02  2.42380150e-02  4.85170670e-02\n",
      " -8.80893600e-03 -3.39715150e-02  2.79007850e-02  8.32143200e-05\n",
      " -2.39675590e-02 -1.76463520e-02  3.97958120e-02 -3.75888300e-02\n",
      "  4.86353640e-02  2.38713980e-02  7.17904600e-02  2.48605870e-02\n",
      " -6.59953100e-02  2.00851450e-02  3.79761420e-02 -1.81710240e-02\n",
      " -5.52523250e-02  4.64664440e-02 -3.24191100e-02 -2.03025360e-03\n",
      " -6.86810760e-02 -4.07446440e-02 -1.12822920e-03  5.45894200e-02\n",
      " -1.22511415e-02  1.97056360e-02  3.76737100e-02 -4.48526670e-03\n",
      " -3.35419800e-02 -2.13793670e-02 -9.92622200e-03  9.05821900e-03\n",
      "  4.24441200e-03  4.13621370e-02  3.17157160e-04 -2.12471930e-02\n",
      "  4.18193500e-03  1.29638020e-03 -1.14584580e-02  4.67596400e-02\n",
      " -2.52806490e-02 -2.33219730e-02 -3.55505200e-02  1.05563050e-02\n",
      " -2.60063220e-02  8.84033400e-02  4.90626550e-03 -1.45917520e-02\n",
      " -2.51950700e-02  4.48128000e-04  5.54084170e-03 -1.11769390e-02\n",
      "  1.00004130e-05 -2.53303960e-02  3.26707070e-03  2.53861300e-02\n",
      " -9.13190400e-03 -1.09155060e-01 -1.05092250e-01  1.28122460e-02\n",
      "  2.65111770e-02  9.39101200e-03  1.31717430e-03  2.99327880e-02\n",
      "  6.86627700e-03 -5.95611000e-03  2.16965360e-02  1.86647900e-02\n",
      " -3.79658300e-02 -3.06359920e-02 -5.33133600e-02  4.69343300e-02\n",
      " -3.80378180e-02 -9.86678600e-03  3.94502770e-02  1.68597080e-02\n",
      "  1.94055480e-02  3.90162800e-03 -6.49550100e-02 -1.05387640e-02\n",
      "  3.87043100e-02 -3.82024940e-02  2.75846510e-02 -2.09411930e-03\n",
      " -2.82164510e-02  9.90504200e-03 -2.75234640e-02  1.69033910e-02\n",
      "  6.71147900e-02  4.37006060e-02 -3.21996850e-02  1.49386340e-02\n",
      "  2.01669350e-02 -7.53570670e-03 -1.06146660e-03  8.18854000e-03\n",
      "  1.13137110e-02 -4.26206300e-02  2.36363650e-02  2.32854800e-03\n",
      "  3.38495800e-02  3.39612060e-03 -2.46508530e-02  1.24571130e-02\n",
      "  5.34010640e-02 -2.69087780e-02  5.86023970e-03 -5.05697000e-02\n",
      " -1.20101220e-02 -2.79095560e-02 -4.72243880e-02  2.70855370e-02\n",
      "  5.67719270e-02  7.89984700e-03  7.51206800e-03 -4.13863550e-02\n",
      " -3.55208920e-03  2.65643440e-03 -4.07843070e-02 -2.22113490e-02\n",
      " -5.72802500e-02  3.73718900e-02  5.13413830e-03 -5.59695180e-02\n",
      " -1.12930430e-02 -2.48776060e-02  1.03288810e-02 -1.33177230e-02\n",
      " -1.97947420e-02  2.16879030e-02 -2.32212130e-02 -7.42738200e-02\n",
      "  2.54330520e-02 -6.08810340e-02  3.01380230e-02  6.14497660e-02\n",
      "  1.54975500e-03 -8.93070600e-03  1.38145750e-02  9.61495640e-02\n",
      "  2.06086260e-02  2.49341900e-02  6.04779200e-02  3.14017160e-02\n",
      " -1.08309140e-02  3.02028000e-02  1.63437480e-02  1.96097210e-02\n",
      " -1.41439290e-02 -5.48622900e-03 -9.96816400e-03 -1.56796950e-02\n",
      "  1.92941820e-02  2.26422140e-02 -4.83201850e-02 -1.42479850e-02\n",
      " -2.66610350e-02  6.68953400e-03 -1.48928040e-02 -4.95297720e-02\n",
      "  4.39092550e-02 -7.21063140e-03 -3.58533970e-02 -2.59749160e-02\n",
      "  4.32827920e-02  8.89780650e-03  2.16642900e-02  3.24693100e-02\n",
      " -3.36429920e-02  2.14936200e-02 -3.16218140e-02  5.62661740e-02\n",
      " -1.81450640e-02  9.03855250e-04  1.78801600e-02 -1.28335620e-02\n",
      " -4.34497970e-02 -7.13106600e-02  3.26039600e-02 -1.63682140e-02\n",
      " -3.17104420e-02 -8.47439500e-03  8.37722300e-03 -8.26840200e-03\n",
      "  2.54773570e-02  7.57757800e-03  5.69778500e-03 -8.18253500e-03\n",
      " -1.07026450e-03 -2.60452600e-02  4.15171570e-02 -3.58336750e-02\n",
      "  2.77179600e-02 -7.71899700e-03  1.74147840e-02  2.61987900e-02\n",
      " -1.36624420e-02 -4.95539640e-02  3.15027570e-02 -6.05667900e-02\n",
      " -1.91787610e-02  7.11964300e-03  1.16354420e-02  1.37072485e-02\n",
      "  7.52892350e-02 -6.12601800e-03  3.21388360e-02  3.87005550e-02\n",
      " -2.73696540e-02 -3.94543000e-02 -4.53948400e-02 -5.28076850e-02\n",
      " -4.63105900e-02 -1.88944790e-02 -4.23680250e-02  6.37467800e-02\n",
      " -6.32448400e-02 -2.63412500e-02 -6.31948100e-02  3.48308160e-02\n",
      " -5.72631600e-02 -1.74837150e-02  3.77930860e-03 -6.61449600e-03\n",
      "  8.35896400e-03  4.35628740e-02  9.10285200e-03 -1.02147220e-02\n",
      " -2.72972200e-02  5.78265300e-04  7.58068170e-03  6.67079500e-02\n",
      "  5.46907040e-02 -2.13391970e-02 -3.75476330e-02 -2.54587940e-02\n",
      "  9.12995560e-02 -1.69708360e-02  1.14056050e-02  8.73514100e-03\n",
      "  5.16690600e-02  1.40372580e-02  5.34712930e-02 -4.93414400e-02\n",
      " -2.01812130e-02  2.12438610e-02  1.29932090e-02 -4.08478530e-02\n",
      " -1.02921450e-01  2.33522270e-03  2.37477690e-03 -1.46224160e-02\n",
      "  2.87482460e-02  1.67155340e-02 -7.78696300e-03  4.52715900e-02\n",
      " -3.25627440e-02 -1.78091800e-02 -7.31466560e-02  1.06506410e-02\n",
      " -7.46337300e-03  1.71461980e-02  9.75890300e-03  2.95866190e-02\n",
      " -8.60477800e-03 -1.49171440e-02 -1.12315860e-02  6.57143800e-03\n",
      " -3.96803470e-02 -1.39738610e-04  9.58483500e-03  4.25724400e-02\n",
      "  1.52055490e-03 -1.65333190e-02  5.98974600e-03 -2.23363710e-02\n",
      "  1.43707290e-02  5.44311930e-02 -2.70568990e-02 -5.98325170e-02\n",
      "  2.57792300e-03 -3.57074030e-02 -6.98825100e-03 -2.09225770e-02\n",
      "  8.41598100e-03 -7.09464000e-02  3.01622820e-02 -1.52481930e-02\n",
      "  6.68341100e-03  4.21030450e-02  5.69238200e-02 -4.53576770e-03\n",
      "  2.08158120e-02  1.47740190e-02 -5.32690620e-02  7.24341630e-03\n",
      " -1.55889750e-02  1.64756010e-02 -9.50738200e-03  5.76191900e-02\n",
      " -1.81896960e-03 -7.42758530e-03 -8.89022200e-03  1.14625420e-02\n",
      "  5.65406200e-02  1.77995000e-02 -8.74410600e-03 -1.09132165e-02\n",
      "  3.41507050e-02 -1.28966420e-02  2.01454160e-02  1.32725990e-02\n",
      " -4.57220400e-02 -2.71431600e-03 -5.04045930e-02  2.96564080e-02\n",
      "  1.00729050e-01 -1.57221480e-02  3.45671900e-02  2.06105750e-02\n",
      " -1.54351750e-03  1.30442520e-01  6.77682500e-03  4.12102860e-02\n",
      " -3.54163400e-03 -2.88081540e-03  3.83795700e-02  7.56960000e-02\n",
      "  4.94635330e-02  5.62852060e-02 -3.82246640e-02 -5.49925040e-02\n",
      " -6.25744100e-02  3.21012670e-03  4.00896200e-02  2.06072440e-03\n",
      " -4.06577620e-02  4.55296230e-02 -4.72045000e-02 -6.02696200e-03\n",
      " -2.71036100e-02 -1.70235260e-02 -2.75421810e-02 -2.96036500e-02\n",
      "  2.31142530e-02 -4.82978600e-03 -4.36354880e-02  5.23890830e-03\n",
      "  4.67470240e-03  4.02167900e-02 -5.26424100e-02 -9.49680100e-02\n",
      " -9.39701450e-04 -2.51760240e-02 -5.61905280e-02 -7.50257960e-03\n",
      "  3.73350780e-03 -3.70791740e-02 -5.83200700e-03  1.86840490e-03\n",
      "  3.55934870e-02 -2.04465980e-03  2.12884970e-03 -4.82638630e-02\n",
      " -5.93271800e-02 -1.13542930e-02  1.78378370e-02 -1.51230280e-03\n",
      " -1.11378710e-02 -4.81328480e-02  3.28020570e-02 -2.56485770e-03]\n"
     ]
    }
   ],
   "source": [
    "# Function to get embeddings for the textual templates using Gemini\n",
    "def get_text_embeddings(text_templates):\n",
    "    text_embeddings = []\n",
    "    for text in text_templates:\n",
    "        response = client.models.embed_content(\n",
    "            model='text-embedding-004',\n",
    "            contents=text\n",
    "        )\n",
    "        \n",
    "        # Print the full response to inspect the structure\n",
    "        print(response)  # Inspect the response structure\n",
    "        \n",
    "        # Assuming 'embeddings' contains the list of embeddings\n",
    "        text_embeddings.append(response.embeddings[0].values)  # Extract the first embedding\n",
    "        \n",
    "    return np.array(text_embeddings)\n",
    "\n",
    "# Get textual embeddings using Gemini\n",
    "text_embeddings = get_text_embeddings(text_templates)\n",
    "\n",
    "# Check the shape and content of the text embeddings\n",
    "print(\"Text Embeddings Shape:\", text_embeddings.shape)\n",
    "print(\"First Text Embedding:\", text_embeddings[0])\n"
   ]
  },
  {
   "cell_type": "code",
   "execution_count": null,
   "metadata": {},
   "outputs": [
    {
     "name": "stdout",
     "output_type": "stream",
     "text": [
      "Stock Price Embeddings Shape: (3, 10)\n",
      "Textual Embeddings Shape: (3, 768)\n",
      "Combined Embeddings Shape: (3, 778)\n"
     ]
    }
   ],
   "source": [
    "# Ensure that the stock price embeddings and textual embeddings have the same number of samples\n",
    "# They should align, meaning the number of price embeddings and text embeddings should be the same.\n",
    "\n",
    "# Check the shape of your stock price embeddings and text embeddings\n",
    "print(f\"Stock Price Embeddings Shape: {stock_price_embeddings.shape}\")\n",
    "print(f\"Textual Embeddings Shape: {text_embeddings.shape}\")\n",
    "\n",
    "# Concatenate the embeddings along the feature axis (axis=1)\n",
    "combined_embeddings = np.concatenate((stock_price_embeddings, text_embeddings), axis=1)\n",
    "\n",
    "# Check the shape of the combined embeddings\n",
    "print(f\"Combined Embeddings Shape: {combined_embeddings.shape}\")\n"
   ]
  },
  {
   "cell_type": "code",
   "execution_count": 100,
   "metadata": {},
   "outputs": [
    {
     "name": "stdout",
     "output_type": "stream",
     "text": [
      "[ 7.25398771e-04 -6.16966048e-03  5.20680919e-02  2.46182382e-02\n",
      "  9.38585028e-03  1.38711371e-03  6.59828354e-03 -1.97280105e-02\n",
      "  8.36381130e-03  1.35322157e-02  2.14322040e-02  3.44913060e-03\n",
      " -4.79288060e-02 -1.43273480e-03  7.65197350e-02  7.85570700e-02\n",
      "  1.87352540e-02  1.63458460e-02 -3.37512750e-02 -4.97042420e-02\n",
      "  5.46686000e-02  7.63953700e-02  2.20862800e-02 -2.31831900e-02\n",
      "  7.89486500e-02 -4.47276900e-02  4.65838400e-02  8.25156800e-02\n",
      " -1.10299416e-01 -4.18637840e-02 -8.82884250e-04 -3.76817170e-02\n",
      "  5.68194550e-03  6.97622600e-03 -1.18250260e-02 -2.53381620e-05\n",
      " -1.34729940e-02 -6.83800900e-03  6.46771160e-03 -4.39194000e-02\n",
      "  4.08329800e-03  1.96179150e-02 -3.57539530e-03 -4.78302400e-02\n",
      "  3.04548200e-02  5.03969230e-02 -3.74935870e-02  1.54422440e-02\n",
      " -2.27503930e-02 -5.33506500e-02 -2.90244540e-02  1.17443010e-02\n",
      " -6.47245900e-02  7.40985800e-02 -1.67736410e-02  5.96096970e-03\n",
      " -1.49001130e-02 -1.07633310e-02 -2.86370350e-02  3.09254920e-02\n",
      " -1.02031310e-02  1.32997960e-03 -1.86756530e-02  3.26681200e-02\n",
      " -3.33182000e-02 -4.66984900e-02 -4.11914700e-02 -4.09630700e-02\n",
      "  9.18670500e-02 -1.25841820e-03 -1.84101870e-02 -2.10664850e-02\n",
      "  2.02778370e-02  3.11455400e-03 -1.10727060e-02 -6.91064750e-02\n",
      " -4.65421040e-02 -3.47066700e-02 -6.82667700e-02 -2.16384140e-03\n",
      " -1.28638960e-02  1.45828630e-02 -5.65107170e-02 -6.58830300e-03\n",
      "  4.19318600e-02 -1.85924820e-02  1.09776070e-02  4.02395950e-02\n",
      "  2.69822240e-02  4.53540530e-02 -2.61267720e-02 -2.50426460e-02\n",
      "  5.48580180e-02 -2.11192670e-02  2.51460490e-02 -1.23014920e-04\n",
      " -1.18496510e-03 -2.61601020e-02  2.34570520e-02 -4.16732200e-02\n",
      "  5.03731630e-02  7.03629500e-02 -2.31651420e-02 -1.67511200e-02\n",
      "  7.93959400e-02 -2.87395620e-02 -7.07678100e-02 -7.59754700e-02\n",
      "  8.33672600e-02  8.89496360e-02 -1.04165730e-02 -1.03064870e-02\n",
      "  6.66448700e-03  2.93091990e-03  5.11945670e-02  4.89181650e-02\n",
      " -1.82839800e-03 -2.13424540e-02 -5.58175800e-02  4.85818160e-02\n",
      " -1.91692650e-06 -4.60182500e-02 -2.87573400e-02  3.31952570e-02\n",
      " -1.57634220e-02 -2.28093940e-02  1.52466350e-02  4.48890180e-02\n",
      " -6.58996200e-02 -1.69599260e-02  5.03034600e-02  2.21857020e-02\n",
      "  1.63222770e-02  1.51470730e-02  1.52958715e-02  4.36558570e-03\n",
      "  4.37835860e-02 -2.82441380e-02 -5.94166950e-03 -3.63359670e-02\n",
      " -2.55706350e-02 -6.65144850e-02  3.60173130e-03 -6.44576900e-03\n",
      "  1.24911490e-02  2.86362080e-02  2.44609170e-02  5.72286700e-02\n",
      " -1.09523490e-02  2.07547920e-02  1.20701090e-02 -5.30065000e-02\n",
      " -5.89460000e-02  3.69784940e-02 -3.61543930e-02 -8.19587860e-02\n",
      " -6.39849760e-03 -1.04134950e-02 -5.97148240e-02 -4.34448940e-02\n",
      " -6.11441320e-02 -4.88601500e-02  1.08511010e-02 -1.85047390e-02\n",
      "  9.36698460e-04  3.59717400e-02  9.05103100e-03 -1.30565940e-02\n",
      "  5.11421150e-02  6.04367020e-03 -1.75458600e-02 -2.50025820e-02\n",
      " -3.82190830e-02  9.79471800e-03 -2.53553520e-02  6.10890600e-02\n",
      " -4.60889970e-02 -5.15360420e-02 -2.60465350e-02 -1.74610430e-02\n",
      " -1.57999340e-02  1.45108085e-02 -5.34275300e-02 -5.24238350e-02\n",
      " -4.24793920e-04  3.66060200e-02 -3.53192000e-02 -3.64583080e-03\n",
      " -5.95236460e-02  7.61734840e-02  7.21684300e-02  3.63048000e-03\n",
      "  4.43215630e-02 -9.38181700e-03  3.30336530e-03  6.14615830e-02\n",
      " -3.70617100e-02 -3.08943060e-02 -2.10594480e-02  7.14187500e-03\n",
      " -2.11431070e-02  3.38133650e-02  1.68979170e-02 -2.62940340e-02\n",
      " -2.68988980e-02  3.09620540e-02  5.44690680e-02 -8.10994650e-02\n",
      "  1.28893640e-02 -6.54714500e-02 -2.28980330e-02 -5.75290600e-02\n",
      "  2.58972500e-02 -5.63049280e-02 -1.97088420e-02 -1.53345460e-02\n",
      "  4.48972000e-03 -2.23775580e-02 -2.08244140e-02  4.60567000e-03\n",
      "  3.43261360e-02  3.07918530e-02  9.69241700e-03 -4.60105650e-02\n",
      "  1.53185130e-02 -1.53559030e-02  4.87812200e-02  6.99956100e-03\n",
      "  1.21948330e-01  2.84366780e-03  2.41702780e-02 -1.16763110e-02\n",
      "  2.85081470e-02  1.73024980e-02 -4.46078070e-02  1.96172180e-03\n",
      "  1.93145090e-02 -4.52747100e-03  8.00170500e-03 -4.90143080e-02\n",
      "  2.11315340e-02  3.20448560e-03  1.05893435e-02  2.56277290e-02\n",
      "  2.77121010e-02  1.72214750e-02  3.32474080e-03 -1.27836100e-02\n",
      "  1.00444140e-02 -3.26326100e-02 -9.29218900e-03  3.42690800e-02\n",
      "  2.36257950e-02 -2.80997790e-02  1.29105940e-02 -1.27637660e-02\n",
      "  9.43454450e-03  3.15198560e-02 -2.40066370e-02 -2.26793230e-02\n",
      " -1.37053650e-02  1.51581770e-02  7.29468500e-03  3.39989500e-03\n",
      " -5.14776960e-03  4.97554940e-03  2.75489900e-02  6.84407000e-03\n",
      " -3.34897450e-02  1.89674250e-02 -3.58210470e-04  1.52344955e-02\n",
      "  2.05206890e-02  2.50789760e-03 -3.25822300e-02 -9.31690900e-02\n",
      " -3.85961720e-02 -3.16462260e-02 -5.40299080e-02 -2.87574730e-02\n",
      "  1.00428610e-01  2.83327770e-03 -2.98115180e-02 -4.84550200e-03\n",
      " -5.54828900e-02  1.74838790e-02  3.29350960e-03  6.21331930e-02\n",
      " -5.09720850e-02 -6.36778400e-02 -3.93261350e-02  6.11187500e-03\n",
      " -1.16222040e-02 -7.14914350e-02  1.40487940e-02 -1.99419480e-02\n",
      "  1.48272620e-02  3.70926370e-02 -6.85527000e-03 -4.92202900e-03\n",
      "  4.37361900e-02  2.98660760e-03  1.92908570e-02 -3.51505470e-02\n",
      "  3.30407920e-03  4.53413050e-02  2.65233550e-02  2.92759400e-02\n",
      " -2.35201860e-03  5.69679600e-03 -2.27215590e-02  8.70115700e-03\n",
      " -3.93055340e-02  4.79146060e-02 -1.30053000e-02  1.66934300e-02\n",
      "  3.41501650e-02 -4.61626050e-02 -2.92500200e-02  4.32269400e-02\n",
      "  7.63510240e-02  3.44830530e-02 -1.04206050e-02 -6.48189760e-03\n",
      " -4.33115620e-02 -2.69484390e-02 -9.39299500e-02 -3.50695620e-02\n",
      " -1.30122720e-02 -7.73869600e-03  7.05904300e-02  3.23728260e-03\n",
      " -2.26842020e-02 -5.29537240e-02  5.68196180e-02 -4.86042800e-03\n",
      "  2.20066870e-02  3.03467510e-02  1.85139890e-02 -8.17344100e-03\n",
      "  3.67460620e-02 -3.49211500e-02  3.93640000e-03 -7.23162300e-02\n",
      " -1.78274420e-02  3.75957150e-02 -5.47814930e-02  3.56715360e-02\n",
      "  6.32598600e-02  1.17016890e-02  5.13838700e-02  1.84132680e-02\n",
      "  2.14881600e-02  7.49609430e-04 -6.81607500e-02 -5.47467250e-02\n",
      " -3.01976800e-02  1.86593480e-02  7.38379820e-03 -1.98718310e-02\n",
      "  3.05954260e-02  2.32407260e-02  1.98452290e-02 -5.35008100e-02\n",
      " -1.62492470e-02  1.75716780e-02  2.74715160e-02 -2.31893470e-02\n",
      "  1.77447760e-02  3.93678060e-03 -4.68018730e-02 -2.00517300e-02\n",
      " -1.97353680e-02  3.15301270e-02  7.39538900e-03  8.07174700e-03\n",
      " -2.05667400e-02  2.54525620e-02 -1.13060530e-02  4.03314870e-02\n",
      " -1.96370720e-02 -1.68149350e-03  2.48883500e-03 -3.69588200e-02\n",
      "  6.08741500e-02 -7.68599500e-02 -4.71945330e-02 -2.92966600e-02\n",
      " -1.83388590e-03 -3.91172060e-02 -3.41446470e-02  3.34196460e-02\n",
      " -3.74015720e-02  3.30095550e-02 -3.64948730e-02  2.74216680e-02\n",
      " -6.60037850e-02  1.73940170e-02 -2.91542520e-02  3.18253080e-02\n",
      " -2.13002830e-03  3.36249060e-02  3.96279100e-02  2.33939740e-02\n",
      "  2.42380150e-02  4.85170670e-02 -8.80893600e-03 -3.39715150e-02\n",
      "  2.79007850e-02  8.32143200e-05 -2.39675590e-02 -1.76463520e-02\n",
      "  3.97958120e-02 -3.75888300e-02  4.86353640e-02  2.38713980e-02\n",
      "  7.17904600e-02  2.48605870e-02 -6.59953100e-02  2.00851450e-02\n",
      "  3.79761420e-02 -1.81710240e-02 -5.52523250e-02  4.64664440e-02\n",
      " -3.24191100e-02 -2.03025360e-03 -6.86810760e-02 -4.07446440e-02\n",
      " -1.12822920e-03  5.45894200e-02 -1.22511415e-02  1.97056360e-02\n",
      "  3.76737100e-02 -4.48526670e-03 -3.35419800e-02 -2.13793670e-02\n",
      " -9.92622200e-03  9.05821900e-03  4.24441200e-03  4.13621370e-02\n",
      "  3.17157160e-04 -2.12471930e-02  4.18193500e-03  1.29638020e-03\n",
      " -1.14584580e-02  4.67596400e-02 -2.52806490e-02 -2.33219730e-02\n",
      " -3.55505200e-02  1.05563050e-02 -2.60063220e-02  8.84033400e-02\n",
      "  4.90626550e-03 -1.45917520e-02 -2.51950700e-02  4.48128000e-04\n",
      "  5.54084170e-03 -1.11769390e-02  1.00004130e-05 -2.53303960e-02\n",
      "  3.26707070e-03  2.53861300e-02 -9.13190400e-03 -1.09155060e-01\n",
      " -1.05092250e-01  1.28122460e-02  2.65111770e-02  9.39101200e-03\n",
      "  1.31717430e-03  2.99327880e-02  6.86627700e-03 -5.95611000e-03\n",
      "  2.16965360e-02  1.86647900e-02 -3.79658300e-02 -3.06359920e-02\n",
      " -5.33133600e-02  4.69343300e-02 -3.80378180e-02 -9.86678600e-03\n",
      "  3.94502770e-02  1.68597080e-02  1.94055480e-02  3.90162800e-03\n",
      " -6.49550100e-02 -1.05387640e-02  3.87043100e-02 -3.82024940e-02\n",
      "  2.75846510e-02 -2.09411930e-03 -2.82164510e-02  9.90504200e-03\n",
      " -2.75234640e-02  1.69033910e-02  6.71147900e-02  4.37006060e-02\n",
      " -3.21996850e-02  1.49386340e-02  2.01669350e-02 -7.53570670e-03\n",
      " -1.06146660e-03  8.18854000e-03  1.13137110e-02 -4.26206300e-02\n",
      "  2.36363650e-02  2.32854800e-03  3.38495800e-02  3.39612060e-03\n",
      " -2.46508530e-02  1.24571130e-02  5.34010640e-02 -2.69087780e-02\n",
      "  5.86023970e-03 -5.05697000e-02 -1.20101220e-02 -2.79095560e-02\n",
      " -4.72243880e-02  2.70855370e-02  5.67719270e-02  7.89984700e-03\n",
      "  7.51206800e-03 -4.13863550e-02 -3.55208920e-03  2.65643440e-03\n",
      " -4.07843070e-02 -2.22113490e-02 -5.72802500e-02  3.73718900e-02\n",
      "  5.13413830e-03 -5.59695180e-02 -1.12930430e-02 -2.48776060e-02\n",
      "  1.03288810e-02 -1.33177230e-02 -1.97947420e-02  2.16879030e-02\n",
      " -2.32212130e-02 -7.42738200e-02  2.54330520e-02 -6.08810340e-02\n",
      "  3.01380230e-02  6.14497660e-02  1.54975500e-03 -8.93070600e-03\n",
      "  1.38145750e-02  9.61495640e-02  2.06086260e-02  2.49341900e-02\n",
      "  6.04779200e-02  3.14017160e-02 -1.08309140e-02  3.02028000e-02\n",
      "  1.63437480e-02  1.96097210e-02 -1.41439290e-02 -5.48622900e-03\n",
      " -9.96816400e-03 -1.56796950e-02  1.92941820e-02  2.26422140e-02\n",
      " -4.83201850e-02 -1.42479850e-02 -2.66610350e-02  6.68953400e-03\n",
      " -1.48928040e-02 -4.95297720e-02  4.39092550e-02 -7.21063140e-03\n",
      " -3.58533970e-02 -2.59749160e-02  4.32827920e-02  8.89780650e-03\n",
      "  2.16642900e-02  3.24693100e-02 -3.36429920e-02  2.14936200e-02\n",
      " -3.16218140e-02  5.62661740e-02 -1.81450640e-02  9.03855250e-04\n",
      "  1.78801600e-02 -1.28335620e-02 -4.34497970e-02 -7.13106600e-02\n",
      "  3.26039600e-02 -1.63682140e-02 -3.17104420e-02 -8.47439500e-03\n",
      "  8.37722300e-03 -8.26840200e-03  2.54773570e-02  7.57757800e-03\n",
      "  5.69778500e-03 -8.18253500e-03 -1.07026450e-03 -2.60452600e-02\n",
      "  4.15171570e-02 -3.58336750e-02  2.77179600e-02 -7.71899700e-03\n",
      "  1.74147840e-02  2.61987900e-02 -1.36624420e-02 -4.95539640e-02\n",
      "  3.15027570e-02 -6.05667900e-02 -1.91787610e-02  7.11964300e-03\n",
      "  1.16354420e-02  1.37072485e-02  7.52892350e-02 -6.12601800e-03\n",
      "  3.21388360e-02  3.87005550e-02 -2.73696540e-02 -3.94543000e-02\n",
      " -4.53948400e-02 -5.28076850e-02 -4.63105900e-02 -1.88944790e-02\n",
      " -4.23680250e-02  6.37467800e-02 -6.32448400e-02 -2.63412500e-02\n",
      " -6.31948100e-02  3.48308160e-02 -5.72631600e-02 -1.74837150e-02\n",
      "  3.77930860e-03 -6.61449600e-03  8.35896400e-03  4.35628740e-02\n",
      "  9.10285200e-03 -1.02147220e-02 -2.72972200e-02  5.78265300e-04\n",
      "  7.58068170e-03  6.67079500e-02  5.46907040e-02 -2.13391970e-02\n",
      " -3.75476330e-02 -2.54587940e-02  9.12995560e-02 -1.69708360e-02\n",
      "  1.14056050e-02  8.73514100e-03  5.16690600e-02  1.40372580e-02\n",
      "  5.34712930e-02 -4.93414400e-02 -2.01812130e-02  2.12438610e-02\n",
      "  1.29932090e-02 -4.08478530e-02 -1.02921450e-01  2.33522270e-03\n",
      "  2.37477690e-03 -1.46224160e-02  2.87482460e-02  1.67155340e-02\n",
      " -7.78696300e-03  4.52715900e-02 -3.25627440e-02 -1.78091800e-02\n",
      " -7.31466560e-02  1.06506410e-02 -7.46337300e-03  1.71461980e-02\n",
      "  9.75890300e-03  2.95866190e-02 -8.60477800e-03 -1.49171440e-02\n",
      " -1.12315860e-02  6.57143800e-03 -3.96803470e-02 -1.39738610e-04\n",
      "  9.58483500e-03  4.25724400e-02  1.52055490e-03 -1.65333190e-02\n",
      "  5.98974600e-03 -2.23363710e-02  1.43707290e-02  5.44311930e-02\n",
      " -2.70568990e-02 -5.98325170e-02  2.57792300e-03 -3.57074030e-02\n",
      " -6.98825100e-03 -2.09225770e-02  8.41598100e-03 -7.09464000e-02\n",
      "  3.01622820e-02 -1.52481930e-02  6.68341100e-03  4.21030450e-02\n",
      "  5.69238200e-02 -4.53576770e-03  2.08158120e-02  1.47740190e-02\n",
      " -5.32690620e-02  7.24341630e-03 -1.55889750e-02  1.64756010e-02\n",
      " -9.50738200e-03  5.76191900e-02 -1.81896960e-03 -7.42758530e-03\n",
      " -8.89022200e-03  1.14625420e-02  5.65406200e-02  1.77995000e-02\n",
      " -8.74410600e-03 -1.09132165e-02  3.41507050e-02 -1.28966420e-02\n",
      "  2.01454160e-02  1.32725990e-02 -4.57220400e-02 -2.71431600e-03\n",
      " -5.04045930e-02  2.96564080e-02  1.00729050e-01 -1.57221480e-02\n",
      "  3.45671900e-02  2.06105750e-02 -1.54351750e-03  1.30442520e-01\n",
      "  6.77682500e-03  4.12102860e-02 -3.54163400e-03 -2.88081540e-03\n",
      "  3.83795700e-02  7.56960000e-02  4.94635330e-02  5.62852060e-02\n",
      " -3.82246640e-02 -5.49925040e-02 -6.25744100e-02  3.21012670e-03\n",
      "  4.00896200e-02  2.06072440e-03 -4.06577620e-02  4.55296230e-02\n",
      " -4.72045000e-02 -6.02696200e-03 -2.71036100e-02 -1.70235260e-02\n",
      " -2.75421810e-02 -2.96036500e-02  2.31142530e-02 -4.82978600e-03\n",
      " -4.36354880e-02  5.23890830e-03  4.67470240e-03  4.02167900e-02\n",
      " -5.26424100e-02 -9.49680100e-02 -9.39701450e-04 -2.51760240e-02\n",
      " -5.61905280e-02 -7.50257960e-03  3.73350780e-03 -3.70791740e-02\n",
      " -5.83200700e-03  1.86840490e-03  3.55934870e-02 -2.04465980e-03\n",
      "  2.12884970e-03 -4.82638630e-02 -5.93271800e-02 -1.13542930e-02\n",
      "  1.78378370e-02 -1.51230280e-03 -1.11378710e-02 -4.81328480e-02\n",
      "  3.28020570e-02 -2.56485770e-03]\n"
     ]
    }
   ],
   "source": [
    "print(combined_embeddings[0])"
   ]
  },
  {
   "cell_type": "code",
   "execution_count": null,
   "metadata": {},
   "outputs": [],
   "source": [
    "#prompt the LLM to return embeddings?????????"
   ]
  },
  {
   "cell_type": "code",
   "execution_count": 80,
   "metadata": {},
   "outputs": [
    {
     "name": "stdout",
     "output_type": "stream",
     "text": [
      "Error parsing response JSON: [0.006336182]}\n",
      "Error parsing response JSON: [0.003919447]}\n",
      "Error parsing response JSON: [0.012603521]}\n",
      "Error parsing response JSON: [0.004591953]}\n",
      "Error parsing response JSON: [0.008591235]}\n",
      "Error parsing response JSON: [0.01545449]}\n",
      "Error parsing response JSON: [0.020736814]}\n"
     ]
    },
    {
     "ename": "KeyboardInterrupt",
     "evalue": "",
     "output_type": "error",
     "traceback": [
      "\u001b[1;31m---------------------------------------------------------------------------\u001b[0m",
      "\u001b[1;31mKeyboardInterrupt\u001b[0m                         Traceback (most recent call last)",
      "Cell \u001b[1;32mIn[80], line 64\u001b[0m\n\u001b[0;32m     62\u001b[0m \u001b[38;5;28;01mfor\u001b[39;00m embedding \u001b[38;5;129;01min\u001b[39;00m combined_embeddings:\n\u001b[0;32m     63\u001b[0m     prompt \u001b[38;5;241m=\u001b[39m construct_llm_prompt(embedding)\n\u001b[1;32m---> 64\u001b[0m     predicted_embedding \u001b[38;5;241m=\u001b[39m gemini_predict(prompt)  \u001b[38;5;66;03m# Get the predicted embedding from Gemini\u001b[39;00m\n\u001b[0;32m     66\u001b[0m     \u001b[38;5;28;01mif\u001b[39;00m predicted_embedding \u001b[38;5;129;01mis\u001b[39;00m \u001b[38;5;129;01mnot\u001b[39;00m \u001b[38;5;28;01mNone\u001b[39;00m:\n\u001b[0;32m     67\u001b[0m         predicted_embeddings\u001b[38;5;241m.\u001b[39mappend(predicted_embedding)\n",
      "Cell \u001b[1;32mIn[80], line 20\u001b[0m, in \u001b[0;36mgemini_predict\u001b[1;34m(prompt)\u001b[0m\n\u001b[0;32m     17\u001b[0m \u001b[38;5;28;01mdef\u001b[39;00m \u001b[38;5;21mgemini_predict\u001b[39m(prompt):\n\u001b[0;32m     18\u001b[0m     \u001b[38;5;28;01mtry\u001b[39;00m:\n\u001b[0;32m     19\u001b[0m         \u001b[38;5;66;03m# Generate content from the model\u001b[39;00m\n\u001b[1;32m---> 20\u001b[0m         response \u001b[38;5;241m=\u001b[39m client\u001b[38;5;241m.\u001b[39mmodels\u001b[38;5;241m.\u001b[39mgenerate_content(\n\u001b[0;32m     21\u001b[0m             model\u001b[38;5;241m=\u001b[39m\u001b[38;5;124m'\u001b[39m\u001b[38;5;124mgemini-2.0-flash\u001b[39m\u001b[38;5;124m'\u001b[39m,  \u001b[38;5;66;03m# Or use your specific model\u001b[39;00m\n\u001b[0;32m     22\u001b[0m             contents\u001b[38;5;241m=\u001b[39mprompt,\n\u001b[0;32m     23\u001b[0m             config\u001b[38;5;241m=\u001b[39mtypes\u001b[38;5;241m.\u001b[39mGenerateContentConfig(\n\u001b[0;32m     24\u001b[0m                 system_instruction\u001b[38;5;241m=\u001b[39m\u001b[38;5;124m\"\u001b[39m\u001b[38;5;124mPredict the next token based on the historical data.\u001b[39m\u001b[38;5;124m\"\u001b[39m,  \u001b[38;5;66;03m# You can fine-tune this instruction\u001b[39;00m\n\u001b[0;32m     25\u001b[0m                 max_output_tokens\u001b[38;5;241m=\u001b[39m\u001b[38;5;241m60\u001b[39m,  \u001b[38;5;66;03m# Assuming you're predicting just one token (the 6th day embedding)\u001b[39;00m\n\u001b[0;32m     26\u001b[0m                 temperature\u001b[38;5;241m=\u001b[39m\u001b[38;5;241m0.5\u001b[39m,      \u001b[38;5;66;03m# Adjust flexibility\u001b[39;00m\n\u001b[0;32m     27\u001b[0m                 top_k\u001b[38;5;241m=\u001b[39m\u001b[38;5;241m5\u001b[39m,              \u001b[38;5;66;03m# Limit to top 5 choices\u001b[39;00m\n\u001b[0;32m     28\u001b[0m                 top_p\u001b[38;5;241m=\u001b[39m\u001b[38;5;241m0.7\u001b[39m,            \u001b[38;5;66;03m# Consider tokens covering 70% probability mass\u001b[39;00m\n\u001b[0;32m     29\u001b[0m                 response_mime_type\u001b[38;5;241m=\u001b[39m\u001b[38;5;124m'\u001b[39m\u001b[38;5;124mapplication/json\u001b[39m\u001b[38;5;124m'\u001b[39m,\n\u001b[0;32m     30\u001b[0m                 stop_sequences\u001b[38;5;241m=\u001b[39m[\u001b[38;5;124m'\u001b[39m\u001b[38;5;124m}\u001b[39m\u001b[38;5;124m'\u001b[39m]  \u001b[38;5;66;03m# No premature stop\u001b[39;00m\n\u001b[0;32m     31\u001b[0m             )\n\u001b[0;32m     32\u001b[0m         )\n\u001b[0;32m     34\u001b[0m         response_text \u001b[38;5;241m=\u001b[39m response\u001b[38;5;241m.\u001b[39mtext\u001b[38;5;241m.\u001b[39mstrip()\n\u001b[0;32m     36\u001b[0m         \u001b[38;5;66;03m# Try to fix incomplete JSON by appending a missing closing brace if needed\u001b[39;00m\n",
      "File \u001b[1;32mc:\\Users\\Tammy\\anaconda3\\Lib\\site-packages\\google\\genai\\models.py:5304\u001b[0m, in \u001b[0;36mModels.generate_content\u001b[1;34m(self, model, contents, config)\u001b[0m\n\u001b[0;32m   5302\u001b[0m \u001b[38;5;28;01mwhile\u001b[39;00m remaining_remote_calls_afc \u001b[38;5;241m>\u001b[39m \u001b[38;5;241m0\u001b[39m:\n\u001b[0;32m   5303\u001b[0m   i \u001b[38;5;241m+\u001b[39m\u001b[38;5;241m=\u001b[39m \u001b[38;5;241m1\u001b[39m\n\u001b[1;32m-> 5304\u001b[0m   response \u001b[38;5;241m=\u001b[39m \u001b[38;5;28mself\u001b[39m\u001b[38;5;241m.\u001b[39m_generate_content(\n\u001b[0;32m   5305\u001b[0m       model\u001b[38;5;241m=\u001b[39mmodel, contents\u001b[38;5;241m=\u001b[39mcontents, config\u001b[38;5;241m=\u001b[39mconfig\n\u001b[0;32m   5306\u001b[0m   )\n\u001b[0;32m   5307\u001b[0m   logger\u001b[38;5;241m.\u001b[39minfo(\u001b[38;5;124mf\u001b[39m\u001b[38;5;124m'\u001b[39m\u001b[38;5;124mAFC remote call \u001b[39m\u001b[38;5;132;01m{\u001b[39;00mi\u001b[38;5;132;01m}\u001b[39;00m\u001b[38;5;124m is done.\u001b[39m\u001b[38;5;124m'\u001b[39m)\n\u001b[0;32m   5308\u001b[0m   remaining_remote_calls_afc \u001b[38;5;241m-\u001b[39m\u001b[38;5;241m=\u001b[39m \u001b[38;5;241m1\u001b[39m\n",
      "File \u001b[1;32mc:\\Users\\Tammy\\anaconda3\\Lib\\site-packages\\google\\genai\\models.py:4272\u001b[0m, in \u001b[0;36mModels._generate_content\u001b[1;34m(self, model, contents, config)\u001b[0m\n\u001b[0;32m   4269\u001b[0m request_dict \u001b[38;5;241m=\u001b[39m _common\u001b[38;5;241m.\u001b[39mconvert_to_dict(request_dict)\n\u001b[0;32m   4270\u001b[0m request_dict \u001b[38;5;241m=\u001b[39m _common\u001b[38;5;241m.\u001b[39mencode_unserializable_types(request_dict)\n\u001b[1;32m-> 4272\u001b[0m response_dict \u001b[38;5;241m=\u001b[39m \u001b[38;5;28mself\u001b[39m\u001b[38;5;241m.\u001b[39m_api_client\u001b[38;5;241m.\u001b[39mrequest(\n\u001b[0;32m   4273\u001b[0m     \u001b[38;5;124m'\u001b[39m\u001b[38;5;124mpost\u001b[39m\u001b[38;5;124m'\u001b[39m, path, request_dict, http_options\n\u001b[0;32m   4274\u001b[0m )\n\u001b[0;32m   4276\u001b[0m \u001b[38;5;28;01mif\u001b[39;00m \u001b[38;5;28mself\u001b[39m\u001b[38;5;241m.\u001b[39m_api_client\u001b[38;5;241m.\u001b[39mvertexai:\n\u001b[0;32m   4277\u001b[0m   response_dict \u001b[38;5;241m=\u001b[39m _GenerateContentResponse_from_vertex(\n\u001b[0;32m   4278\u001b[0m       \u001b[38;5;28mself\u001b[39m\u001b[38;5;241m.\u001b[39m_api_client, response_dict\n\u001b[0;32m   4279\u001b[0m   )\n",
      "File \u001b[1;32mc:\\Users\\Tammy\\anaconda3\\Lib\\site-packages\\google\\genai\\_api_client.py:575\u001b[0m, in \u001b[0;36mBaseApiClient.request\u001b[1;34m(self, http_method, path, request_dict, http_options)\u001b[0m\n\u001b[0;32m    565\u001b[0m \u001b[38;5;28;01mdef\u001b[39;00m \u001b[38;5;21mrequest\u001b[39m(\n\u001b[0;32m    566\u001b[0m     \u001b[38;5;28mself\u001b[39m,\n\u001b[0;32m    567\u001b[0m     http_method: \u001b[38;5;28mstr\u001b[39m,\n\u001b[1;32m   (...)\u001b[0m\n\u001b[0;32m    570\u001b[0m     http_options: Optional[HttpOptionsOrDict] \u001b[38;5;241m=\u001b[39m \u001b[38;5;28;01mNone\u001b[39;00m,\n\u001b[0;32m    571\u001b[0m ):\n\u001b[0;32m    572\u001b[0m   http_request \u001b[38;5;241m=\u001b[39m \u001b[38;5;28mself\u001b[39m\u001b[38;5;241m.\u001b[39m_build_request(\n\u001b[0;32m    573\u001b[0m       http_method, path, request_dict, http_options\n\u001b[0;32m    574\u001b[0m   )\n\u001b[1;32m--> 575\u001b[0m   response \u001b[38;5;241m=\u001b[39m \u001b[38;5;28mself\u001b[39m\u001b[38;5;241m.\u001b[39m_request(http_request, stream\u001b[38;5;241m=\u001b[39m\u001b[38;5;28;01mFalse\u001b[39;00m)\n\u001b[0;32m    576\u001b[0m   json_response \u001b[38;5;241m=\u001b[39m response\u001b[38;5;241m.\u001b[39mjson\n\u001b[0;32m    577\u001b[0m   \u001b[38;5;28;01mif\u001b[39;00m \u001b[38;5;129;01mnot\u001b[39;00m json_response:\n",
      "File \u001b[1;32mc:\\Users\\Tammy\\anaconda3\\Lib\\site-packages\\google\\genai\\_api_client.py:488\u001b[0m, in \u001b[0;36mBaseApiClient._request\u001b[1;34m(self, http_request, stream)\u001b[0m\n\u001b[0;32m    484\u001b[0m   \u001b[38;5;28;01mreturn\u001b[39;00m HttpResponse(\n\u001b[0;32m    485\u001b[0m       response\u001b[38;5;241m.\u001b[39mheaders, response \u001b[38;5;28;01mif\u001b[39;00m stream \u001b[38;5;28;01melse\u001b[39;00m [response\u001b[38;5;241m.\u001b[39mtext]\n\u001b[0;32m    486\u001b[0m   )\n\u001b[0;32m    487\u001b[0m \u001b[38;5;28;01melse\u001b[39;00m:\n\u001b[1;32m--> 488\u001b[0m   \u001b[38;5;28;01mreturn\u001b[39;00m \u001b[38;5;28mself\u001b[39m\u001b[38;5;241m.\u001b[39m_request_unauthorized(http_request, stream)\n",
      "File \u001b[1;32mc:\\Users\\Tammy\\anaconda3\\Lib\\site-packages\\google\\genai\\_api_client.py:503\u001b[0m, in \u001b[0;36mBaseApiClient._request_unauthorized\u001b[1;34m(self, http_request, stream)\u001b[0m\n\u001b[0;32m    500\u001b[0m     data \u001b[38;5;241m=\u001b[39m http_request\u001b[38;5;241m.\u001b[39mdata\n\u001b[0;32m    502\u001b[0m http_session \u001b[38;5;241m=\u001b[39m requests\u001b[38;5;241m.\u001b[39mSession()\n\u001b[1;32m--> 503\u001b[0m response \u001b[38;5;241m=\u001b[39m http_session\u001b[38;5;241m.\u001b[39mrequest(\n\u001b[0;32m    504\u001b[0m     method\u001b[38;5;241m=\u001b[39mhttp_request\u001b[38;5;241m.\u001b[39mmethod,\n\u001b[0;32m    505\u001b[0m     url\u001b[38;5;241m=\u001b[39mhttp_request\u001b[38;5;241m.\u001b[39murl,\n\u001b[0;32m    506\u001b[0m     headers\u001b[38;5;241m=\u001b[39mhttp_request\u001b[38;5;241m.\u001b[39mheaders,\n\u001b[0;32m    507\u001b[0m     data\u001b[38;5;241m=\u001b[39mdata,\n\u001b[0;32m    508\u001b[0m     timeout\u001b[38;5;241m=\u001b[39mhttp_request\u001b[38;5;241m.\u001b[39mtimeout,\n\u001b[0;32m    509\u001b[0m     stream\u001b[38;5;241m=\u001b[39mstream,\n\u001b[0;32m    510\u001b[0m )\n\u001b[0;32m    511\u001b[0m errors\u001b[38;5;241m.\u001b[39mAPIError\u001b[38;5;241m.\u001b[39mraise_for_response(response)\n\u001b[0;32m    512\u001b[0m \u001b[38;5;28;01mreturn\u001b[39;00m HttpResponse(\n\u001b[0;32m    513\u001b[0m     response\u001b[38;5;241m.\u001b[39mheaders, response \u001b[38;5;28;01mif\u001b[39;00m stream \u001b[38;5;28;01melse\u001b[39;00m [response\u001b[38;5;241m.\u001b[39mtext]\n\u001b[0;32m    514\u001b[0m )\n",
      "File \u001b[1;32mc:\\Users\\Tammy\\anaconda3\\Lib\\site-packages\\requests\\sessions.py:589\u001b[0m, in \u001b[0;36mSession.request\u001b[1;34m(self, method, url, params, data, headers, cookies, files, auth, timeout, allow_redirects, proxies, hooks, stream, verify, cert, json)\u001b[0m\n\u001b[0;32m    584\u001b[0m send_kwargs \u001b[38;5;241m=\u001b[39m {\n\u001b[0;32m    585\u001b[0m     \u001b[38;5;124m\"\u001b[39m\u001b[38;5;124mtimeout\u001b[39m\u001b[38;5;124m\"\u001b[39m: timeout,\n\u001b[0;32m    586\u001b[0m     \u001b[38;5;124m\"\u001b[39m\u001b[38;5;124mallow_redirects\u001b[39m\u001b[38;5;124m\"\u001b[39m: allow_redirects,\n\u001b[0;32m    587\u001b[0m }\n\u001b[0;32m    588\u001b[0m send_kwargs\u001b[38;5;241m.\u001b[39mupdate(settings)\n\u001b[1;32m--> 589\u001b[0m resp \u001b[38;5;241m=\u001b[39m \u001b[38;5;28mself\u001b[39m\u001b[38;5;241m.\u001b[39msend(prep, \u001b[38;5;241m*\u001b[39m\u001b[38;5;241m*\u001b[39msend_kwargs)\n\u001b[0;32m    591\u001b[0m \u001b[38;5;28;01mreturn\u001b[39;00m resp\n",
      "File \u001b[1;32mc:\\Users\\Tammy\\anaconda3\\Lib\\site-packages\\requests\\sessions.py:703\u001b[0m, in \u001b[0;36mSession.send\u001b[1;34m(self, request, **kwargs)\u001b[0m\n\u001b[0;32m    700\u001b[0m start \u001b[38;5;241m=\u001b[39m preferred_clock()\n\u001b[0;32m    702\u001b[0m \u001b[38;5;66;03m# Send the request\u001b[39;00m\n\u001b[1;32m--> 703\u001b[0m r \u001b[38;5;241m=\u001b[39m adapter\u001b[38;5;241m.\u001b[39msend(request, \u001b[38;5;241m*\u001b[39m\u001b[38;5;241m*\u001b[39mkwargs)\n\u001b[0;32m    705\u001b[0m \u001b[38;5;66;03m# Total elapsed time of the request (approximately)\u001b[39;00m\n\u001b[0;32m    706\u001b[0m elapsed \u001b[38;5;241m=\u001b[39m preferred_clock() \u001b[38;5;241m-\u001b[39m start\n",
      "File \u001b[1;32mc:\\Users\\Tammy\\anaconda3\\Lib\\site-packages\\requests\\adapters.py:667\u001b[0m, in \u001b[0;36mHTTPAdapter.send\u001b[1;34m(self, request, stream, timeout, verify, cert, proxies)\u001b[0m\n\u001b[0;32m    664\u001b[0m     timeout \u001b[38;5;241m=\u001b[39m TimeoutSauce(connect\u001b[38;5;241m=\u001b[39mtimeout, read\u001b[38;5;241m=\u001b[39mtimeout)\n\u001b[0;32m    666\u001b[0m \u001b[38;5;28;01mtry\u001b[39;00m:\n\u001b[1;32m--> 667\u001b[0m     resp \u001b[38;5;241m=\u001b[39m conn\u001b[38;5;241m.\u001b[39murlopen(\n\u001b[0;32m    668\u001b[0m         method\u001b[38;5;241m=\u001b[39mrequest\u001b[38;5;241m.\u001b[39mmethod,\n\u001b[0;32m    669\u001b[0m         url\u001b[38;5;241m=\u001b[39murl,\n\u001b[0;32m    670\u001b[0m         body\u001b[38;5;241m=\u001b[39mrequest\u001b[38;5;241m.\u001b[39mbody,\n\u001b[0;32m    671\u001b[0m         headers\u001b[38;5;241m=\u001b[39mrequest\u001b[38;5;241m.\u001b[39mheaders,\n\u001b[0;32m    672\u001b[0m         redirect\u001b[38;5;241m=\u001b[39m\u001b[38;5;28;01mFalse\u001b[39;00m,\n\u001b[0;32m    673\u001b[0m         assert_same_host\u001b[38;5;241m=\u001b[39m\u001b[38;5;28;01mFalse\u001b[39;00m,\n\u001b[0;32m    674\u001b[0m         preload_content\u001b[38;5;241m=\u001b[39m\u001b[38;5;28;01mFalse\u001b[39;00m,\n\u001b[0;32m    675\u001b[0m         decode_content\u001b[38;5;241m=\u001b[39m\u001b[38;5;28;01mFalse\u001b[39;00m,\n\u001b[0;32m    676\u001b[0m         retries\u001b[38;5;241m=\u001b[39m\u001b[38;5;28mself\u001b[39m\u001b[38;5;241m.\u001b[39mmax_retries,\n\u001b[0;32m    677\u001b[0m         timeout\u001b[38;5;241m=\u001b[39mtimeout,\n\u001b[0;32m    678\u001b[0m         chunked\u001b[38;5;241m=\u001b[39mchunked,\n\u001b[0;32m    679\u001b[0m     )\n\u001b[0;32m    681\u001b[0m \u001b[38;5;28;01mexcept\u001b[39;00m (ProtocolError, \u001b[38;5;167;01mOSError\u001b[39;00m) \u001b[38;5;28;01mas\u001b[39;00m err:\n\u001b[0;32m    682\u001b[0m     \u001b[38;5;28;01mraise\u001b[39;00m \u001b[38;5;167;01mConnectionError\u001b[39;00m(err, request\u001b[38;5;241m=\u001b[39mrequest)\n",
      "File \u001b[1;32mc:\\Users\\Tammy\\anaconda3\\Lib\\site-packages\\urllib3\\connectionpool.py:789\u001b[0m, in \u001b[0;36mHTTPConnectionPool.urlopen\u001b[1;34m(self, method, url, body, headers, retries, redirect, assert_same_host, timeout, pool_timeout, release_conn, chunked, body_pos, preload_content, decode_content, **response_kw)\u001b[0m\n\u001b[0;32m    786\u001b[0m response_conn \u001b[38;5;241m=\u001b[39m conn \u001b[38;5;28;01mif\u001b[39;00m \u001b[38;5;129;01mnot\u001b[39;00m release_conn \u001b[38;5;28;01melse\u001b[39;00m \u001b[38;5;28;01mNone\u001b[39;00m\n\u001b[0;32m    788\u001b[0m \u001b[38;5;66;03m# Make the request on the HTTPConnection object\u001b[39;00m\n\u001b[1;32m--> 789\u001b[0m response \u001b[38;5;241m=\u001b[39m \u001b[38;5;28mself\u001b[39m\u001b[38;5;241m.\u001b[39m_make_request(\n\u001b[0;32m    790\u001b[0m     conn,\n\u001b[0;32m    791\u001b[0m     method,\n\u001b[0;32m    792\u001b[0m     url,\n\u001b[0;32m    793\u001b[0m     timeout\u001b[38;5;241m=\u001b[39mtimeout_obj,\n\u001b[0;32m    794\u001b[0m     body\u001b[38;5;241m=\u001b[39mbody,\n\u001b[0;32m    795\u001b[0m     headers\u001b[38;5;241m=\u001b[39mheaders,\n\u001b[0;32m    796\u001b[0m     chunked\u001b[38;5;241m=\u001b[39mchunked,\n\u001b[0;32m    797\u001b[0m     retries\u001b[38;5;241m=\u001b[39mretries,\n\u001b[0;32m    798\u001b[0m     response_conn\u001b[38;5;241m=\u001b[39mresponse_conn,\n\u001b[0;32m    799\u001b[0m     preload_content\u001b[38;5;241m=\u001b[39mpreload_content,\n\u001b[0;32m    800\u001b[0m     decode_content\u001b[38;5;241m=\u001b[39mdecode_content,\n\u001b[0;32m    801\u001b[0m     \u001b[38;5;241m*\u001b[39m\u001b[38;5;241m*\u001b[39mresponse_kw,\n\u001b[0;32m    802\u001b[0m )\n\u001b[0;32m    804\u001b[0m \u001b[38;5;66;03m# Everything went great!\u001b[39;00m\n\u001b[0;32m    805\u001b[0m clean_exit \u001b[38;5;241m=\u001b[39m \u001b[38;5;28;01mTrue\u001b[39;00m\n",
      "File \u001b[1;32mc:\\Users\\Tammy\\anaconda3\\Lib\\site-packages\\urllib3\\connectionpool.py:536\u001b[0m, in \u001b[0;36mHTTPConnectionPool._make_request\u001b[1;34m(self, conn, method, url, body, headers, retries, timeout, chunked, response_conn, preload_content, decode_content, enforce_content_length)\u001b[0m\n\u001b[0;32m    534\u001b[0m \u001b[38;5;66;03m# Receive the response from the server\u001b[39;00m\n\u001b[0;32m    535\u001b[0m \u001b[38;5;28;01mtry\u001b[39;00m:\n\u001b[1;32m--> 536\u001b[0m     response \u001b[38;5;241m=\u001b[39m conn\u001b[38;5;241m.\u001b[39mgetresponse()\n\u001b[0;32m    537\u001b[0m \u001b[38;5;28;01mexcept\u001b[39;00m (BaseSSLError, \u001b[38;5;167;01mOSError\u001b[39;00m) \u001b[38;5;28;01mas\u001b[39;00m e:\n\u001b[0;32m    538\u001b[0m     \u001b[38;5;28mself\u001b[39m\u001b[38;5;241m.\u001b[39m_raise_timeout(err\u001b[38;5;241m=\u001b[39me, url\u001b[38;5;241m=\u001b[39murl, timeout_value\u001b[38;5;241m=\u001b[39mread_timeout)\n",
      "File \u001b[1;32mc:\\Users\\Tammy\\anaconda3\\Lib\\site-packages\\urllib3\\connection.py:507\u001b[0m, in \u001b[0;36mHTTPConnection.getresponse\u001b[1;34m(self)\u001b[0m\n\u001b[0;32m    504\u001b[0m \u001b[38;5;28;01mfrom\u001b[39;00m \u001b[38;5;21;01m.\u001b[39;00m\u001b[38;5;21;01mresponse\u001b[39;00m \u001b[38;5;28;01mimport\u001b[39;00m HTTPResponse\n\u001b[0;32m    506\u001b[0m \u001b[38;5;66;03m# Get the response from http.client.HTTPConnection\u001b[39;00m\n\u001b[1;32m--> 507\u001b[0m httplib_response \u001b[38;5;241m=\u001b[39m \u001b[38;5;28msuper\u001b[39m()\u001b[38;5;241m.\u001b[39mgetresponse()\n\u001b[0;32m    509\u001b[0m \u001b[38;5;28;01mtry\u001b[39;00m:\n\u001b[0;32m    510\u001b[0m     assert_header_parsing(httplib_response\u001b[38;5;241m.\u001b[39mmsg)\n",
      "File \u001b[1;32mc:\\Users\\Tammy\\anaconda3\\Lib\\http\\client.py:1428\u001b[0m, in \u001b[0;36mHTTPConnection.getresponse\u001b[1;34m(self)\u001b[0m\n\u001b[0;32m   1426\u001b[0m \u001b[38;5;28;01mtry\u001b[39;00m:\n\u001b[0;32m   1427\u001b[0m     \u001b[38;5;28;01mtry\u001b[39;00m:\n\u001b[1;32m-> 1428\u001b[0m         response\u001b[38;5;241m.\u001b[39mbegin()\n\u001b[0;32m   1429\u001b[0m     \u001b[38;5;28;01mexcept\u001b[39;00m \u001b[38;5;167;01mConnectionError\u001b[39;00m:\n\u001b[0;32m   1430\u001b[0m         \u001b[38;5;28mself\u001b[39m\u001b[38;5;241m.\u001b[39mclose()\n",
      "File \u001b[1;32mc:\\Users\\Tammy\\anaconda3\\Lib\\http\\client.py:331\u001b[0m, in \u001b[0;36mHTTPResponse.begin\u001b[1;34m(self)\u001b[0m\n\u001b[0;32m    329\u001b[0m \u001b[38;5;66;03m# read until we get a non-100 response\u001b[39;00m\n\u001b[0;32m    330\u001b[0m \u001b[38;5;28;01mwhile\u001b[39;00m \u001b[38;5;28;01mTrue\u001b[39;00m:\n\u001b[1;32m--> 331\u001b[0m     version, status, reason \u001b[38;5;241m=\u001b[39m \u001b[38;5;28mself\u001b[39m\u001b[38;5;241m.\u001b[39m_read_status()\n\u001b[0;32m    332\u001b[0m     \u001b[38;5;28;01mif\u001b[39;00m status \u001b[38;5;241m!=\u001b[39m CONTINUE:\n\u001b[0;32m    333\u001b[0m         \u001b[38;5;28;01mbreak\u001b[39;00m\n",
      "File \u001b[1;32mc:\\Users\\Tammy\\anaconda3\\Lib\\http\\client.py:292\u001b[0m, in \u001b[0;36mHTTPResponse._read_status\u001b[1;34m(self)\u001b[0m\n\u001b[0;32m    291\u001b[0m \u001b[38;5;28;01mdef\u001b[39;00m \u001b[38;5;21m_read_status\u001b[39m(\u001b[38;5;28mself\u001b[39m):\n\u001b[1;32m--> 292\u001b[0m     line \u001b[38;5;241m=\u001b[39m \u001b[38;5;28mstr\u001b[39m(\u001b[38;5;28mself\u001b[39m\u001b[38;5;241m.\u001b[39mfp\u001b[38;5;241m.\u001b[39mreadline(_MAXLINE \u001b[38;5;241m+\u001b[39m \u001b[38;5;241m1\u001b[39m), \u001b[38;5;124m\"\u001b[39m\u001b[38;5;124miso-8859-1\u001b[39m\u001b[38;5;124m\"\u001b[39m)\n\u001b[0;32m    293\u001b[0m     \u001b[38;5;28;01mif\u001b[39;00m \u001b[38;5;28mlen\u001b[39m(line) \u001b[38;5;241m>\u001b[39m _MAXLINE:\n\u001b[0;32m    294\u001b[0m         \u001b[38;5;28;01mraise\u001b[39;00m LineTooLong(\u001b[38;5;124m\"\u001b[39m\u001b[38;5;124mstatus line\u001b[39m\u001b[38;5;124m\"\u001b[39m)\n",
      "File \u001b[1;32mc:\\Users\\Tammy\\anaconda3\\Lib\\socket.py:720\u001b[0m, in \u001b[0;36mSocketIO.readinto\u001b[1;34m(self, b)\u001b[0m\n\u001b[0;32m    718\u001b[0m \u001b[38;5;28;01mwhile\u001b[39;00m \u001b[38;5;28;01mTrue\u001b[39;00m:\n\u001b[0;32m    719\u001b[0m     \u001b[38;5;28;01mtry\u001b[39;00m:\n\u001b[1;32m--> 720\u001b[0m         \u001b[38;5;28;01mreturn\u001b[39;00m \u001b[38;5;28mself\u001b[39m\u001b[38;5;241m.\u001b[39m_sock\u001b[38;5;241m.\u001b[39mrecv_into(b)\n\u001b[0;32m    721\u001b[0m     \u001b[38;5;28;01mexcept\u001b[39;00m timeout:\n\u001b[0;32m    722\u001b[0m         \u001b[38;5;28mself\u001b[39m\u001b[38;5;241m.\u001b[39m_timeout_occurred \u001b[38;5;241m=\u001b[39m \u001b[38;5;28;01mTrue\u001b[39;00m\n",
      "File \u001b[1;32mc:\\Users\\Tammy\\anaconda3\\Lib\\ssl.py:1251\u001b[0m, in \u001b[0;36mSSLSocket.recv_into\u001b[1;34m(self, buffer, nbytes, flags)\u001b[0m\n\u001b[0;32m   1247\u001b[0m     \u001b[38;5;28;01mif\u001b[39;00m flags \u001b[38;5;241m!=\u001b[39m \u001b[38;5;241m0\u001b[39m:\n\u001b[0;32m   1248\u001b[0m         \u001b[38;5;28;01mraise\u001b[39;00m \u001b[38;5;167;01mValueError\u001b[39;00m(\n\u001b[0;32m   1249\u001b[0m           \u001b[38;5;124m\"\u001b[39m\u001b[38;5;124mnon-zero flags not allowed in calls to recv_into() on \u001b[39m\u001b[38;5;132;01m%s\u001b[39;00m\u001b[38;5;124m\"\u001b[39m \u001b[38;5;241m%\u001b[39m\n\u001b[0;32m   1250\u001b[0m           \u001b[38;5;28mself\u001b[39m\u001b[38;5;241m.\u001b[39m\u001b[38;5;18m__class__\u001b[39m)\n\u001b[1;32m-> 1251\u001b[0m     \u001b[38;5;28;01mreturn\u001b[39;00m \u001b[38;5;28mself\u001b[39m\u001b[38;5;241m.\u001b[39mread(nbytes, buffer)\n\u001b[0;32m   1252\u001b[0m \u001b[38;5;28;01melse\u001b[39;00m:\n\u001b[0;32m   1253\u001b[0m     \u001b[38;5;28;01mreturn\u001b[39;00m \u001b[38;5;28msuper\u001b[39m()\u001b[38;5;241m.\u001b[39mrecv_into(buffer, nbytes, flags)\n",
      "File \u001b[1;32mc:\\Users\\Tammy\\anaconda3\\Lib\\ssl.py:1103\u001b[0m, in \u001b[0;36mSSLSocket.read\u001b[1;34m(self, len, buffer)\u001b[0m\n\u001b[0;32m   1101\u001b[0m \u001b[38;5;28;01mtry\u001b[39;00m:\n\u001b[0;32m   1102\u001b[0m     \u001b[38;5;28;01mif\u001b[39;00m buffer \u001b[38;5;129;01mis\u001b[39;00m \u001b[38;5;129;01mnot\u001b[39;00m \u001b[38;5;28;01mNone\u001b[39;00m:\n\u001b[1;32m-> 1103\u001b[0m         \u001b[38;5;28;01mreturn\u001b[39;00m \u001b[38;5;28mself\u001b[39m\u001b[38;5;241m.\u001b[39m_sslobj\u001b[38;5;241m.\u001b[39mread(\u001b[38;5;28mlen\u001b[39m, buffer)\n\u001b[0;32m   1104\u001b[0m     \u001b[38;5;28;01melse\u001b[39;00m:\n\u001b[0;32m   1105\u001b[0m         \u001b[38;5;28;01mreturn\u001b[39;00m \u001b[38;5;28mself\u001b[39m\u001b[38;5;241m.\u001b[39m_sslobj\u001b[38;5;241m.\u001b[39mread(\u001b[38;5;28mlen\u001b[39m)\n",
      "\u001b[1;31mKeyboardInterrupt\u001b[0m: "
     ]
    }
   ],
   "source": [
    "import json\n",
    "from google.genai import types\n",
    "import numpy as np\n",
    "\n",
    "# Assuming you already have the combined embeddings\n",
    "# Define a function to construct a prompt from the combined embeddings\n",
    "def construct_llm_prompt(embedding):\n",
    "    # Convert the embedding to a text-based format\n",
    "    # You could, for example, transform the embedding into a series of values\n",
    "    embedding_text = \", \".join([str(value) for value in embedding])  # Convert each embedding value to a string\n",
    "    \n",
    "    # Create the prompt for Gemini\n",
    "    prompt = f\"Given the following 5-day stock price embeddings: {embedding_text}, predict the next day's stock price embedding.\"\n",
    "    return prompt\n",
    "\n",
    "# Define the prediction function using Gemini\n",
    "def gemini_predict(prompt):\n",
    "    try:\n",
    "        # Generate content from the model\n",
    "        response = client.models.generate_content(\n",
    "            model='gemini-2.0-flash',  # Or use your specific model\n",
    "            contents=prompt,\n",
    "            config=types.GenerateContentConfig(\n",
    "                system_instruction=\"Predict the next token based on the historical data.\",  # You can fine-tune this instruction\n",
    "                max_output_tokens=60,  # Assuming you're predicting just one token (the 6th day embedding)\n",
    "                temperature=0.5,      # Adjust flexibility\n",
    "                top_k=5,              # Limit to top 5 choices\n",
    "                top_p=0.7,            # Consider tokens covering 70% probability mass\n",
    "                response_mime_type='application/json',\n",
    "                stop_sequences=['}']  # No premature stop\n",
    "            )\n",
    "        )\n",
    "        \n",
    "        response_text = response.text.strip()\n",
    "        \n",
    "        # Try to fix incomplete JSON by appending a missing closing brace if needed\n",
    "        if not response_text.endswith('}'):\n",
    "            response_text += '}'\n",
    "        \n",
    "        # Parse JSON response to extract predicted embedding (assuming response is in JSON format)\n",
    "        try:\n",
    "            response_json = json.loads(response_text)\n",
    "            predicted_embedding = response_json.get(\"predicted_embedding\", None)\n",
    "            if predicted_embedding is None:\n",
    "                print(\"Predicted embedding not found.\")\n",
    "                return None\n",
    "            return np.array(predicted_embedding)  # Convert to numpy array for further use\n",
    "        \n",
    "        except json.JSONDecodeError:\n",
    "            print(f\"Error parsing response JSON: {response_text}\")\n",
    "            return None\n",
    "    \n",
    "    except Exception as e:\n",
    "        print(f\"API Error: {e}\")\n",
    "        return None\n",
    "\n",
    "# Example usage:\n",
    "\n",
    "# For each combined embedding (e.g., a 5-day window), create a prompt and get the prediction\n",
    "predicted_embeddings = []\n",
    "\n",
    "for embedding in combined_embeddings:\n",
    "    prompt = construct_llm_prompt(embedding)\n",
    "    predicted_embedding = gemini_predict(prompt)  # Get the predicted embedding from Gemini\n",
    "    \n",
    "    if predicted_embedding is not None:\n",
    "        predicted_embeddings.append(predicted_embedding)\n",
    "\n",
    "# Convert the predicted embeddings back to stock prices using the MinMaxScaler's inverse transform\n",
    "predicted_prices = scaler.inverse_transform(np.array(predicted_embeddings))\n",
    "\n",
    "# Output the predicted stock prices for the next day (6th day)\n",
    "print(\"Predicted stock prices:\", predicted_prices)\n"
   ]
  },
  {
   "cell_type": "code",
   "execution_count": null,
   "metadata": {},
   "outputs": [],
   "source": [
    "# Assuming you have a combined embeddings array for the patches\n",
    "# This array will be your input to the LLM model\n",
    "\n",
    "def predict_next_embedding(combined_embeddings):\n",
    "    # Simulate predicting the next embedding from the LLM\n",
    "    predicted_embeddings = []\n",
    "    \n",
    "    for embedding in combined_embeddings:\n",
    "        # Make sure the embedding is correctly formatted for the LLM input\n",
    "        # This could be a call to an API like GPT, or any other LLM you're using\n",
    "        # For simplicity, we'll assume a placeholder LLM function\n",
    "        \n",
    "        # LLM (Gemini, GPT-3, etc.) would predict the next embedding here\n",
    "        # Here we're just appending a placeholder prediction\n",
    "        predicted_embedding = llm_predict(embedding)  # Replace with actual LLM call\n",
    "        \n",
    "        predicted_embeddings.append(predicted_embedding)\n",
    "    \n",
    "    return np.array(predicted_embeddings)\n",
    "\n",
    "# Predict the next embeddings (6th day stock price)\n",
    "predicted_embeddings = predict_next_embedding(combined_embeddings)\n",
    "\n",
    "# Convert the predicted embeddings back to stock prices\n",
    "predicted_prices = scaler.inverse_transform(predicted_embeddings)\n",
    "\n",
    "# Output the predicted stock prices for the 6th day\n",
    "print(predicted_prices)\n",
    "\n"
   ]
  },
  {
   "cell_type": "code",
   "execution_count": null,
   "metadata": {},
   "outputs": [],
   "source": [
    "#Account for news on the weekends\n",
    "#Rolling window"
   ]
  },
  {
   "cell_type": "code",
   "execution_count": null,
   "metadata": {},
   "outputs": [],
   "source": []
  }
 ],
 "metadata": {
  "kernelspec": {
   "display_name": "base",
   "language": "python",
   "name": "python3"
  },
  "language_info": {
   "codemirror_mode": {
    "name": "ipython",
    "version": 3
   },
   "file_extension": ".py",
   "mimetype": "text/x-python",
   "name": "python",
   "nbconvert_exporter": "python",
   "pygments_lexer": "ipython3",
   "version": "3.12.7"
  }
 },
 "nbformat": 4,
 "nbformat_minor": 2
}
