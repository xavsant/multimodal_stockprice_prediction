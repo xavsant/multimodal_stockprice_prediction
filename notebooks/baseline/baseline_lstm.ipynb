{
 "cells": [
  {
   "cell_type": "markdown",
   "metadata": {},
   "source": [
    "## Set-Up"
   ]
  },
  {
   "cell_type": "code",
   "execution_count": 3,
   "metadata": {},
   "outputs": [],
   "source": [
    "# Imports\n",
    "import numpy as np\n",
    "from numpy import concatenate\n",
    "from pandas import read_csv, DataFrame, concat, to_datetime\n",
    "import matplotlib.pyplot as plt\n",
    "import matplotlib.dates as mdates\n",
    "\n",
    "from sklearn.preprocessing import MinMaxScaler\n",
    "from sklearn.metrics import mean_absolute_error, mean_squared_error\n",
    "from keras.models import Sequential\n",
    "from keras.layers import Dense\n",
    "from keras.layers import LSTM"
   ]
  },
  {
   "cell_type": "code",
   "execution_count": 4,
   "metadata": {},
   "outputs": [],
   "source": [
    "# Define global variables\n",
    "num_features = 1\n",
    "target_variable = 'AAPL'\n",
    "lag_steps = 1"
   ]
  },
  {
   "cell_type": "code",
   "execution_count": 5,
   "metadata": {},
   "outputs": [
    {
     "name": "stdout",
     "output_type": "stream",
     "text": [
      "(2515, 180)\n"
     ]
    },
    {
     "data": {
      "text/html": [
       "<div>\n",
       "<style scoped>\n",
       "    .dataframe tbody tr th:only-of-type {\n",
       "        vertical-align: middle;\n",
       "    }\n",
       "\n",
       "    .dataframe tbody tr th {\n",
       "        vertical-align: top;\n",
       "    }\n",
       "\n",
       "    .dataframe thead tr th {\n",
       "        text-align: left;\n",
       "    }\n",
       "\n",
       "    .dataframe thead tr:last-of-type th {\n",
       "        text-align: right;\n",
       "    }\n",
       "</style>\n",
       "<table border=\"1\" class=\"dataframe\">\n",
       "  <thead>\n",
       "    <tr>\n",
       "      <th>Price</th>\n",
       "      <th colspan=\"10\" halign=\"left\">Adj Close</th>\n",
       "      <th>...</th>\n",
       "      <th colspan=\"10\" halign=\"left\">Volume</th>\n",
       "    </tr>\n",
       "    <tr>\n",
       "      <th>Ticker</th>\n",
       "      <th>AAPL</th>\n",
       "      <th>AMGN</th>\n",
       "      <th>AMZN</th>\n",
       "      <th>AXP</th>\n",
       "      <th>BA</th>\n",
       "      <th>CAT</th>\n",
       "      <th>CRM</th>\n",
       "      <th>CSCO</th>\n",
       "      <th>CVX</th>\n",
       "      <th>DIS</th>\n",
       "      <th>...</th>\n",
       "      <th>MSFT</th>\n",
       "      <th>NKE</th>\n",
       "      <th>NVDA</th>\n",
       "      <th>PG</th>\n",
       "      <th>SHW</th>\n",
       "      <th>TRV</th>\n",
       "      <th>UNH</th>\n",
       "      <th>V</th>\n",
       "      <th>VZ</th>\n",
       "      <th>WMT</th>\n",
       "    </tr>\n",
       "    <tr>\n",
       "      <th>Date</th>\n",
       "      <th></th>\n",
       "      <th></th>\n",
       "      <th></th>\n",
       "      <th></th>\n",
       "      <th></th>\n",
       "      <th></th>\n",
       "      <th></th>\n",
       "      <th></th>\n",
       "      <th></th>\n",
       "      <th></th>\n",
       "      <th></th>\n",
       "      <th></th>\n",
       "      <th></th>\n",
       "      <th></th>\n",
       "      <th></th>\n",
       "      <th></th>\n",
       "      <th></th>\n",
       "      <th></th>\n",
       "      <th></th>\n",
       "      <th></th>\n",
       "      <th></th>\n",
       "    </tr>\n",
       "  </thead>\n",
       "  <tbody>\n",
       "    <tr>\n",
       "      <th>2015-01-02</th>\n",
       "      <td>24.320435</td>\n",
       "      <td>120.226593</td>\n",
       "      <td>15.4260</td>\n",
       "      <td>80.133865</td>\n",
       "      <td>113.657204</td>\n",
       "      <td>70.110153</td>\n",
       "      <td>58.910961</td>\n",
       "      <td>20.189039</td>\n",
       "      <td>73.464256</td>\n",
       "      <td>86.310020</td>\n",
       "      <td>...</td>\n",
       "      <td>27913900</td>\n",
       "      <td>4985800</td>\n",
       "      <td>113680000</td>\n",
       "      <td>7251400</td>\n",
       "      <td>1700400</td>\n",
       "      <td>1270800</td>\n",
       "      <td>3060900</td>\n",
       "      <td>8389600</td>\n",
       "      <td>11421200</td>\n",
       "      <td>13505400</td>\n",
       "    </tr>\n",
       "    <tr>\n",
       "      <th>2015-01-05</th>\n",
       "      <td>23.635284</td>\n",
       "      <td>118.797897</td>\n",
       "      <td>15.1095</td>\n",
       "      <td>78.014641</td>\n",
       "      <td>112.870071</td>\n",
       "      <td>66.409309</td>\n",
       "      <td>57.846901</td>\n",
       "      <td>19.786867</td>\n",
       "      <td>70.527763</td>\n",
       "      <td>85.048737</td>\n",
       "      <td>...</td>\n",
       "      <td>39673900</td>\n",
       "      <td>6889200</td>\n",
       "      <td>197952000</td>\n",
       "      <td>8626100</td>\n",
       "      <td>2161800</td>\n",
       "      <td>1728700</td>\n",
       "      <td>4679000</td>\n",
       "      <td>12751200</td>\n",
       "      <td>18964500</td>\n",
       "      <td>20937000</td>\n",
       "    </tr>\n",
       "    <tr>\n",
       "      <th>2015-01-06</th>\n",
       "      <td>23.637510</td>\n",
       "      <td>114.970551</td>\n",
       "      <td>14.7645</td>\n",
       "      <td>76.352020</td>\n",
       "      <td>111.540627</td>\n",
       "      <td>65.981995</td>\n",
       "      <td>56.882286</td>\n",
       "      <td>19.779552</td>\n",
       "      <td>70.495117</td>\n",
       "      <td>84.597618</td>\n",
       "      <td>...</td>\n",
       "      <td>36447900</td>\n",
       "      <td>7576000</td>\n",
       "      <td>197764000</td>\n",
       "      <td>7791200</td>\n",
       "      <td>2133000</td>\n",
       "      <td>2350900</td>\n",
       "      <td>3468300</td>\n",
       "      <td>11070000</td>\n",
       "      <td>22950100</td>\n",
       "      <td>24615300</td>\n",
       "    </tr>\n",
       "    <tr>\n",
       "      <th>2015-01-07</th>\n",
       "      <td>23.968960</td>\n",
       "      <td>118.985886</td>\n",
       "      <td>14.9210</td>\n",
       "      <td>78.019562</td>\n",
       "      <td>113.272369</td>\n",
       "      <td>67.004478</td>\n",
       "      <td>56.613789</td>\n",
       "      <td>19.962358</td>\n",
       "      <td>70.436417</td>\n",
       "      <td>85.463020</td>\n",
       "      <td>...</td>\n",
       "      <td>29114100</td>\n",
       "      <td>7256000</td>\n",
       "      <td>321808000</td>\n",
       "      <td>5986600</td>\n",
       "      <td>2487300</td>\n",
       "      <td>1558200</td>\n",
       "      <td>3225800</td>\n",
       "      <td>9346800</td>\n",
       "      <td>20793600</td>\n",
       "      <td>25495200</td>\n",
       "    </tr>\n",
       "    <tr>\n",
       "      <th>2015-01-08</th>\n",
       "      <td>24.889904</td>\n",
       "      <td>118.557266</td>\n",
       "      <td>15.0230</td>\n",
       "      <td>79.125473</td>\n",
       "      <td>115.275284</td>\n",
       "      <td>67.691254</td>\n",
       "      <td>58.264568</td>\n",
       "      <td>20.115919</td>\n",
       "      <td>72.048218</td>\n",
       "      <td>86.346840</td>\n",
       "      <td>...</td>\n",
       "      <td>29645200</td>\n",
       "      <td>5978200</td>\n",
       "      <td>283780000</td>\n",
       "      <td>6823300</td>\n",
       "      <td>3236100</td>\n",
       "      <td>1941200</td>\n",
       "      <td>5346100</td>\n",
       "      <td>10443200</td>\n",
       "      <td>17617500</td>\n",
       "      <td>38140800</td>\n",
       "    </tr>\n",
       "  </tbody>\n",
       "</table>\n",
       "<p>5 rows × 180 columns</p>\n",
       "</div>"
      ],
      "text/plain": [
       "Price       Adj Close                                                         \\\n",
       "Ticker           AAPL        AMGN     AMZN        AXP          BA        CAT   \n",
       "Date                                                                           \n",
       "2015-01-02  24.320435  120.226593  15.4260  80.133865  113.657204  70.110153   \n",
       "2015-01-05  23.635284  118.797897  15.1095  78.014641  112.870071  66.409309   \n",
       "2015-01-06  23.637510  114.970551  14.7645  76.352020  111.540627  65.981995   \n",
       "2015-01-07  23.968960  118.985886  14.9210  78.019562  113.272369  67.004478   \n",
       "2015-01-08  24.889904  118.557266  15.0230  79.125473  115.275284  67.691254   \n",
       "\n",
       "Price                                                   ...    Volume  \\\n",
       "Ticker            CRM       CSCO        CVX        DIS  ...      MSFT   \n",
       "Date                                                    ...             \n",
       "2015-01-02  58.910961  20.189039  73.464256  86.310020  ...  27913900   \n",
       "2015-01-05  57.846901  19.786867  70.527763  85.048737  ...  39673900   \n",
       "2015-01-06  56.882286  19.779552  70.495117  84.597618  ...  36447900   \n",
       "2015-01-07  56.613789  19.962358  70.436417  85.463020  ...  29114100   \n",
       "2015-01-08  58.264568  20.115919  72.048218  86.346840  ...  29645200   \n",
       "\n",
       "Price                                                                         \\\n",
       "Ticker          NKE       NVDA       PG      SHW      TRV      UNH         V   \n",
       "Date                                                                           \n",
       "2015-01-02  4985800  113680000  7251400  1700400  1270800  3060900   8389600   \n",
       "2015-01-05  6889200  197952000  8626100  2161800  1728700  4679000  12751200   \n",
       "2015-01-06  7576000  197764000  7791200  2133000  2350900  3468300  11070000   \n",
       "2015-01-07  7256000  321808000  5986600  2487300  1558200  3225800   9346800   \n",
       "2015-01-08  5978200  283780000  6823300  3236100  1941200  5346100  10443200   \n",
       "\n",
       "Price                           \n",
       "Ticker            VZ       WMT  \n",
       "Date                            \n",
       "2015-01-02  11421200  13505400  \n",
       "2015-01-05  18964500  20937000  \n",
       "2015-01-06  22950100  24615300  \n",
       "2015-01-07  20793600  25495200  \n",
       "2015-01-08  17617500  38140800  \n",
       "\n",
       "[5 rows x 180 columns]"
      ]
     },
     "execution_count": 5,
     "metadata": {},
     "output_type": "execute_result"
    }
   ],
   "source": [
    "df = read_csv('../../data/raw/djia_stock_data.csv', header=[0,1],index_col=0)\n",
    "df.dropna(inplace=True)\n",
    "print(df.shape)\n",
    "df.head()"
   ]
  },
  {
   "cell_type": "code",
   "execution_count": 6,
   "metadata": {},
   "outputs": [
    {
     "data": {
      "text/html": [
       "<div>\n",
       "<style scoped>\n",
       "    .dataframe tbody tr th:only-of-type {\n",
       "        vertical-align: middle;\n",
       "    }\n",
       "\n",
       "    .dataframe tbody tr th {\n",
       "        vertical-align: top;\n",
       "    }\n",
       "\n",
       "    .dataframe thead th {\n",
       "        text-align: right;\n",
       "    }\n",
       "</style>\n",
       "<table border=\"1\" class=\"dataframe\">\n",
       "  <thead>\n",
       "    <tr style=\"text-align: right;\">\n",
       "      <th>Ticker</th>\n",
       "      <th>AAPL</th>\n",
       "    </tr>\n",
       "    <tr>\n",
       "      <th>Date</th>\n",
       "      <th></th>\n",
       "    </tr>\n",
       "  </thead>\n",
       "  <tbody>\n",
       "    <tr>\n",
       "      <th>2015-01-02</th>\n",
       "      <td>24.320435</td>\n",
       "    </tr>\n",
       "    <tr>\n",
       "      <th>2015-01-05</th>\n",
       "      <td>23.635284</td>\n",
       "    </tr>\n",
       "    <tr>\n",
       "      <th>2015-01-06</th>\n",
       "      <td>23.637510</td>\n",
       "    </tr>\n",
       "    <tr>\n",
       "      <th>2015-01-07</th>\n",
       "      <td>23.968960</td>\n",
       "    </tr>\n",
       "    <tr>\n",
       "      <th>2015-01-08</th>\n",
       "      <td>24.889904</td>\n",
       "    </tr>\n",
       "  </tbody>\n",
       "</table>\n",
       "</div>"
      ],
      "text/plain": [
       "Ticker           AAPL\n",
       "Date                 \n",
       "2015-01-02  24.320435\n",
       "2015-01-05  23.635284\n",
       "2015-01-06  23.637510\n",
       "2015-01-07  23.968960\n",
       "2015-01-08  24.889904"
      ]
     },
     "execution_count": 6,
     "metadata": {},
     "output_type": "execute_result"
    }
   ],
   "source": [
    "# Isolate Adj Close and AAPL stock\n",
    "df_adjclose = df['Adj Close']\n",
    "df_adjclose_aapl = df_adjclose[['AAPL']]\n",
    "df_adjclose_aapl.index = to_datetime(df_adjclose_aapl.index)\n",
    "df_adjclose_aapl.head()"
   ]
  },
  {
   "cell_type": "code",
   "execution_count": 7,
   "metadata": {},
   "outputs": [
    {
     "data": {
      "image/png": "[encoded data removed]",
      "text/plain": [
       "<Figure size 1000x500 with 1 Axes>"
      ]
     },
     "metadata": {},
     "output_type": "display_data"
    }
   ],
   "source": [
    "# Plot the data\n",
    "plt.figure(figsize=(10, 5))\n",
    "plt.plot(df_adjclose_aapl.index, df_adjclose_aapl.values)\n",
    "\n",
    "ax = plt.gca()\n",
    "ax.set_title('AAPL Stock Price from 2015 to 2024 (Adjusted Close)')\n",
    "\n",
    "# Set major ticks to show only **one tick per year**\n",
    "ax.xaxis.set_major_locator(mdates.YearLocator(1))  # One tick per year\n",
    "ax.xaxis.set_major_formatter(mdates.DateFormatter('%Y'))  # Format as \"YYYY\"\n",
    "plt.xlabel('Year')\n",
    "plt.ylabel('Price')\n",
    "\n",
    "plt.show()"
   ]
  },
  {
   "cell_type": "code",
   "execution_count": 8,
   "metadata": {},
   "outputs": [
    {
     "name": "stdout",
     "output_type": "stream",
     "text": [
      "(Min, Max) of AAPL: (20.675, 258.736)\n"
     ]
    }
   ],
   "source": [
    "print('(Min, Max) of AAPL:', (round(min(df_adjclose_aapl['AAPL']), 3), round(max(df_adjclose_aapl['AAPL']), 3)))"
   ]
  },
  {
   "cell_type": "markdown",
   "metadata": {},
   "source": [
    "### Transformation"
   ]
  },
  {
   "cell_type": "code",
   "execution_count": 9,
   "metadata": {},
   "outputs": [],
   "source": [
    "# Transform the time-series dataset specifically for LSTM\n",
    "def time_series_to_lstm(df, target_variable, lag_steps=1, dropna=True, fill='ffill'):\n",
    "    \"\"\"\n",
    "    Transforms time-series data into a supervised learning format compatible with LSTMs.\n",
    "    \n",
    "    Args:\n",
    "        df (pd.DataFrame): The input time-series dataset.\n",
    "        target_variable (str): The column to predict.\n",
    "        lag_steps (int): Number of past time steps to include.\n",
    "        dropna (bool): Whether to drop rows with NaN values.\n",
    "        fill (str): What to fill NaN values with ('ffill', 'bfill', 'mean', 'median', None)\n",
    "        \n",
    "    Returns:\n",
    "        df_transformed (pd.DataFrame): DataFrame to be used as input for LSTM model\n",
    "    \"\"\"\n",
    "    # Ensure dataframe format\n",
    "    if isinstance(df, list):\n",
    "        df = DataFrame(df)\n",
    "    \n",
    "    cols = []\n",
    "    feature_names = []\n",
    "    \n",
    "    # Create Lag Steps\n",
    "    for i in range(lag_steps, 0, -1):\n",
    "        cols.append(df.shift(i))\n",
    "        feature_names += [f\"{col}(t-{i})\" for col in df.columns]\n",
    "    \n",
    "    # Current time step (t) for target variable\n",
    "    cols.append(df[[target_variable]])\n",
    "    feature_names += [f\"{target_variable}(t)\"]\n",
    "    \n",
    "    # Combine and assign column names\n",
    "    df_transformed = concat(cols, axis=1)\n",
    "    df_transformed.columns = feature_names\n",
    "\n",
    "    # Drop NaN rows if required\n",
    "    if dropna:\n",
    "        df_transformed.dropna(inplace=True)\n",
    "    else:\n",
    "        if not None:\n",
    "            df_transformed.fillna(method=fill, inplace=True)\n",
    "    \n",
    "    return df_transformed"
   ]
  },
  {
   "cell_type": "code",
   "execution_count": 10,
   "metadata": {},
   "outputs": [
    {
     "name": "stdout",
     "output_type": "stream",
     "text": [
      "(2514, 2)\n"
     ]
    },
    {
     "data": {
      "text/html": [
       "<div>\n",
       "<style scoped>\n",
       "    .dataframe tbody tr th:only-of-type {\n",
       "        vertical-align: middle;\n",
       "    }\n",
       "\n",
       "    .dataframe tbody tr th {\n",
       "        vertical-align: top;\n",
       "    }\n",
       "\n",
       "    .dataframe thead th {\n",
       "        text-align: right;\n",
       "    }\n",
       "</style>\n",
       "<table border=\"1\" class=\"dataframe\">\n",
       "  <thead>\n",
       "    <tr style=\"text-align: right;\">\n",
       "      <th></th>\n",
       "      <th>AAPL(t-1)</th>\n",
       "      <th>AAPL(t)</th>\n",
       "    </tr>\n",
       "    <tr>\n",
       "      <th>Date</th>\n",
       "      <th></th>\n",
       "      <th></th>\n",
       "    </tr>\n",
       "  </thead>\n",
       "  <tbody>\n",
       "    <tr>\n",
       "      <th>2015-01-05</th>\n",
       "      <td>24.320435</td>\n",
       "      <td>23.635284</td>\n",
       "    </tr>\n",
       "    <tr>\n",
       "      <th>2015-01-06</th>\n",
       "      <td>23.635284</td>\n",
       "      <td>23.637510</td>\n",
       "    </tr>\n",
       "    <tr>\n",
       "      <th>2015-01-07</th>\n",
       "      <td>23.637510</td>\n",
       "      <td>23.968960</td>\n",
       "    </tr>\n",
       "    <tr>\n",
       "      <th>2015-01-08</th>\n",
       "      <td>23.968960</td>\n",
       "      <td>24.889904</td>\n",
       "    </tr>\n",
       "    <tr>\n",
       "      <th>2015-01-09</th>\n",
       "      <td>24.889904</td>\n",
       "      <td>24.916597</td>\n",
       "    </tr>\n",
       "  </tbody>\n",
       "</table>\n",
       "</div>"
      ],
      "text/plain": [
       "            AAPL(t-1)    AAPL(t)\n",
       "Date                            \n",
       "2015-01-05  24.320435  23.635284\n",
       "2015-01-06  23.635284  23.637510\n",
       "2015-01-07  23.637510  23.968960\n",
       "2015-01-08  23.968960  24.889904\n",
       "2015-01-09  24.889904  24.916597"
      ]
     },
     "execution_count": 10,
     "metadata": {},
     "output_type": "execute_result"
    }
   ],
   "source": [
    "df_transformed = time_series_to_lstm(df_adjclose_aapl, target_variable, lag_steps)\n",
    "print(df_transformed.shape)\n",
    "df_transformed.head()"
   ]
  },
  {
   "cell_type": "code",
   "execution_count": 11,
   "metadata": {},
   "outputs": [],
   "source": [
    "# Export transformed dataset\n",
    "df_transformed.to_csv('../../data/clean/baseline_transformed_dataset_AAPL.csv')"
   ]
  },
  {
   "cell_type": "code",
   "execution_count": 12,
   "metadata": {},
   "outputs": [
    {
     "name": "stdout",
     "output_type": "stream",
     "text": [
      "Split Shape: (2011, 2) (503, 2)\n"
     ]
    }
   ],
   "source": [
    "# Train-Test Split\n",
    "split = int(df_transformed.shape[0]*0.8)\n",
    "train = df_transformed[:split]\n",
    "test = df_transformed[split:]\n",
    "\n",
    "print('Split Shape:', train.shape, test.shape)"
   ]
  },
  {
   "cell_type": "code",
   "execution_count": 13,
   "metadata": {},
   "outputs": [],
   "source": [
    "# Scale to avoid distance calculation bias\n",
    "scaler = MinMaxScaler(feature_range=(0, 1))\n",
    "train_scaled = scaler.fit_transform(train)\n",
    "test_scaled = scaler.transform(test) # Avoid data leakage"
   ]
  },
  {
   "cell_type": "code",
   "execution_count": 14,
   "metadata": {},
   "outputs": [],
   "source": [
    "# Separate into features and target (last column)\n",
    "X_train, y_train = train_scaled[:, :-1], train_scaled[:, -1]\n",
    "X_test, y_test = test_scaled[:, :-1], test_scaled[:, -1]"
   ]
  },
  {
   "cell_type": "code",
   "execution_count": 15,
   "metadata": {},
   "outputs": [
    {
     "name": "stdout",
     "output_type": "stream",
     "text": [
      "Train Shape: (2011, 1, 1) (2011,)\n",
      "Test Shape: (503, 1, 1) (503,)\n"
     ]
    }
   ],
   "source": [
    "# Reshape features for LSTM\n",
    "X_train = X_train.reshape((X_train.shape[0], lag_steps, X_train.shape[1]))\n",
    "X_test = X_test.reshape((X_test.shape[0], lag_steps, X_test.shape[1]))\n",
    "\n",
    "print('Train Shape:', X_train.shape, y_train.shape)\n",
    "print('Test Shape:', X_test.shape, y_test.shape)"
   ]
  },
  {
   "cell_type": "markdown",
   "metadata": {},
   "source": [
    "## LSTM"
   ]
  },
  {
   "cell_type": "markdown",
   "metadata": {},
   "source": [
    "### Training"
   ]
  },
  {
   "cell_type": "code",
   "execution_count": 16,
   "metadata": {},
   "outputs": [
    {
     "name": "stderr",
     "output_type": "stream",
     "text": [
      "/Users/xaviersan/.pyenv/versions/multimodal_stockprice_predictor/lib/python3.11/site-packages/keras/src/layers/rnn/rnn.py:200: UserWarning: Do not pass an `input_shape`/`input_dim` argument to a layer. When using Sequential models, prefer using an `Input(shape)` object as the first layer in the model instead.\n",
      "  super().__init__(**kwargs)\n"
     ]
    }
   ],
   "source": [
    "# Initiate LSTM model\n",
    "model = Sequential()\n",
    "model.add(LSTM(100, input_shape=(X_train.shape[1], X_train.shape[2])))\n",
    "model.add(Dense(1))\n",
    "model.compile(loss='mae', optimizer='adam')"
   ]
  },
  {
   "cell_type": "code",
   "execution_count": 17,
   "metadata": {},
   "outputs": [
    {
     "name": "stdout",
     "output_type": "stream",
     "text": [
      "Epoch 1/50\n",
      "21/21 - 1s - 39ms/step - loss: 0.2394 - val_loss: 0.8185\n",
      "Epoch 2/50\n",
      "21/21 - 0s - 4ms/step - loss: 0.1932 - val_loss: 0.6951\n",
      "Epoch 3/50\n",
      "21/21 - 0s - 4ms/step - loss: 0.1795 - val_loss: 0.6046\n",
      "Epoch 4/50\n",
      "21/21 - 0s - 3ms/step - loss: 0.1661 - val_loss: 0.5313\n",
      "Epoch 5/50\n",
      "21/21 - 0s - 3ms/step - loss: 0.1490 - val_loss: 0.4593\n",
      "Epoch 6/50\n",
      "21/21 - 0s - 4ms/step - loss: 0.1289 - val_loss: 0.3791\n",
      "Epoch 7/50\n",
      "21/21 - 0s - 4ms/step - loss: 0.1065 - val_loss: 0.2879\n",
      "Epoch 8/50\n",
      "21/21 - 0s - 4ms/step - loss: 0.0812 - val_loss: 0.1840\n",
      "Epoch 9/50\n",
      "21/21 - 0s - 4ms/step - loss: 0.0522 - val_loss: 0.0644\n",
      "Epoch 10/50\n",
      "21/21 - 0s - 3ms/step - loss: 0.0238 - val_loss: 0.0379\n",
      "Epoch 11/50\n",
      "21/21 - 0s - 4ms/step - loss: 0.0140 - val_loss: 0.0301\n",
      "Epoch 12/50\n",
      "21/21 - 0s - 5ms/step - loss: 0.0137 - val_loss: 0.0329\n",
      "Epoch 13/50\n",
      "21/21 - 0s - 5ms/step - loss: 0.0308 - val_loss: 0.0234\n",
      "Epoch 14/50\n",
      "21/21 - 0s - 4ms/step - loss: 0.0151 - val_loss: 0.0351\n",
      "Epoch 15/50\n",
      "21/21 - 0s - 4ms/step - loss: 0.0093 - val_loss: 0.0224\n",
      "Epoch 16/50\n",
      "21/21 - 0s - 5ms/step - loss: 0.0282 - val_loss: 0.0215\n",
      "Epoch 17/50\n",
      "21/21 - 0s - 6ms/step - loss: 0.0156 - val_loss: 0.0321\n",
      "Epoch 18/50\n",
      "21/21 - 0s - 4ms/step - loss: 0.0155 - val_loss: 0.0195\n",
      "Epoch 19/50\n",
      "21/21 - 0s - 4ms/step - loss: 0.0271 - val_loss: 0.0161\n",
      "Epoch 20/50\n",
      "21/21 - 0s - 5ms/step - loss: 0.0182 - val_loss: 0.0249\n",
      "Epoch 21/50\n",
      "21/21 - 0s - 5ms/step - loss: 0.0170 - val_loss: 0.0172\n",
      "Epoch 22/50\n",
      "21/21 - 0s - 5ms/step - loss: 0.0233 - val_loss: 0.0193\n",
      "Epoch 23/50\n",
      "21/21 - 0s - 4ms/step - loss: 0.0240 - val_loss: 0.0181\n",
      "Epoch 24/50\n",
      "21/21 - 0s - 4ms/step - loss: 0.0138 - val_loss: 0.0156\n",
      "Epoch 25/50\n",
      "21/21 - 0s - 4ms/step - loss: 0.0214 - val_loss: 0.0252\n",
      "Epoch 26/50\n",
      "21/21 - 0s - 5ms/step - loss: 0.0225 - val_loss: 0.0189\n",
      "Epoch 27/50\n",
      "21/21 - 0s - 5ms/step - loss: 0.0145 - val_loss: 0.0152\n",
      "Epoch 28/50\n",
      "21/21 - 0s - 5ms/step - loss: 0.0221 - val_loss: 0.0227\n",
      "Epoch 29/50\n",
      "21/21 - 0s - 7ms/step - loss: 0.0228 - val_loss: 0.0178\n",
      "Epoch 30/50\n",
      "21/21 - 0s - 5ms/step - loss: 0.0155 - val_loss: 0.0156\n",
      "Epoch 31/50\n",
      "21/21 - 0s - 5ms/step - loss: 0.0219 - val_loss: 0.0213\n",
      "Epoch 32/50\n",
      "21/21 - 0s - 5ms/step - loss: 0.0231 - val_loss: 0.0173\n",
      "Epoch 33/50\n",
      "21/21 - 0s - 4ms/step - loss: 0.0151 - val_loss: 0.0151\n",
      "Epoch 34/50\n",
      "21/21 - 0s - 4ms/step - loss: 0.0215 - val_loss: 0.0212\n",
      "Epoch 35/50\n",
      "21/21 - 0s - 4ms/step - loss: 0.0228 - val_loss: 0.0170\n",
      "Epoch 36/50\n",
      "21/21 - 0s - 4ms/step - loss: 0.0149 - val_loss: 0.0145\n",
      "Epoch 37/50\n",
      "21/21 - 0s - 4ms/step - loss: 0.0215 - val_loss: 0.0204\n",
      "Epoch 38/50\n",
      "21/21 - 0s - 4ms/step - loss: 0.0228 - val_loss: 0.0165\n",
      "Epoch 39/50\n",
      "21/21 - 0s - 5ms/step - loss: 0.0154 - val_loss: 0.0148\n",
      "Epoch 40/50\n",
      "21/21 - 0s - 4ms/step - loss: 0.0212 - val_loss: 0.0204\n",
      "Epoch 41/50\n",
      "21/21 - 0s - 4ms/step - loss: 0.0222 - val_loss: 0.0164\n",
      "Epoch 42/50\n",
      "21/21 - 0s - 4ms/step - loss: 0.0158 - val_loss: 0.0146\n",
      "Epoch 43/50\n",
      "21/21 - 0s - 4ms/step - loss: 0.0211 - val_loss: 0.0196\n",
      "Epoch 44/50\n",
      "21/21 - 0s - 5ms/step - loss: 0.0221 - val_loss: 0.0161\n",
      "Epoch 45/50\n",
      "21/21 - 0s - 4ms/step - loss: 0.0158 - val_loss: 0.0144\n",
      "Epoch 46/50\n",
      "21/21 - 0s - 4ms/step - loss: 0.0207 - val_loss: 0.0196\n",
      "Epoch 47/50\n",
      "21/21 - 0s - 4ms/step - loss: 0.0219 - val_loss: 0.0158\n",
      "Epoch 48/50\n",
      "21/21 - 0s - 4ms/step - loss: 0.0158 - val_loss: 0.0141\n",
      "Epoch 49/50\n",
      "21/21 - 0s - 4ms/step - loss: 0.0205 - val_loss: 0.0192\n",
      "Epoch 50/50\n",
      "21/21 - 0s - 4ms/step - loss: 0.0215 - val_loss: 0.0156\n"
     ]
    },
    {
     "data": {
      "image/png": "[encoded data removed]",
      "text/plain": [
       "<Figure size 640x480 with 1 Axes>"
      ]
     },
     "metadata": {},
     "output_type": "display_data"
    }
   ],
   "source": [
    "# Model fitting\n",
    "history = model.fit(X_train, y_train, epochs=50, batch_size=96, validation_data=(X_test, y_test), verbose=2, shuffle=False)\n",
    "\n",
    "# Plot training progression\n",
    "plt.plot(history.history['loss'], label='train')\n",
    "plt.plot(history.history['val_loss'], label='test')\n",
    "plt.legend()\n",
    "plt.show()"
   ]
  },
  {
   "cell_type": "markdown",
   "metadata": {},
   "source": [
    "### Predictions"
   ]
  },
  {
   "cell_type": "code",
   "execution_count": 18,
   "metadata": {},
   "outputs": [
    {
     "name": "stdout",
     "output_type": "stream",
     "text": [
      "\u001b[1m16/16\u001b[0m \u001b[32m━━━━━━━━━━━━━━━━━━━━\u001b[0m\u001b[37m\u001b[0m \u001b[1m0s\u001b[0m 5ms/step\n"
     ]
    }
   ],
   "source": [
    "# Get predicted values\n",
    "yhat = model.predict(X_test)\n",
    "\n",
    "# Reshaping back into 2D for inverse scaling\n",
    "X_test_inv = X_test.reshape((X_test.shape[0], X_test.shape[2])) \n",
    "\n",
    "# Concatenate and Inverse Scaling\n",
    "# Prediction\n",
    "inv_yhat = concatenate((X_test_inv, yhat), axis=1) # Required to get back original scale\n",
    "inv_yhat = scaler.inverse_transform(inv_yhat)\n",
    "inv_yhat = inv_yhat[:, num_features*lag_steps] # Extract target_variable\n",
    "\n",
    "# Validation\n",
    "y_test_inv = y_test.reshape((len(y_test), 1))\n",
    "inv_y = concatenate((X_test_inv, y_test_inv), axis=1) # Both arrays must have same dimensions\n",
    "inv_y = scaler.inverse_transform(inv_y)\n",
    "inv_y = inv_y[:, num_features*lag_steps]"
   ]
  },
  {
   "cell_type": "code",
   "execution_count": 19,
   "metadata": {},
   "outputs": [
    {
     "name": "stdout",
     "output_type": "stream",
     "text": [
      "LSTM Test MAE: 2.463\n",
      "LSTM Test MSE: 10.880\n"
     ]
    }
   ],
   "source": [
    "# Get Test Errors\n",
    "mae = mean_absolute_error(inv_y, inv_yhat)\n",
    "print('LSTM Test MAE: %.3f' % mae)\n",
    "\n",
    "mse = mean_squared_error(inv_y, inv_yhat)\n",
    "print('LSTM Test MSE: %.3f' % mse)"
   ]
  },
  {
   "cell_type": "code",
   "execution_count": 20,
   "metadata": {},
   "outputs": [
    {
     "data": {
      "image/png": "[encoded data removed]",
      "text/plain": [
       "<Figure size 1000x600 with 1 Axes>"
      ]
     },
     "metadata": {},
     "output_type": "display_data"
    }
   ],
   "source": [
    "# Validation plot\n",
    "plt.figure(figsize=(10, 6))\n",
    "plt.plot(test.index, inv_y, label='Actual')\n",
    "plt.plot(test.index, inv_yhat, label='Predicted')\n",
    "\n",
    "# Format the x-axis to show quarterly ticks\n",
    "plt.gca().xaxis.set_major_locator(mdates.MonthLocator((1,4,7,10)))  # Quarterly ticks\n",
    "plt.gca().xaxis.set_major_formatter(mdates.DateFormatter('%Y-%m'))  # Format as Year-Quarter\n",
    "\n",
    "# Labels and title\n",
    "plt.title('Actual vs Predicted AAPL Stock Price using LSTM Model (Adjusted Close)')\n",
    "plt.xlabel('Date')\n",
    "plt.xticks(rotation=45)\n",
    "plt.ylabel('Price')\n",
    "plt.legend()\n",
    "plt.show()"
   ]
  },
  {
   "cell_type": "code",
   "execution_count": null,
   "metadata": {},
   "outputs": [],
   "source": []
  }
 ],
 "metadata": {
  "kernelspec": {
   "display_name": "multimodal_stockprice_predictor",
   "language": "python",
   "name": "python3"
  },
  "language_info": {
   "codemirror_mode": {
    "name": "ipython",
    "version": 3
   },
   "file_extension": ".py",
   "mimetype": "text/x-python",
   "name": "python",
   "nbconvert_exporter": "python",
   "pygments_lexer": "ipython3",
   "version": "3.11.9"
  }
 },
 "nbformat": 4,
 "nbformat_minor": 2
}
