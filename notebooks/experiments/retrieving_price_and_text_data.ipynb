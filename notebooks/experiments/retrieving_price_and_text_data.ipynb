{
 "cells": [
  {
   "cell_type": "markdown",
   "metadata": {},
   "source": [
    "##### Stock Price Data using yfinance"
   ]
  },
  {
   "cell_type": "code",
   "execution_count": null,
   "metadata": {},
   "outputs": [],
   "source": [
    "# Imports\n",
    "import yfinance as yf\n",
    "import datetime as dt"
   ]
  },
  {
   "cell_type": "code",
   "execution_count": 16,
   "metadata": {},
   "outputs": [
    {
     "name": "stderr",
     "output_type": "stream",
     "text": [
      "[*********************100%***********************]  2 of 2 completed\n"
     ]
    },
    {
     "data": {
      "text/html": [
       "<div>\n",
       "<style scoped>\n",
       "    .dataframe tbody tr th:only-of-type {\n",
       "        vertical-align: middle;\n",
       "    }\n",
       "\n",
       "    .dataframe tbody tr th {\n",
       "        vertical-align: top;\n",
       "    }\n",
       "\n",
       "    .dataframe thead tr th {\n",
       "        text-align: left;\n",
       "    }\n",
       "\n",
       "    .dataframe thead tr:last-of-type th {\n",
       "        text-align: right;\n",
       "    }\n",
       "</style>\n",
       "<table border=\"1\" class=\"dataframe\">\n",
       "  <thead>\n",
       "    <tr>\n",
       "      <th>Price</th>\n",
       "      <th colspan=\"2\" halign=\"left\">Close</th>\n",
       "      <th colspan=\"2\" halign=\"left\">High</th>\n",
       "      <th colspan=\"2\" halign=\"left\">Low</th>\n",
       "      <th colspan=\"2\" halign=\"left\">Open</th>\n",
       "      <th colspan=\"2\" halign=\"left\">Volume</th>\n",
       "    </tr>\n",
       "    <tr>\n",
       "      <th>Ticker</th>\n",
       "      <th>AAPL</th>\n",
       "      <th>TSLA</th>\n",
       "      <th>AAPL</th>\n",
       "      <th>TSLA</th>\n",
       "      <th>AAPL</th>\n",
       "      <th>TSLA</th>\n",
       "      <th>AAPL</th>\n",
       "      <th>TSLA</th>\n",
       "      <th>AAPL</th>\n",
       "      <th>TSLA</th>\n",
       "    </tr>\n",
       "    <tr>\n",
       "      <th>Date</th>\n",
       "      <th></th>\n",
       "      <th></th>\n",
       "      <th></th>\n",
       "      <th></th>\n",
       "      <th></th>\n",
       "      <th></th>\n",
       "      <th></th>\n",
       "      <th></th>\n",
       "      <th></th>\n",
       "      <th></th>\n",
       "    </tr>\n",
       "  </thead>\n",
       "  <tbody>\n",
       "    <tr>\n",
       "      <th>2024-11-14</th>\n",
       "      <td>227.969360</td>\n",
       "      <td>311.179993</td>\n",
       "      <td>228.618640</td>\n",
       "      <td>329.980011</td>\n",
       "      <td>224.752895</td>\n",
       "      <td>310.369995</td>\n",
       "      <td>224.772878</td>\n",
       "      <td>327.690002</td>\n",
       "      <td>44923900</td>\n",
       "      <td>120726100</td>\n",
       "    </tr>\n",
       "    <tr>\n",
       "      <th>2024-11-15</th>\n",
       "      <td>224.752884</td>\n",
       "      <td>320.720001</td>\n",
       "      <td>226.670773</td>\n",
       "      <td>324.679993</td>\n",
       "      <td>224.023690</td>\n",
       "      <td>309.220001</td>\n",
       "      <td>226.151340</td>\n",
       "      <td>310.570007</td>\n",
       "      <td>47923700</td>\n",
       "      <td>114440300</td>\n",
       "    </tr>\n",
       "    <tr>\n",
       "      <th>2024-11-18</th>\n",
       "      <td>227.769577</td>\n",
       "      <td>338.739990</td>\n",
       "      <td>229.487689</td>\n",
       "      <td>348.549988</td>\n",
       "      <td>224.922701</td>\n",
       "      <td>330.010010</td>\n",
       "      <td>225.002615</td>\n",
       "      <td>340.730011</td>\n",
       "      <td>44686000</td>\n",
       "      <td>126547500</td>\n",
       "    </tr>\n",
       "    <tr>\n",
       "      <th>2024-11-19</th>\n",
       "      <td>228.029282</td>\n",
       "      <td>346.000000</td>\n",
       "      <td>229.907222</td>\n",
       "      <td>347.380005</td>\n",
       "      <td>226.411066</td>\n",
       "      <td>332.750000</td>\n",
       "      <td>226.730706</td>\n",
       "      <td>335.760010</td>\n",
       "      <td>36211800</td>\n",
       "      <td>88852500</td>\n",
       "    </tr>\n",
       "    <tr>\n",
       "      <th>2024-11-20</th>\n",
       "      <td>228.748489</td>\n",
       "      <td>342.029999</td>\n",
       "      <td>229.677461</td>\n",
       "      <td>346.600006</td>\n",
       "      <td>225.641904</td>\n",
       "      <td>334.299988</td>\n",
       "      <td>227.809519</td>\n",
       "      <td>345.000000</td>\n",
       "      <td>35169600</td>\n",
       "      <td>66340700</td>\n",
       "    </tr>\n",
       "  </tbody>\n",
       "</table>\n",
       "</div>"
      ],
      "text/plain": [
       "Price            Close                    High                     Low  \\\n",
       "Ticker            AAPL        TSLA        AAPL        TSLA        AAPL   \n",
       "Date                                                                     \n",
       "2024-11-14  227.969360  311.179993  228.618640  329.980011  224.752895   \n",
       "2024-11-15  224.752884  320.720001  226.670773  324.679993  224.023690   \n",
       "2024-11-18  227.769577  338.739990  229.487689  348.549988  224.922701   \n",
       "2024-11-19  228.029282  346.000000  229.907222  347.380005  226.411066   \n",
       "2024-11-20  228.748489  342.029999  229.677461  346.600006  225.641904   \n",
       "\n",
       "Price                         Open                Volume             \n",
       "Ticker            TSLA        AAPL        TSLA      AAPL       TSLA  \n",
       "Date                                                                 \n",
       "2024-11-14  310.369995  224.772878  327.690002  44923900  120726100  \n",
       "2024-11-15  309.220001  226.151340  310.570007  47923700  114440300  \n",
       "2024-11-18  330.010010  225.002615  340.730011  44686000  126547500  \n",
       "2024-11-19  332.750000  226.730706  335.760010  36211800   88852500  \n",
       "2024-11-20  334.299988  227.809519  345.000000  35169600   66340700  "
      ]
     },
     "execution_count": 16,
     "metadata": {},
     "output_type": "execute_result"
    }
   ],
   "source": [
    "stocks = ['AAPL', 'TSLA']\n",
    "start_date = dt.datetime.now() - dt.timedelta(days=90)\n",
    "end_date = dt.date(2024, 12, 31)\n",
    "\n",
    "df = yf.download(stocks, start_date, end_date)\n",
    "df.head()"
   ]
  },
  {
   "cell_type": "markdown",
   "metadata": {},
   "source": [
    "##### News Data using NY Times Archive API\n",
    "More information on the API [here](https://developer.nytimes.com/docs/articlesearch-product/1/overview)."
   ]
  },
  {
   "cell_type": "code",
   "execution_count": 2,
   "metadata": {},
   "outputs": [],
   "source": [
    "# Imports\n",
    "import requests\n",
    "from os import getenv\n",
    "from dotenv import load_dotenv"
   ]
  },
  {
   "cell_type": "code",
   "execution_count": 3,
   "metadata": {},
   "outputs": [],
   "source": [
    "# Parameters\n",
    "load_dotenv()\n",
    "API_KEY = getenv(\"NYT_API_KEY\")\n",
    "begin_date = \"20250130\"\n",
    "end_date = \"20250210\"\n",
    "fq = 'DeepSeek AND section_name:(\"Business\" OR \"Technology\" OR \"Markets\")'\n",
    "\n",
    "url = f\"https://api.nytimes.com/svc/search/v2/articlesearch.json?fq={fq}&begin_date={begin_date}&end_date={end_date}&api-key={API_KEY}\"\n",
    "response = requests.get(url)"
   ]
  },
  {
   "cell_type": "code",
   "execution_count": 4,
   "metadata": {},
   "outputs": [
    {
     "name": "stdout",
     "output_type": "stream",
     "text": [
      "Number of articles: 10\n",
      "\n",
      "- Microsoft and Nvidia: The Tech Giants Taking a Quieter Approach to Trump\n",
      "  URL: https://www.nytimes.com/2025/02/08/technology/microsoft-nvidia-trump.html\n",
      "\n",
      "- How Helpful Is Operator, OpenAI’s New A.I. Agent?\n",
      "  URL: https://www.nytimes.com/2025/02/01/technology/openai-operator-agent.html\n",
      "\n",
      "- Alphabet Revenue Disappoints Investors on Weak Cloud Sales\n",
      "  URL: https://www.nytimes.com/2025/02/04/technology/alphabet-google-earnings.html\n",
      "\n",
      "- What DeepSeek? Big Tech Keeps Its A.I. Building Boom Alive.\n",
      "  URL: https://www.nytimes.com/2025/02/08/technology/deepseek-data-centers-ai.html\n",
      "\n",
      "- SoftBank Said to Be in Talks to Invest as Much as $25 Billion in OpenAI\n",
      "  URL: https://www.nytimes.com/2025/01/30/technology/softbank-openai-ai-investment.html\n",
      "\n"
     ]
    }
   ],
   "source": [
    "# Check response status\n",
    "if response.status_code == 200:\n",
    "    data = response.json()\n",
    "    articles = data.get(\"response\", {}).get(\"docs\", [])\n",
    "\n",
    "    print(f\"Number of articles: {len(articles)}\\n\")\n",
    "    \n",
    "    # Print the first 5 articles\n",
    "    for article in articles[:5]: \n",
    "        print(f\"- {article.get('headline', {}).get('main', 'No title')}\")\n",
    "        print(f\"  URL: {article.get('web_url', 'No URL')}\\n\")\n",
    "\n",
    "else:\n",
    "    print(f\"Error: {response.status_code}, {response.text}\")"
   ]
  },
  {
   "cell_type": "markdown",
   "metadata": {},
   "source": [
    "##### Data used in Reviewed Papers (non-exhaustive)"
   ]
  },
  {
   "cell_type": "markdown",
   "metadata": {},
   "source": [
    "[Stock market prediction analysis by incorporating social and news opinion and sentiment](https://ink.library.smu.edu.sg/cgi/viewcontent.cgi?article=6485&context=sis_research)<br>\n",
    "Stock Price Data: Uses DJIA data from Yahoo Finance from 1/1/2007 to 31/12/2016.<br>\n",
    "**News** Data: Uses articles from NY Time Archive (via API), from 1/1/2007 to 31/12/2016. "
   ]
  },
  {
   "cell_type": "markdown",
   "metadata": {},
   "source": [
    "[Stock Movement Prediction with Multimodal Stable Fusion via Gated Cross-Attention Mechanism](https://arxiv.org/abs/2406.06594)<br>\n",
    "3 of the 4 datasets from this paper can be found [here](https://github.com/deeptrade-public/slot).<br>\n",
    "These datasets comprise of stock price data and **twitter** data from 2014 to 2020, each dataset contains data on 38-87 stocks."
   ]
  },
  {
   "cell_type": "code",
   "execution_count": null,
   "metadata": {},
   "outputs": [],
   "source": []
  }
 ],
 "metadata": {
  "kernelspec": {
   "display_name": "multimodal_stockprice_predictor",
   "language": "python",
   "name": "python3"
  },
  "language_info": {
   "codemirror_mode": {
    "name": "ipython",
    "version": 3
   },
   "file_extension": ".py",
   "mimetype": "text/x-python",
   "name": "python",
   "nbconvert_exporter": "python",
   "pygments_lexer": "ipython3",
   "version": "3.11.9"
  }
 },
 "nbformat": 4,
 "nbformat_minor": 2
}
