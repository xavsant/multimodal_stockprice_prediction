{
 "cells": [
  {
   "cell_type": "markdown",
   "metadata": {},
   "source": [
    "### LSTM"
   ]
  },
  {
   "cell_type": "markdown",
   "metadata": {},
   "source": [
    "Test on AAPL data"
   ]
  },
  {
   "cell_type": "code",
   "execution_count": 14,
   "metadata": {},
   "outputs": [],
   "source": [
    "# Imports\n",
    "import numpy as np\n",
    "from numpy import concatenate\n",
    "from pandas import read_csv, to_datetime\n",
    "import matplotlib.pyplot as plt\n",
    "import matplotlib.dates as mdates\n",
    "\n",
    "from sklearn.preprocessing import MinMaxScaler\n",
    "from sklearn.metrics import mean_absolute_error, mean_squared_error\n",
    "from keras.models import Sequential, Model\n",
    "from keras.layers import Dense, LSTM, Input, Concatenate"
   ]
  },
  {
   "cell_type": "code",
   "execution_count": 15,
   "metadata": {},
   "outputs": [
    {
     "name": "stdout",
     "output_type": "stream",
     "text": [
      "(2514, 2)\n"
     ]
    },
    {
     "data": {
      "text/html": [
       "<div>\n",
       "<style scoped>\n",
       "    .dataframe tbody tr th:only-of-type {\n",
       "        vertical-align: middle;\n",
       "    }\n",
       "\n",
       "    .dataframe tbody tr th {\n",
       "        vertical-align: top;\n",
       "    }\n",
       "\n",
       "    .dataframe thead th {\n",
       "        text-align: right;\n",
       "    }\n",
       "</style>\n",
       "<table border=\"1\" class=\"dataframe\">\n",
       "  <thead>\n",
       "    <tr style=\"text-align: right;\">\n",
       "      <th></th>\n",
       "      <th>AAPL(t-1)</th>\n",
       "      <th>AAPL(t)</th>\n",
       "    </tr>\n",
       "    <tr>\n",
       "      <th>Date</th>\n",
       "      <th></th>\n",
       "      <th></th>\n",
       "    </tr>\n",
       "  </thead>\n",
       "  <tbody>\n",
       "    <tr>\n",
       "      <th>2015-01-05</th>\n",
       "      <td>24.320435</td>\n",
       "      <td>23.635284</td>\n",
       "    </tr>\n",
       "    <tr>\n",
       "      <th>2015-01-06</th>\n",
       "      <td>23.635284</td>\n",
       "      <td>23.637510</td>\n",
       "    </tr>\n",
       "    <tr>\n",
       "      <th>2015-01-07</th>\n",
       "      <td>23.637510</td>\n",
       "      <td>23.968960</td>\n",
       "    </tr>\n",
       "    <tr>\n",
       "      <th>2015-01-08</th>\n",
       "      <td>23.968960</td>\n",
       "      <td>24.889904</td>\n",
       "    </tr>\n",
       "    <tr>\n",
       "      <th>2015-01-09</th>\n",
       "      <td>24.889904</td>\n",
       "      <td>24.916597</td>\n",
       "    </tr>\n",
       "  </tbody>\n",
       "</table>\n",
       "</div>"
      ],
      "text/plain": [
       "            AAPL(t-1)    AAPL(t)\n",
       "Date                            \n",
       "2015-01-05  24.320435  23.635284\n",
       "2015-01-06  23.635284  23.637510\n",
       "2015-01-07  23.637510  23.968960\n",
       "2015-01-08  23.968960  24.889904\n",
       "2015-01-09  24.889904  24.916597"
      ]
     },
     "execution_count": 15,
     "metadata": {},
     "output_type": "execute_result"
    }
   ],
   "source": [
    "lstm_df = read_csv('../../data/clean/baseline_transformed_dataset_AAPL.csv', index_col='Date')\n",
    "print(lstm_df.shape)\n",
    "lstm_df.head()"
   ]
  },
  {
   "cell_type": "code",
   "execution_count": 16,
   "metadata": {},
   "outputs": [
    {
     "name": "stdout",
     "output_type": "stream",
     "text": [
      "Split Shape: (2011, 2) (503, 2)\n"
     ]
    }
   ],
   "source": [
    "# Train-Test Split\n",
    "split = int(lstm_df.shape[0]*0.8)\n",
    "train = lstm_df[:split]\n",
    "test = lstm_df[split:]\n",
    "\n",
    "print('Split Shape:', train.shape, test.shape)"
   ]
  },
  {
   "cell_type": "code",
   "execution_count": 17,
   "metadata": {},
   "outputs": [],
   "source": [
    "# Initialise variables\n",
    "lag_steps = 1\n",
    "num_features = 1\n",
    "epochs = 10\n",
    "batch_size = 32"
   ]
  },
  {
   "cell_type": "code",
   "execution_count": 18,
   "metadata": {},
   "outputs": [
    {
     "name": "stdout",
     "output_type": "stream",
     "text": [
      "Train Shape: (2011, 1, 1) (2011,)\n",
      "Test Shape: (503, 1, 1) (503,)\n"
     ]
    }
   ],
   "source": [
    "# Scale to avoid distance calculation bias\n",
    "scaler = MinMaxScaler(feature_range=(0, 1))\n",
    "train_scaled = scaler.fit_transform(train)\n",
    "test_scaled = scaler.transform(test) # Avoid data leakage\n",
    "\n",
    "# Separate into features and target (last column)\n",
    "X_train, y_train = train_scaled[:, :-1], train_scaled[:, -1]\n",
    "X_test, y_test = test_scaled[:, :-1], test_scaled[:, -1]\n",
    "\n",
    "# Reshape features for LSTM\n",
    "X_train = X_train.reshape((X_train.shape[0], lag_steps, X_train.shape[1]))\n",
    "X_test = X_test.reshape((X_test.shape[0], lag_steps, X_test.shape[1]))\n",
    "\n",
    "print('Train Shape:', X_train.shape, y_train.shape)\n",
    "print('Test Shape:', X_test.shape, y_test.shape)"
   ]
  },
  {
   "cell_type": "code",
   "execution_count": 19,
   "metadata": {},
   "outputs": [
    {
     "name": "stdout",
     "output_type": "stream",
     "text": [
      "Epoch 1/10\n"
     ]
    },
    {
     "name": "stderr",
     "output_type": "stream",
     "text": [
      "/opt/anaconda3/envs/MLApps/lib/python3.12/site-packages/keras/src/layers/rnn/rnn.py:200: UserWarning: Do not pass an `input_shape`/`input_dim` argument to a layer. When using Sequential models, prefer using an `Input(shape)` object as the first layer in the model instead.\n",
      "  super().__init__(**kwargs)\n"
     ]
    },
    {
     "name": "stdout",
     "output_type": "stream",
     "text": [
      "63/63 - 0s - 8ms/step - loss: 0.0692\n",
      "Epoch 2/10\n",
      "63/63 - 0s - 804us/step - loss: 0.1900\n",
      "Epoch 3/10\n",
      "63/63 - 0s - 705us/step - loss: 0.1152\n",
      "Epoch 4/10\n",
      "63/63 - 0s - 699us/step - loss: 0.0312\n",
      "Epoch 5/10\n",
      "63/63 - 0s - 830us/step - loss: 0.0334\n",
      "Epoch 6/10\n",
      "63/63 - 0s - 736us/step - loss: 0.0285\n",
      "Epoch 7/10\n",
      "63/63 - 0s - 723us/step - loss: 0.0224\n",
      "Epoch 8/10\n",
      "63/63 - 0s - 714us/step - loss: 0.0213\n",
      "Epoch 9/10\n",
      "63/63 - 0s - 723us/step - loss: 0.0187\n",
      "Epoch 10/10\n",
      "63/63 - 0s - 717us/step - loss: 0.0202\n"
     ]
    },
    {
     "name": "stderr",
     "output_type": "stream",
     "text": [
      "/var/folders/0f/_9krm_xj6v3fx4gv1vgm01mw0000gn/T/ipykernel_1616/788695707.py:13: UserWarning: No artists with labels found to put in legend.  Note that artists whose label start with an underscore are ignored when legend() is called with no argument.\n",
      "  plt.legend()\n"
     ]
    },
    {
     "data": {
      "image/png": "[encoded data removed]",
      "text/plain": [
       "<Figure size 640x480 with 1 Axes>"
      ]
     },
     "metadata": {},
     "output_type": "display_data"
    }
   ],
   "source": [
    "# Initiate LSTM model\n",
    "model = Sequential()\n",
    "model.add(LSTM(100, input_shape=(X_train.shape[1], X_train.shape[2])))\n",
    "model.add(Dense(32, activation='relu'))\n",
    "model.add(Dense(1))\n",
    "model.compile(loss='mae', optimizer='adam')\n",
    "\n",
    "# Model fitting\n",
    "history = model.fit(X_train, y_train, epochs=epochs, batch_size=batch_size, verbose=2, shuffle=False)\n",
    "\n",
    "# Plot training progression\n",
    "plt.plot(history.history['loss'])\n",
    "plt.legend()\n",
    "plt.show()"
   ]
  },
  {
   "cell_type": "code",
   "execution_count": 20,
   "metadata": {},
   "outputs": [
    {
     "name": "stdout",
     "output_type": "stream",
     "text": [
      "\u001b[1m16/16\u001b[0m \u001b[32m━━━━━━━━━━━━━━━━━━━━\u001b[0m\u001b[37m\u001b[0m \u001b[1m0s\u001b[0m 3ms/step \n"
     ]
    }
   ],
   "source": [
    "# Get predicted values\n",
    "yhat = model.predict(X_test)\n",
    "\n",
    "# Reshaping back into 2D for inverse scaling\n",
    "X_test_inv = X_test.reshape((X_test.shape[0], X_test.shape[2])) \n",
    "\n",
    "# Concatenate and Inverse Scaling\n",
    "# Prediction\n",
    "inv_yhat = concatenate((X_test_inv, yhat), axis=1) # Required to get back original scale\n",
    "inv_yhat = scaler.inverse_transform(inv_yhat)\n",
    "inv_yhat = inv_yhat[:, num_features*lag_steps] # Extract target_variable\n",
    "\n",
    "# Validation\n",
    "y_test_inv = y_test.reshape((len(y_test), 1))\n",
    "inv_y = concatenate((X_test_inv, y_test_inv), axis=1) # Both arrays must have same dimensions\n",
    "inv_y = scaler.inverse_transform(inv_y)\n",
    "inv_y = inv_y[:, num_features*lag_steps]"
   ]
  },
  {
   "cell_type": "code",
   "execution_count": 21,
   "metadata": {},
   "outputs": [
    {
     "name": "stdout",
     "output_type": "stream",
     "text": [
      "LSTM Test MAE: 1.386\n",
      "LSTM Test MSE: 6.590\n"
     ]
    }
   ],
   "source": [
    "# Get Test Errors\n",
    "mae = np.sqrt(mean_absolute_error(inv_y, inv_yhat))\n",
    "print('LSTM Test MAE: %.3f' % mae)\n",
    "\n",
    "mse = mean_squared_error(inv_y, inv_yhat)\n",
    "print('LSTM Test MSE: %.3f' % mse)"
   ]
  },
  {
   "cell_type": "markdown",
   "metadata": {},
   "source": [
    "### Basic Sentiment Models"
   ]
  },
  {
   "cell_type": "code",
   "execution_count": 22,
   "metadata": {},
   "outputs": [
    {
     "name": "stdout",
     "output_type": "stream",
     "text": [
      "(2143, 14)\n"
     ]
    },
    {
     "data": {
      "text/html": [
       "<div>\n",
       "<style scoped>\n",
       "    .dataframe tbody tr th:only-of-type {\n",
       "        vertical-align: middle;\n",
       "    }\n",
       "\n",
       "    .dataframe tbody tr th {\n",
       "        vertical-align: top;\n",
       "    }\n",
       "\n",
       "    .dataframe thead th {\n",
       "        text-align: right;\n",
       "    }\n",
       "</style>\n",
       "<table border=\"1\" class=\"dataframe\">\n",
       "  <thead>\n",
       "    <tr style=\"text-align: right;\">\n",
       "      <th></th>\n",
       "      <th>pub_date</th>\n",
       "      <th>headline</th>\n",
       "      <th>vader_pos</th>\n",
       "      <th>vader_neg</th>\n",
       "      <th>vader_neu</th>\n",
       "      <th>vader_label</th>\n",
       "      <th>drob_pos</th>\n",
       "      <th>drob_neg</th>\n",
       "      <th>drob_neu</th>\n",
       "      <th>drob_label</th>\n",
       "      <th>deb_pos</th>\n",
       "      <th>deb_neg</th>\n",
       "      <th>deb_neu</th>\n",
       "      <th>deb_label</th>\n",
       "    </tr>\n",
       "  </thead>\n",
       "  <tbody>\n",
       "    <tr>\n",
       "      <th>0</th>\n",
       "      <td>2015-04-07</td>\n",
       "      <td>M.B.A. Programs That Get You Where You Want to Go</td>\n",
       "      <td>0.126</td>\n",
       "      <td>0.0</td>\n",
       "      <td>0.874</td>\n",
       "      <td>Positive</td>\n",
       "      <td>0.000063</td>\n",
       "      <td>0.999864</td>\n",
       "      <td>0.000073</td>\n",
       "      <td>Negative</td>\n",
       "      <td>0.963603</td>\n",
       "      <td>0.003316</td>\n",
       "      <td>0.033081</td>\n",
       "      <td>Positive</td>\n",
       "    </tr>\n",
       "    <tr>\n",
       "      <th>1</th>\n",
       "      <td>2015-04-14</td>\n",
       "      <td>What We’re Reading</td>\n",
       "      <td>0.000</td>\n",
       "      <td>0.0</td>\n",
       "      <td>1.000</td>\n",
       "      <td>Neutral</td>\n",
       "      <td>0.000071</td>\n",
       "      <td>0.999868</td>\n",
       "      <td>0.000061</td>\n",
       "      <td>Positive</td>\n",
       "      <td>0.005000</td>\n",
       "      <td>0.015302</td>\n",
       "      <td>0.979697</td>\n",
       "      <td>Neutral</td>\n",
       "    </tr>\n",
       "    <tr>\n",
       "      <th>2</th>\n",
       "      <td>2015-04-13</td>\n",
       "      <td>IBM Creates Watson Health to Analyze Medical Data</td>\n",
       "      <td>0.231</td>\n",
       "      <td>0.0</td>\n",
       "      <td>0.769</td>\n",
       "      <td>Positive</td>\n",
       "      <td>0.000064</td>\n",
       "      <td>0.999881</td>\n",
       "      <td>0.000054</td>\n",
       "      <td>Positive</td>\n",
       "      <td>0.227212</td>\n",
       "      <td>0.018740</td>\n",
       "      <td>0.754048</td>\n",
       "      <td>Neutral</td>\n",
       "    </tr>\n",
       "    <tr>\n",
       "      <th>3</th>\n",
       "      <td>2015-04-22</td>\n",
       "      <td>What’s That on Beyoncé’s Wrist? Let Me Guess ....</td>\n",
       "      <td>0.000</td>\n",
       "      <td>0.0</td>\n",
       "      <td>1.000</td>\n",
       "      <td>Neutral</td>\n",
       "      <td>0.000072</td>\n",
       "      <td>0.999858</td>\n",
       "      <td>0.000070</td>\n",
       "      <td>Positive</td>\n",
       "      <td>0.287033</td>\n",
       "      <td>0.348115</td>\n",
       "      <td>0.364852</td>\n",
       "      <td>Neutral</td>\n",
       "    </tr>\n",
       "    <tr>\n",
       "      <th>4</th>\n",
       "      <td>2015-04-01</td>\n",
       "      <td>Daily Report: Tech Leaders Come Together to Op...</td>\n",
       "      <td>0.000</td>\n",
       "      <td>0.0</td>\n",
       "      <td>1.000</td>\n",
       "      <td>Neutral</td>\n",
       "      <td>0.000267</td>\n",
       "      <td>0.999467</td>\n",
       "      <td>0.000267</td>\n",
       "      <td>Positive</td>\n",
       "      <td>0.162412</td>\n",
       "      <td>0.451023</td>\n",
       "      <td>0.386565</td>\n",
       "      <td>Negative</td>\n",
       "    </tr>\n",
       "  </tbody>\n",
       "</table>\n",
       "</div>"
      ],
      "text/plain": [
       "     pub_date                                           headline  vader_pos  \\\n",
       "0  2015-04-07  M.B.A. Programs That Get You Where You Want to Go      0.126   \n",
       "1  2015-04-14                                 What We’re Reading      0.000   \n",
       "2  2015-04-13  IBM Creates Watson Health to Analyze Medical Data      0.231   \n",
       "3  2015-04-22  What’s That on Beyoncé’s Wrist? Let Me Guess ....      0.000   \n",
       "4  2015-04-01  Daily Report: Tech Leaders Come Together to Op...      0.000   \n",
       "\n",
       "   vader_neg  vader_neu vader_label  drob_pos  drob_neg  drob_neu drob_label  \\\n",
       "0        0.0      0.874    Positive  0.000063  0.999864  0.000073   Negative   \n",
       "1        0.0      1.000     Neutral  0.000071  0.999868  0.000061   Positive   \n",
       "2        0.0      0.769    Positive  0.000064  0.999881  0.000054   Positive   \n",
       "3        0.0      1.000     Neutral  0.000072  0.999858  0.000070   Positive   \n",
       "4        0.0      1.000     Neutral  0.000267  0.999467  0.000267   Positive   \n",
       "\n",
       "    deb_pos   deb_neg   deb_neu deb_label  \n",
       "0  0.963603  0.003316  0.033081  Positive  \n",
       "1  0.005000  0.015302  0.979697   Neutral  \n",
       "2  0.227212  0.018740  0.754048   Neutral  \n",
       "3  0.287033  0.348115  0.364852   Neutral  \n",
       "4  0.162412  0.451023  0.386565  Negative  "
      ]
     },
     "execution_count": 22,
     "metadata": {},
     "output_type": "execute_result"
    }
   ],
   "source": [
    "sent_df = read_csv('../../data/clean/sentiment_analysis/sentiment_analysis_headlines_AAPL.csv')\n",
    "sent_df.drop('ticker', axis=1, inplace=True)\n",
    "# sent_df['pub_date'] = to_datetime(sent_df['pub_date'])\n",
    "print(sent_df.shape)\n",
    "sent_df.head()"
   ]
  },
  {
   "cell_type": "code",
   "execution_count": 23,
   "metadata": {},
   "outputs": [],
   "source": [
    "# Function to aggregate sentiment using a voting system\n",
    "def aggregate_sentiment(row):\n",
    "    sentiment_map = {'Positive': 1, 'Neutral': 0, 'Negative': -1}\n",
    "    \n",
    "    # Get the list of sentiment labels\n",
    "    sentiments = [row['vader_label'], row['drob_label'], row['deb_label']]\n",
    "    \n",
    "    # Count occurrences of each sentiment\n",
    "    sentiment_counts = {'Positive': sentiments.count('Positive'), \n",
    "                        'Neutral': sentiments.count('Neutral'), \n",
    "                        'Negative': sentiments.count('Negative')}\n",
    "    \n",
    "    # Choose the sentiment with the highest count, resolving ties by choosing the first\n",
    "    majority_sentiment = max(sentiment_counts, key=sentiment_counts.get)\n",
    "\n",
    "    return sentiment_map[majority_sentiment]\n",
    "\n",
    "# Function to aggregate sentiments by pub_date with rounding\n",
    "def aggregate_by_pub_date(sent_df):\n",
    "    # Apply the aggregation function to the entire dataframe\n",
    "    sent_df['aggregated_sentiment'] = sent_df.apply(aggregate_sentiment, axis=1)\n",
    "    \n",
    "    # Group by pub_date and calculate the average sentiment per day\n",
    "    aggregated_sent_df = sent_df.groupby('pub_date')['aggregated_sentiment'].mean().to_frame()\n",
    "    \n",
    "    # Round the aggregated sentiment and convert to int (-1, 0, or 1)\n",
    "    aggregated_sent_df['aggregated_sentiment'] = aggregated_sent_df['aggregated_sentiment'].round().astype(int)\n",
    "    \n",
    "    # Set 'pub_date' as the index of the result\n",
    "    aggregated_sent_df.reset_index(inplace=True)\n",
    "    aggregated_sent_df.set_index('pub_date', inplace=True)\n",
    "    \n",
    "    return aggregated_sent_df"
   ]
  },
  {
   "cell_type": "code",
   "execution_count": 24,
   "metadata": {},
   "outputs": [
    {
     "data": {
      "text/plain": [
       "aggregated_sentiment\n",
       " 0                      608\n",
       " 1                      565\n",
       "-1                      206\n",
       "Name: count, dtype: int64"
      ]
     },
     "execution_count": 24,
     "metadata": {},
     "output_type": "execute_result"
    }
   ],
   "source": [
    "# Aggregate the sentiment by pub_date\n",
    "aggregated_sent_df = aggregate_by_pub_date(sent_df)\n",
    "aggregated_sent_df.value_counts()"
   ]
  },
  {
   "cell_type": "code",
   "execution_count": 25,
   "metadata": {},
   "outputs": [
    {
     "name": "stdout",
     "output_type": "stream",
     "text": [
      "aggregated_sent_df index range: 2015-01-02 to 2024-12-18\n",
      "lstm_df index range: 2015-01-05 to 2024-12-30\n"
     ]
    },
    {
     "data": {
      "text/plain": [
       "aggregated_sentiment\n",
       " 0                      1868\n",
       " 1                       475\n",
       "-1                       171\n",
       "Name: count, dtype: int64"
      ]
     },
     "execution_count": 25,
     "metadata": {},
     "output_type": "execute_result"
    }
   ],
   "source": [
    "# Reindex sent_df to follow lstm_df and fill NA\n",
    "print(f\"aggregated_sent_df index range: {aggregated_sent_df.index.min()} to {aggregated_sent_df.index.max()}\")\n",
    "print(f\"lstm_df index range: {lstm_df.index.min()} to {lstm_df.index.max()}\")\n",
    "\n",
    "aggregated_sent_df_reindex = aggregated_sent_df.reindex(lstm_df.index, method=None)\n",
    "aggregated_sent_df_reindex['aggregated_sentiment'] = aggregated_sent_df_reindex['aggregated_sentiment'].fillna(0).astype(int)\n",
    "aggregated_sent_df_reindex.value_counts()"
   ]
  },
  {
   "cell_type": "markdown",
   "metadata": {},
   "source": [
    "There is some inconsistency here that needs to be addressed."
   ]
  },
  {
   "cell_type": "markdown",
   "metadata": {},
   "source": [
    "#### Train-Test Split"
   ]
  },
  {
   "cell_type": "code",
   "execution_count": 26,
   "metadata": {},
   "outputs": [
    {
     "name": "stdout",
     "output_type": "stream",
     "text": [
      "Split Shape: (2011, 1) (503, 1)\n"
     ]
    }
   ],
   "source": [
    "# Train-Test Split\n",
    "split = int(aggregated_sent_df_reindex.shape[0]*0.8)\n",
    "sent_train = aggregated_sent_df_reindex[:split]\n",
    "sent_test = aggregated_sent_df_reindex[split:]\n",
    "\n",
    "print('Split Shape:', sent_train.shape, sent_test.shape)"
   ]
  },
  {
   "cell_type": "markdown",
   "metadata": {},
   "source": [
    "### Concat Method"
   ]
  },
  {
   "cell_type": "code",
   "execution_count": 27,
   "metadata": {},
   "outputs": [],
   "source": [
    "# LSTM Model\n",
    "lstm_input = Input(shape=(X_train.shape[1], X_train.shape[2]), name=\"stock_input\")\n",
    "lstm_output = LSTM(100, name=\"lstm_layer\")(lstm_input)\n",
    "lstm_dense = Dense(32, activation=\"relu\")(lstm_output)"
   ]
  },
  {
   "cell_type": "code",
   "execution_count": 28,
   "metadata": {},
   "outputs": [],
   "source": [
    "# Sentiment Input\n",
    "sentiment_input = Input(shape=(aggregated_sent_df_reindex.shape[1],))\n",
    "sentiment_dense = Dense(8, activation='relu')(sentiment_input)"
   ]
  },
  {
   "cell_type": "code",
   "execution_count": 29,
   "metadata": {},
   "outputs": [],
   "source": [
    "# Concatenate both models\n",
    "concatenated = Concatenate(name=\"concatenation_layer\")([lstm_dense, sentiment_dense])\n",
    "\n",
    "# Add final prediction layers\n",
    "dense_layer = Dense(64, activation='relu', name=\"dense_final\")(concatenated)\n",
    "output = Dense(1, name=\"output_layer\")(dense_layer)\n",
    "\n",
    "# Define the final model\n",
    "model = Model(inputs=[lstm_input, sentiment_input], outputs=output)"
   ]
  },
  {
   "cell_type": "code",
   "execution_count": 30,
   "metadata": {},
   "outputs": [
    {
     "name": "stdout",
     "output_type": "stream",
     "text": [
      "Epoch 1/10\n",
      "63/63 - 1s - 9ms/step - loss: 0.0158\n",
      "Epoch 2/10\n",
      "63/63 - 0s - 878us/step - loss: 0.1055\n",
      "Epoch 3/10\n",
      "63/63 - 0s - 795us/step - loss: 0.0502\n",
      "Epoch 4/10\n",
      "63/63 - 0s - 785us/step - loss: 0.0082\n",
      "Epoch 5/10\n",
      "63/63 - 0s - 780us/step - loss: 0.0011\n",
      "Epoch 6/10\n",
      "63/63 - 0s - 778us/step - loss: 6.0776e-04\n",
      "Epoch 7/10\n",
      "63/63 - 0s - 844us/step - loss: 2.6925e-04\n",
      "Epoch 8/10\n",
      "63/63 - 0s - 795us/step - loss: 2.0362e-04\n",
      "Epoch 9/10\n",
      "63/63 - 0s - 804us/step - loss: 1.9093e-04\n",
      "Epoch 10/10\n",
      "63/63 - 0s - 759us/step - loss: 1.8389e-04\n"
     ]
    },
    {
     "name": "stderr",
     "output_type": "stream",
     "text": [
      "/var/folders/0f/_9krm_xj6v3fx4gv1vgm01mw0000gn/T/ipykernel_1616/3924066876.py:9: UserWarning: No artists with labels found to put in legend.  Note that artists whose label start with an underscore are ignored when legend() is called with no argument.\n",
      "  plt.legend()\n"
     ]
    },
    {
     "data": {
      "image/png": "[encoded data removed]",
      "text/plain": [
       "<Figure size 640x480 with 1 Axes>"
      ]
     },
     "metadata": {},
     "output_type": "display_data"
    }
   ],
   "source": [
    "# Compile the model\n",
    "model.compile(optimizer='adam', loss='mean_squared_error')\n",
    "\n",
    "# Training the model\n",
    "model.fit([X_train, sent_train], y_train, epochs=epochs, batch_size=batch_size, verbose=2, shuffle=False)\n",
    "\n",
    "# Plot training progression\n",
    "plt.plot(history.history['loss'])\n",
    "plt.legend()\n",
    "plt.show()"
   ]
  },
  {
   "cell_type": "code",
   "execution_count": 31,
   "metadata": {},
   "outputs": [
    {
     "name": "stdout",
     "output_type": "stream",
     "text": [
      "\u001b[1m16/16\u001b[0m \u001b[32m━━━━━━━━━━━━━━━━━━━━\u001b[0m\u001b[37m\u001b[0m \u001b[1m0s\u001b[0m 4ms/step\n"
     ]
    }
   ],
   "source": [
    "# Get predicted values\n",
    "yhat = model.predict([X_test, sent_test])\n",
    "\n",
    "# Reshaping back into 2D for inverse scaling\n",
    "X_test_inv = X_test.reshape((X_test.shape[0], X_test.shape[2])) \n",
    "\n",
    "# Concatenate and Inverse Scaling\n",
    "# Prediction\n",
    "concat_inv_yhat = concatenate((X_test_inv, yhat), axis=1) # Required to get back original scale\n",
    "concat_inv_yhat = scaler.inverse_transform(concat_inv_yhat)\n",
    "concat_inv_yhat = concat_inv_yhat[:, num_features*lag_steps] # Extract target_variable"
   ]
  },
  {
   "cell_type": "code",
   "execution_count": 32,
   "metadata": {},
   "outputs": [
    {
     "name": "stdout",
     "output_type": "stream",
     "text": [
      "LSTM Test MAE: 1.422\n",
      "LSTM Test MSE: 7.133\n"
     ]
    }
   ],
   "source": [
    "# Get Test Errors\n",
    "mae = np.sqrt(mean_absolute_error(inv_y, concat_inv_yhat))\n",
    "print('LSTM Test MAE: %.3f' % mae)\n",
    "\n",
    "mse = mean_squared_error(inv_y, concat_inv_yhat)\n",
    "print('LSTM Test MSE: %.3f' % mse)"
   ]
  },
  {
   "cell_type": "markdown",
   "metadata": {},
   "source": [
    "### Actual vs Predicted Plot"
   ]
  },
  {
   "cell_type": "code",
   "execution_count": 33,
   "metadata": {},
   "outputs": [
    {
     "data": {
      "image/png": "[encoded data removed]",
      "text/plain": [
       "<Figure size 1000x600 with 1 Axes>"
      ]
     },
     "metadata": {},
     "output_type": "display_data"
    }
   ],
   "source": [
    "# Convert index to datetime\n",
    "test.index = to_datetime(test.index)\n",
    "\n",
    "# Validation plot\n",
    "plt.figure(figsize=(10, 6))\n",
    "plt.plot(test.index, inv_y, label='Actual')\n",
    "plt.plot(test.index, inv_yhat, label='Predicted_LSTM')\n",
    "plt.plot(test.index, concat_inv_yhat, label='Predicted_Concat')\n",
    "\n",
    "# Format the x-axis to show quarterly ticks\n",
    "plt.gca().xaxis.set_major_locator(mdates.MonthLocator((1,4,7,10)))  # Quarterly ticks\n",
    "plt.gca().xaxis.set_major_formatter(mdates.DateFormatter('%Y-%m'))  # Format as Year-Quarter\n",
    "\n",
    "# Labels and title\n",
    "plt.title('Actual vs Predicted (LSTM & Concat) AAPL Stock Price')\n",
    "plt.xlabel('Date')\n",
    "plt.xticks(rotation=45)\n",
    "plt.ylabel('Price')\n",
    "plt.legend()\n",
    "plt.show()"
   ]
  },
  {
   "cell_type": "code",
   "execution_count": null,
   "metadata": {},
   "outputs": [],
   "source": []
  }
 ],
 "metadata": {
  "kernelspec": {
   "display_name": "MLApps",
   "language": "python",
   "name": "python3"
  },
  "language_info": {
   "codemirror_mode": {
    "name": "ipython",
    "version": 3
   },
   "file_extension": ".py",
   "mimetype": "text/x-python",
   "name": "python",
   "nbconvert_exporter": "python",
   "pygments_lexer": "ipython3",
   "version": "3.12.9"
  }
 },
 "nbformat": 4,
 "nbformat_minor": 2
}
